{
  "cells": [
    {
      "cell_type": "markdown",
      "metadata": {
        "id": "7RRPHy597nHZ"
      },
      "source": [
        "# Preparação dos dados"
      ]
    },
    {
      "cell_type": "code",
      "execution_count": null,
      "metadata": {
        "id": "-dDSZS-y5Jdr",
        "colab": {
          "base_uri": "https://localhost:8080/"
        },
        "outputId": "d74f4cc7-3fdc-49c6-ffeb-a750f589111b"
      },
      "outputs": [
        {
          "output_type": "stream",
          "name": "stdout",
          "text": [
            "Mounted at /content/drive/\n"
          ]
        }
      ],
      "source": [
        "# Lendo drive\n",
        "from google.colab import drive\n",
        "drive.mount('/content/drive/')"
      ]
    },
    {
      "cell_type": "code",
      "execution_count": null,
      "metadata": {
        "id": "Bf-IiNTV4ZV4"
      },
      "outputs": [],
      "source": [
        "# bibliotecas necessárias\n",
        "import os\n",
        "import pandas as pd\n",
        "from matplotlib import pyplot as plt\n",
        "import numpy as np\n",
        "import seaborn as sns\n",
        "import math\n",
        "\n",
        "from sklearn.neighbors import KNeighborsClassifier\n",
        "from sklearn.neural_network import MLPClassifier\n",
        "from sklearn.feature_selection import mutual_info_classif\n",
        "from sklearn.feature_selection import SelectKBest\n",
        "from sklearn.feature_selection import chi2\n",
        "from sklearn.feature_selection import SelectKBest\n",
        "from sklearn.model_selection import train_test_split\n",
        "\n",
        "from sklearn.linear_model import SGDClassifier\n",
        "from sklearn.naive_bayes import GaussianNB\n",
        "from sklearn.naive_bayes import CategoricalNB\n",
        "from sklearn.cluster import KMeans\n",
        "from sklearn.svm import SVC\n",
        "from sklearn.tree import DecisionTreeClassifier\n",
        "from sklearn.ensemble import RandomForestClassifier\n",
        "from sklearn.tree import plot_tree\n",
        "\n",
        "from sklearn.metrics  import roc_curve\n",
        "from sklearn.metrics import accuracy_score\n",
        "from sklearn.metrics import precision_score\n",
        "from sklearn.metrics import recall_score\n",
        "from sklearn.metrics import f1_score\n",
        "\n",
        "#from mlxtend.feature_selection import SequentialFeatureSelector\n",
        "\n",
        "from sklearn.model_selection import cross_val_score\n",
        "from sklearn.model_selection import KFold\n",
        "from imblearn.over_sampling import SMOTE"
      ]
    },
    {
      "cell_type": "markdown",
      "metadata": {
        "id": "lG76bozx4qUf"
      },
      "source": [
        "## Lendo dados "
      ]
    },
    {
      "cell_type": "code",
      "execution_count": null,
      "metadata": {
        "id": "UJKYbDz75yPq"
      },
      "outputs": [],
      "source": [
        "# dados em pasta \n",
        "pasta = '/content/drive/My Drive/DEV_PESQUISA/novos_dados/'"
      ]
    },
    {
      "cell_type": "code",
      "source": [
        "# lendo dados base de dados IDEB 20117 escolas Brasileiras\n",
        "dados17 = pd.read_csv('/content/drive/My Drive/DEV_PESQUISA/TS_ESCOLA2017.csv', encoding=\"ISO-8859-1\")"
      ],
      "metadata": {
        "id": "I2u2pXkI1cCr"
      },
      "execution_count": null,
      "outputs": []
    },
    {
      "cell_type": "code",
      "source": [
        "dados19.head()"
      ],
      "metadata": {
        "colab": {
          "base_uri": "https://localhost:8080/",
          "height": 560
        },
        "id": "u7SQoUwq1s03",
        "outputId": "0e9d115f-c456-4db8-8e78-c9a211ee7f03"
      },
      "execution_count": null,
      "outputs": [
        {
          "output_type": "execute_result",
          "data": {
            "text/plain": [
              "  Sigla da UF  CÃ³digo do MunicÃ­pio     Nome do MunicÃ­pio  \\\n",
              "0          RO              1100015.0  Alta Floresta D'Oeste   \n",
              "1          RO              1100015.0  Alta Floresta D'Oeste   \n",
              "2          RO              1100015.0  Alta Floresta D'Oeste   \n",
              "3          RO              1100015.0  Alta Floresta D'Oeste   \n",
              "4          RO              1100015.0  Alta Floresta D'Oeste   \n",
              "\n",
              "   CÃ³digo da Escola                           Nome da Escola       Rede  \\\n",
              "0         11024666.0                     EMEIEF BOA ESPERANCA  Municipal   \n",
              "1         11024682.0              EEEF EURIDICE LOPES PEDROSO   Estadual   \n",
              "2         11024828.0                   EMEIEF IZIDORO STEDILE  Municipal   \n",
              "3         11024917.0              EMEIEF JOSE BASILIO DA GAMA  Municipal   \n",
              "4         11024968.0  EEEMTI JUSCELINO KUBITSCHEK DE OLIVEIRA   Estadual   \n",
              "\n",
              "  6Âº a 9Âº ano   6Âº   7Âº   8Âº  ... IDEB\\n2017\\n(N x P)  \\\n",
              "0             -     -     -     -  ...                 4.1   \n",
              "1          81.0  75.6  86.2  84.5  ...                   -   \n",
              "2             -     -     -     -  ...                 4.8   \n",
              "3             -     -     -     -  ...                   -   \n",
              "4          78.1  72.0  79.1  94.0  ...                 5.3   \n",
              "\n",
              "  IDEB\\n2019\\n(N x P) 2007 2009 2011 2013 2015 2017 2019 2021  \n",
              "0                   -    -    -  4.3  4.6  4.9  5.2  5.4  5.7  \n",
              "1                   -  3.9  4.1  4.3  4.7  5.1  5.4  5.6  5.8  \n",
              "2                 4.2    -    -  2.8  3.1  3.4  3.7  3.9  4.2  \n",
              "3                   -    -    -  3.6  3.9  4.2  4.5  4.7  5.0  \n",
              "4                   -  3.5  3.7  3.9  4.3  4.7  5.0  5.2  5.5  \n",
              "\n",
              "[5 rows x 94 columns]"
            ],
            "text/html": [
              "\n",
              "  <div id=\"df-ca010181-7832-4393-832d-b518eefcd9dd\">\n",
              "    <div class=\"colab-df-container\">\n",
              "      <div>\n",
              "<style scoped>\n",
              "    .dataframe tbody tr th:only-of-type {\n",
              "        vertical-align: middle;\n",
              "    }\n",
              "\n",
              "    .dataframe tbody tr th {\n",
              "        vertical-align: top;\n",
              "    }\n",
              "\n",
              "    .dataframe thead th {\n",
              "        text-align: right;\n",
              "    }\n",
              "</style>\n",
              "<table border=\"1\" class=\"dataframe\">\n",
              "  <thead>\n",
              "    <tr style=\"text-align: right;\">\n",
              "      <th></th>\n",
              "      <th>Sigla da UF</th>\n",
              "      <th>CÃ³digo do MunicÃ­pio</th>\n",
              "      <th>Nome do MunicÃ­pio</th>\n",
              "      <th>CÃ³digo da Escola</th>\n",
              "      <th>Nome da Escola</th>\n",
              "      <th>Rede</th>\n",
              "      <th>6Âº a 9Âº ano</th>\n",
              "      <th>6Âº</th>\n",
              "      <th>7Âº</th>\n",
              "      <th>8Âº</th>\n",
              "      <th>...</th>\n",
              "      <th>IDEB\\n2017\\n(N x P)</th>\n",
              "      <th>IDEB\\n2019\\n(N x P)</th>\n",
              "      <th>2007</th>\n",
              "      <th>2009</th>\n",
              "      <th>2011</th>\n",
              "      <th>2013</th>\n",
              "      <th>2015</th>\n",
              "      <th>2017</th>\n",
              "      <th>2019</th>\n",
              "      <th>2021</th>\n",
              "    </tr>\n",
              "  </thead>\n",
              "  <tbody>\n",
              "    <tr>\n",
              "      <th>0</th>\n",
              "      <td>RO</td>\n",
              "      <td>1100015.0</td>\n",
              "      <td>Alta Floresta D'Oeste</td>\n",
              "      <td>11024666.0</td>\n",
              "      <td>EMEIEF BOA ESPERANCA</td>\n",
              "      <td>Municipal</td>\n",
              "      <td>-</td>\n",
              "      <td>-</td>\n",
              "      <td>-</td>\n",
              "      <td>-</td>\n",
              "      <td>...</td>\n",
              "      <td>4.1</td>\n",
              "      <td>-</td>\n",
              "      <td>-</td>\n",
              "      <td>-</td>\n",
              "      <td>4.3</td>\n",
              "      <td>4.6</td>\n",
              "      <td>4.9</td>\n",
              "      <td>5.2</td>\n",
              "      <td>5.4</td>\n",
              "      <td>5.7</td>\n",
              "    </tr>\n",
              "    <tr>\n",
              "      <th>1</th>\n",
              "      <td>RO</td>\n",
              "      <td>1100015.0</td>\n",
              "      <td>Alta Floresta D'Oeste</td>\n",
              "      <td>11024682.0</td>\n",
              "      <td>EEEF EURIDICE LOPES PEDROSO</td>\n",
              "      <td>Estadual</td>\n",
              "      <td>81.0</td>\n",
              "      <td>75.6</td>\n",
              "      <td>86.2</td>\n",
              "      <td>84.5</td>\n",
              "      <td>...</td>\n",
              "      <td>-</td>\n",
              "      <td>-</td>\n",
              "      <td>3.9</td>\n",
              "      <td>4.1</td>\n",
              "      <td>4.3</td>\n",
              "      <td>4.7</td>\n",
              "      <td>5.1</td>\n",
              "      <td>5.4</td>\n",
              "      <td>5.6</td>\n",
              "      <td>5.8</td>\n",
              "    </tr>\n",
              "    <tr>\n",
              "      <th>2</th>\n",
              "      <td>RO</td>\n",
              "      <td>1100015.0</td>\n",
              "      <td>Alta Floresta D'Oeste</td>\n",
              "      <td>11024828.0</td>\n",
              "      <td>EMEIEF IZIDORO STEDILE</td>\n",
              "      <td>Municipal</td>\n",
              "      <td>-</td>\n",
              "      <td>-</td>\n",
              "      <td>-</td>\n",
              "      <td>-</td>\n",
              "      <td>...</td>\n",
              "      <td>4.8</td>\n",
              "      <td>4.2</td>\n",
              "      <td>-</td>\n",
              "      <td>-</td>\n",
              "      <td>2.8</td>\n",
              "      <td>3.1</td>\n",
              "      <td>3.4</td>\n",
              "      <td>3.7</td>\n",
              "      <td>3.9</td>\n",
              "      <td>4.2</td>\n",
              "    </tr>\n",
              "    <tr>\n",
              "      <th>3</th>\n",
              "      <td>RO</td>\n",
              "      <td>1100015.0</td>\n",
              "      <td>Alta Floresta D'Oeste</td>\n",
              "      <td>11024917.0</td>\n",
              "      <td>EMEIEF JOSE BASILIO DA GAMA</td>\n",
              "      <td>Municipal</td>\n",
              "      <td>-</td>\n",
              "      <td>-</td>\n",
              "      <td>-</td>\n",
              "      <td>-</td>\n",
              "      <td>...</td>\n",
              "      <td>-</td>\n",
              "      <td>-</td>\n",
              "      <td>-</td>\n",
              "      <td>-</td>\n",
              "      <td>3.6</td>\n",
              "      <td>3.9</td>\n",
              "      <td>4.2</td>\n",
              "      <td>4.5</td>\n",
              "      <td>4.7</td>\n",
              "      <td>5.0</td>\n",
              "    </tr>\n",
              "    <tr>\n",
              "      <th>4</th>\n",
              "      <td>RO</td>\n",
              "      <td>1100015.0</td>\n",
              "      <td>Alta Floresta D'Oeste</td>\n",
              "      <td>11024968.0</td>\n",
              "      <td>EEEMTI JUSCELINO KUBITSCHEK DE OLIVEIRA</td>\n",
              "      <td>Estadual</td>\n",
              "      <td>78.1</td>\n",
              "      <td>72.0</td>\n",
              "      <td>79.1</td>\n",
              "      <td>94.0</td>\n",
              "      <td>...</td>\n",
              "      <td>5.3</td>\n",
              "      <td>-</td>\n",
              "      <td>3.5</td>\n",
              "      <td>3.7</td>\n",
              "      <td>3.9</td>\n",
              "      <td>4.3</td>\n",
              "      <td>4.7</td>\n",
              "      <td>5.0</td>\n",
              "      <td>5.2</td>\n",
              "      <td>5.5</td>\n",
              "    </tr>\n",
              "  </tbody>\n",
              "</table>\n",
              "<p>5 rows × 94 columns</p>\n",
              "</div>\n",
              "      <button class=\"colab-df-convert\" onclick=\"convertToInteractive('df-ca010181-7832-4393-832d-b518eefcd9dd')\"\n",
              "              title=\"Convert this dataframe to an interactive table.\"\n",
              "              style=\"display:none;\">\n",
              "        \n",
              "  <svg xmlns=\"http://www.w3.org/2000/svg\" height=\"24px\"viewBox=\"0 0 24 24\"\n",
              "       width=\"24px\">\n",
              "    <path d=\"M0 0h24v24H0V0z\" fill=\"none\"/>\n",
              "    <path d=\"M18.56 5.44l.94 2.06.94-2.06 2.06-.94-2.06-.94-.94-2.06-.94 2.06-2.06.94zm-11 1L8.5 8.5l.94-2.06 2.06-.94-2.06-.94L8.5 2.5l-.94 2.06-2.06.94zm10 10l.94 2.06.94-2.06 2.06-.94-2.06-.94-.94-2.06-.94 2.06-2.06.94z\"/><path d=\"M17.41 7.96l-1.37-1.37c-.4-.4-.92-.59-1.43-.59-.52 0-1.04.2-1.43.59L10.3 9.45l-7.72 7.72c-.78.78-.78 2.05 0 2.83L4 21.41c.39.39.9.59 1.41.59.51 0 1.02-.2 1.41-.59l7.78-7.78 2.81-2.81c.8-.78.8-2.07 0-2.86zM5.41 20L4 18.59l7.72-7.72 1.47 1.35L5.41 20z\"/>\n",
              "  </svg>\n",
              "      </button>\n",
              "      \n",
              "  <style>\n",
              "    .colab-df-container {\n",
              "      display:flex;\n",
              "      flex-wrap:wrap;\n",
              "      gap: 12px;\n",
              "    }\n",
              "\n",
              "    .colab-df-convert {\n",
              "      background-color: #E8F0FE;\n",
              "      border: none;\n",
              "      border-radius: 50%;\n",
              "      cursor: pointer;\n",
              "      display: none;\n",
              "      fill: #1967D2;\n",
              "      height: 32px;\n",
              "      padding: 0 0 0 0;\n",
              "      width: 32px;\n",
              "    }\n",
              "\n",
              "    .colab-df-convert:hover {\n",
              "      background-color: #E2EBFA;\n",
              "      box-shadow: 0px 1px 2px rgba(60, 64, 67, 0.3), 0px 1px 3px 1px rgba(60, 64, 67, 0.15);\n",
              "      fill: #174EA6;\n",
              "    }\n",
              "\n",
              "    [theme=dark] .colab-df-convert {\n",
              "      background-color: #3B4455;\n",
              "      fill: #D2E3FC;\n",
              "    }\n",
              "\n",
              "    [theme=dark] .colab-df-convert:hover {\n",
              "      background-color: #434B5C;\n",
              "      box-shadow: 0px 1px 3px 1px rgba(0, 0, 0, 0.15);\n",
              "      filter: drop-shadow(0px 1px 2px rgba(0, 0, 0, 0.3));\n",
              "      fill: #FFFFFF;\n",
              "    }\n",
              "  </style>\n",
              "\n",
              "      <script>\n",
              "        const buttonEl =\n",
              "          document.querySelector('#df-ca010181-7832-4393-832d-b518eefcd9dd button.colab-df-convert');\n",
              "        buttonEl.style.display =\n",
              "          google.colab.kernel.accessAllowed ? 'block' : 'none';\n",
              "\n",
              "        async function convertToInteractive(key) {\n",
              "          const element = document.querySelector('#df-ca010181-7832-4393-832d-b518eefcd9dd');\n",
              "          const dataTable =\n",
              "            await google.colab.kernel.invokeFunction('convertToInteractive',\n",
              "                                                     [key], {});\n",
              "          if (!dataTable) return;\n",
              "\n",
              "          const docLinkHtml = 'Like what you see? Visit the ' +\n",
              "            '<a target=\"_blank\" href=https://colab.research.google.com/notebooks/data_table.ipynb>data table notebook</a>'\n",
              "            + ' to learn more about interactive tables.';\n",
              "          element.innerHTML = '';\n",
              "          dataTable['output_type'] = 'display_data';\n",
              "          await google.colab.output.renderOutput(dataTable, element);\n",
              "          const docLink = document.createElement('div');\n",
              "          docLink.innerHTML = docLinkHtml;\n",
              "          element.appendChild(docLink);\n",
              "        }\n",
              "      </script>\n",
              "    </div>\n",
              "  </div>\n",
              "  "
            ]
          },
          "metadata": {},
          "execution_count": 9
        }
      ]
    },
    {
      "cell_type": "code",
      "execution_count": null,
      "metadata": {
        "id": "u965pemK4zTw"
      },
      "outputs": [],
      "source": [
        "# lendo dados base de dados IDEB 2019 escolas Brasileiras\n",
        "dados = pd.read_csv(pasta + 'TS_ESCOLA.csv', encoding=\"ISO-8859-1\")"
      ]
    },
    {
      "cell_type": "code",
      "execution_count": null,
      "metadata": {
        "id": "oAbPHDxi8sDy"
      },
      "outputs": [],
      "source": [
        "dados.head()\n"
      ]
    },
    {
      "cell_type": "code",
      "execution_count": null,
      "metadata": {
        "id": "fJhQn2yu51gx"
      },
      "outputs": [],
      "source": [
        "df_sobre_questoes = pd.read_excel('/content/drive/My Drive/DEV_PESQUISA/Consulta-descricao-questoes.xlsx', sheet_name = 'questoes-esc')"
      ]
    },
    {
      "cell_type": "code",
      "execution_count": null,
      "metadata": {
        "colab": {
          "base_uri": "https://localhost:8080/",
          "height": 206
        },
        "id": "QFPJ6gTN6DAH",
        "outputId": "5edf3a89-0b63-4902-fbbe-6b105d06614e"
      },
      "outputs": [
        {
          "output_type": "execute_result",
          "data": {
            "text/plain": [
              "   Código           Cod   Descrição (texto da pergunta)\n",
              "0     1.0       ID_SAEB        Ano de aplicação do Saeb\n",
              "1     2.0     ID_REGIAO                Código da Região\n",
              "2     3.0         ID_UF  Código da Unidade da Federação\n",
              "3     4.0  ID_MUNICIPIO             Código do Município\n",
              "4     5.0       ID_AREA                            Área"
            ],
            "text/html": [
              "\n",
              "  <div id=\"df-2fc4dadb-3e0e-4eec-867d-340419154269\">\n",
              "    <div class=\"colab-df-container\">\n",
              "      <div>\n",
              "<style scoped>\n",
              "    .dataframe tbody tr th:only-of-type {\n",
              "        vertical-align: middle;\n",
              "    }\n",
              "\n",
              "    .dataframe tbody tr th {\n",
              "        vertical-align: top;\n",
              "    }\n",
              "\n",
              "    .dataframe thead th {\n",
              "        text-align: right;\n",
              "    }\n",
              "</style>\n",
              "<table border=\"1\" class=\"dataframe\">\n",
              "  <thead>\n",
              "    <tr style=\"text-align: right;\">\n",
              "      <th></th>\n",
              "      <th>Código</th>\n",
              "      <th>Cod</th>\n",
              "      <th>Descrição (texto da pergunta)</th>\n",
              "    </tr>\n",
              "  </thead>\n",
              "  <tbody>\n",
              "    <tr>\n",
              "      <th>0</th>\n",
              "      <td>1.0</td>\n",
              "      <td>ID_SAEB</td>\n",
              "      <td>Ano de aplicação do Saeb</td>\n",
              "    </tr>\n",
              "    <tr>\n",
              "      <th>1</th>\n",
              "      <td>2.0</td>\n",
              "      <td>ID_REGIAO</td>\n",
              "      <td>Código da Região</td>\n",
              "    </tr>\n",
              "    <tr>\n",
              "      <th>2</th>\n",
              "      <td>3.0</td>\n",
              "      <td>ID_UF</td>\n",
              "      <td>Código da Unidade da Federação</td>\n",
              "    </tr>\n",
              "    <tr>\n",
              "      <th>3</th>\n",
              "      <td>4.0</td>\n",
              "      <td>ID_MUNICIPIO</td>\n",
              "      <td>Código do Município</td>\n",
              "    </tr>\n",
              "    <tr>\n",
              "      <th>4</th>\n",
              "      <td>5.0</td>\n",
              "      <td>ID_AREA</td>\n",
              "      <td>Área</td>\n",
              "    </tr>\n",
              "  </tbody>\n",
              "</table>\n",
              "</div>\n",
              "      <button class=\"colab-df-convert\" onclick=\"convertToInteractive('df-2fc4dadb-3e0e-4eec-867d-340419154269')\"\n",
              "              title=\"Convert this dataframe to an interactive table.\"\n",
              "              style=\"display:none;\">\n",
              "        \n",
              "  <svg xmlns=\"http://www.w3.org/2000/svg\" height=\"24px\"viewBox=\"0 0 24 24\"\n",
              "       width=\"24px\">\n",
              "    <path d=\"M0 0h24v24H0V0z\" fill=\"none\"/>\n",
              "    <path d=\"M18.56 5.44l.94 2.06.94-2.06 2.06-.94-2.06-.94-.94-2.06-.94 2.06-2.06.94zm-11 1L8.5 8.5l.94-2.06 2.06-.94-2.06-.94L8.5 2.5l-.94 2.06-2.06.94zm10 10l.94 2.06.94-2.06 2.06-.94-2.06-.94-.94-2.06-.94 2.06-2.06.94z\"/><path d=\"M17.41 7.96l-1.37-1.37c-.4-.4-.92-.59-1.43-.59-.52 0-1.04.2-1.43.59L10.3 9.45l-7.72 7.72c-.78.78-.78 2.05 0 2.83L4 21.41c.39.39.9.59 1.41.59.51 0 1.02-.2 1.41-.59l7.78-7.78 2.81-2.81c.8-.78.8-2.07 0-2.86zM5.41 20L4 18.59l7.72-7.72 1.47 1.35L5.41 20z\"/>\n",
              "  </svg>\n",
              "      </button>\n",
              "      \n",
              "  <style>\n",
              "    .colab-df-container {\n",
              "      display:flex;\n",
              "      flex-wrap:wrap;\n",
              "      gap: 12px;\n",
              "    }\n",
              "\n",
              "    .colab-df-convert {\n",
              "      background-color: #E8F0FE;\n",
              "      border: none;\n",
              "      border-radius: 50%;\n",
              "      cursor: pointer;\n",
              "      display: none;\n",
              "      fill: #1967D2;\n",
              "      height: 32px;\n",
              "      padding: 0 0 0 0;\n",
              "      width: 32px;\n",
              "    }\n",
              "\n",
              "    .colab-df-convert:hover {\n",
              "      background-color: #E2EBFA;\n",
              "      box-shadow: 0px 1px 2px rgba(60, 64, 67, 0.3), 0px 1px 3px 1px rgba(60, 64, 67, 0.15);\n",
              "      fill: #174EA6;\n",
              "    }\n",
              "\n",
              "    [theme=dark] .colab-df-convert {\n",
              "      background-color: #3B4455;\n",
              "      fill: #D2E3FC;\n",
              "    }\n",
              "\n",
              "    [theme=dark] .colab-df-convert:hover {\n",
              "      background-color: #434B5C;\n",
              "      box-shadow: 0px 1px 3px 1px rgba(0, 0, 0, 0.15);\n",
              "      filter: drop-shadow(0px 1px 2px rgba(0, 0, 0, 0.3));\n",
              "      fill: #FFFFFF;\n",
              "    }\n",
              "  </style>\n",
              "\n",
              "      <script>\n",
              "        const buttonEl =\n",
              "          document.querySelector('#df-2fc4dadb-3e0e-4eec-867d-340419154269 button.colab-df-convert');\n",
              "        buttonEl.style.display =\n",
              "          google.colab.kernel.accessAllowed ? 'block' : 'none';\n",
              "\n",
              "        async function convertToInteractive(key) {\n",
              "          const element = document.querySelector('#df-2fc4dadb-3e0e-4eec-867d-340419154269');\n",
              "          const dataTable =\n",
              "            await google.colab.kernel.invokeFunction('convertToInteractive',\n",
              "                                                     [key], {});\n",
              "          if (!dataTable) return;\n",
              "\n",
              "          const docLinkHtml = 'Like what you see? Visit the ' +\n",
              "            '<a target=\"_blank\" href=https://colab.research.google.com/notebooks/data_table.ipynb>data table notebook</a>'\n",
              "            + ' to learn more about interactive tables.';\n",
              "          element.innerHTML = '';\n",
              "          dataTable['output_type'] = 'display_data';\n",
              "          await google.colab.output.renderOutput(dataTable, element);\n",
              "          const docLink = document.createElement('div');\n",
              "          docLink.innerHTML = docLinkHtml;\n",
              "          element.appendChild(docLink);\n",
              "        }\n",
              "      </script>\n",
              "    </div>\n",
              "  </div>\n",
              "  "
            ]
          },
          "metadata": {},
          "execution_count": 9
        }
      ],
      "source": [
        "df_sobre_questoes.head()"
      ]
    },
    {
      "cell_type": "code",
      "execution_count": null,
      "metadata": {
        "colab": {
          "base_uri": "https://localhost:8080/",
          "height": 332
        },
        "id": "NNz0WFFuCWy_",
        "outputId": "801e061f-443d-43d3-b93f-e5304c280a8e"
      },
      "outputs": [
        {
          "output_type": "execute_result",
          "data": {
            "text/plain": [
              "        Questaao                       Descrição            A             B  \\\n",
              "0        ID_SAEB        Ano de aplicação do Saeb       2019.0           NaN   \n",
              "1      ID_REGIAO                Código da Região    1 - Norte  2 - Nordeste   \n",
              "2          ID_UF  Código da Unidade da Federação        11-RO         12-AC   \n",
              "3  ID_MUNICIPIO1             Código do Município          NaN           NaN   \n",
              "4        ID_AREA                            Área  1 - Capital  2 - Interior   \n",
              "\n",
              "             C        D                 E      F      G      H  ...      R  \\\n",
              "0          NaN      NaN               NaN    NaN    NaN    NaN  ...    NaN   \n",
              "1  3 - Sudeste  4 - Sul  5 - Centro-Oeste    NaN    NaN    NaN  ...    NaN   \n",
              "2        13-AM    14-RR             15-PA  16-AP  17-TO  21-MA  ...  32-ES   \n",
              "3          NaN      NaN               NaN    NaN    NaN    NaN  ...    NaN   \n",
              "4          NaN      NaN               NaN    NaN    NaN    NaN  ...    NaN   \n",
              "\n",
              "       S      T    O.1      W      X      Y      Z     AA     AB  \n",
              "0    NaN    NaN    NaN    NaN    NaN    NaN    NaN    NaN    NaN  \n",
              "1    NaN    NaN    NaN    NaN    NaN    NaN    NaN    NaN    NaN  \n",
              "2  33-RJ  35-SP  41-PR  42-SC  43-RS  50-MS  51-MT  52-GO  53-DF  \n",
              "3    NaN    NaN    NaN    NaN    NaN    NaN    NaN    NaN    NaN  \n",
              "4    NaN    NaN    NaN    NaN    NaN    NaN    NaN    NaN    NaN  \n",
              "\n",
              "[5 rows x 29 columns]"
            ],
            "text/html": [
              "\n",
              "  <div id=\"df-b92f79ab-aa59-47ad-b579-8f589fc2686e\">\n",
              "    <div class=\"colab-df-container\">\n",
              "      <div>\n",
              "<style scoped>\n",
              "    .dataframe tbody tr th:only-of-type {\n",
              "        vertical-align: middle;\n",
              "    }\n",
              "\n",
              "    .dataframe tbody tr th {\n",
              "        vertical-align: top;\n",
              "    }\n",
              "\n",
              "    .dataframe thead th {\n",
              "        text-align: right;\n",
              "    }\n",
              "</style>\n",
              "<table border=\"1\" class=\"dataframe\">\n",
              "  <thead>\n",
              "    <tr style=\"text-align: right;\">\n",
              "      <th></th>\n",
              "      <th>Questaao</th>\n",
              "      <th>Descrição</th>\n",
              "      <th>A</th>\n",
              "      <th>B</th>\n",
              "      <th>C</th>\n",
              "      <th>D</th>\n",
              "      <th>E</th>\n",
              "      <th>F</th>\n",
              "      <th>G</th>\n",
              "      <th>H</th>\n",
              "      <th>...</th>\n",
              "      <th>R</th>\n",
              "      <th>S</th>\n",
              "      <th>T</th>\n",
              "      <th>O.1</th>\n",
              "      <th>W</th>\n",
              "      <th>X</th>\n",
              "      <th>Y</th>\n",
              "      <th>Z</th>\n",
              "      <th>AA</th>\n",
              "      <th>AB</th>\n",
              "    </tr>\n",
              "  </thead>\n",
              "  <tbody>\n",
              "    <tr>\n",
              "      <th>0</th>\n",
              "      <td>ID_SAEB</td>\n",
              "      <td>Ano de aplicação do Saeb</td>\n",
              "      <td>2019.0</td>\n",
              "      <td>NaN</td>\n",
              "      <td>NaN</td>\n",
              "      <td>NaN</td>\n",
              "      <td>NaN</td>\n",
              "      <td>NaN</td>\n",
              "      <td>NaN</td>\n",
              "      <td>NaN</td>\n",
              "      <td>...</td>\n",
              "      <td>NaN</td>\n",
              "      <td>NaN</td>\n",
              "      <td>NaN</td>\n",
              "      <td>NaN</td>\n",
              "      <td>NaN</td>\n",
              "      <td>NaN</td>\n",
              "      <td>NaN</td>\n",
              "      <td>NaN</td>\n",
              "      <td>NaN</td>\n",
              "      <td>NaN</td>\n",
              "    </tr>\n",
              "    <tr>\n",
              "      <th>1</th>\n",
              "      <td>ID_REGIAO</td>\n",
              "      <td>Código da Região</td>\n",
              "      <td>1 - Norte</td>\n",
              "      <td>2 - Nordeste</td>\n",
              "      <td>3 - Sudeste</td>\n",
              "      <td>4 - Sul</td>\n",
              "      <td>5 - Centro-Oeste</td>\n",
              "      <td>NaN</td>\n",
              "      <td>NaN</td>\n",
              "      <td>NaN</td>\n",
              "      <td>...</td>\n",
              "      <td>NaN</td>\n",
              "      <td>NaN</td>\n",
              "      <td>NaN</td>\n",
              "      <td>NaN</td>\n",
              "      <td>NaN</td>\n",
              "      <td>NaN</td>\n",
              "      <td>NaN</td>\n",
              "      <td>NaN</td>\n",
              "      <td>NaN</td>\n",
              "      <td>NaN</td>\n",
              "    </tr>\n",
              "    <tr>\n",
              "      <th>2</th>\n",
              "      <td>ID_UF</td>\n",
              "      <td>Código da Unidade da Federação</td>\n",
              "      <td>11-RO</td>\n",
              "      <td>12-AC</td>\n",
              "      <td>13-AM</td>\n",
              "      <td>14-RR</td>\n",
              "      <td>15-PA</td>\n",
              "      <td>16-AP</td>\n",
              "      <td>17-TO</td>\n",
              "      <td>21-MA</td>\n",
              "      <td>...</td>\n",
              "      <td>32-ES</td>\n",
              "      <td>33-RJ</td>\n",
              "      <td>35-SP</td>\n",
              "      <td>41-PR</td>\n",
              "      <td>42-SC</td>\n",
              "      <td>43-RS</td>\n",
              "      <td>50-MS</td>\n",
              "      <td>51-MT</td>\n",
              "      <td>52-GO</td>\n",
              "      <td>53-DF</td>\n",
              "    </tr>\n",
              "    <tr>\n",
              "      <th>3</th>\n",
              "      <td>ID_MUNICIPIO1</td>\n",
              "      <td>Código do Município</td>\n",
              "      <td>NaN</td>\n",
              "      <td>NaN</td>\n",
              "      <td>NaN</td>\n",
              "      <td>NaN</td>\n",
              "      <td>NaN</td>\n",
              "      <td>NaN</td>\n",
              "      <td>NaN</td>\n",
              "      <td>NaN</td>\n",
              "      <td>...</td>\n",
              "      <td>NaN</td>\n",
              "      <td>NaN</td>\n",
              "      <td>NaN</td>\n",
              "      <td>NaN</td>\n",
              "      <td>NaN</td>\n",
              "      <td>NaN</td>\n",
              "      <td>NaN</td>\n",
              "      <td>NaN</td>\n",
              "      <td>NaN</td>\n",
              "      <td>NaN</td>\n",
              "    </tr>\n",
              "    <tr>\n",
              "      <th>4</th>\n",
              "      <td>ID_AREA</td>\n",
              "      <td>Área</td>\n",
              "      <td>1 - Capital</td>\n",
              "      <td>2 - Interior</td>\n",
              "      <td>NaN</td>\n",
              "      <td>NaN</td>\n",
              "      <td>NaN</td>\n",
              "      <td>NaN</td>\n",
              "      <td>NaN</td>\n",
              "      <td>NaN</td>\n",
              "      <td>...</td>\n",
              "      <td>NaN</td>\n",
              "      <td>NaN</td>\n",
              "      <td>NaN</td>\n",
              "      <td>NaN</td>\n",
              "      <td>NaN</td>\n",
              "      <td>NaN</td>\n",
              "      <td>NaN</td>\n",
              "      <td>NaN</td>\n",
              "      <td>NaN</td>\n",
              "      <td>NaN</td>\n",
              "    </tr>\n",
              "  </tbody>\n",
              "</table>\n",
              "<p>5 rows × 29 columns</p>\n",
              "</div>\n",
              "      <button class=\"colab-df-convert\" onclick=\"convertToInteractive('df-b92f79ab-aa59-47ad-b579-8f589fc2686e')\"\n",
              "              title=\"Convert this dataframe to an interactive table.\"\n",
              "              style=\"display:none;\">\n",
              "        \n",
              "  <svg xmlns=\"http://www.w3.org/2000/svg\" height=\"24px\"viewBox=\"0 0 24 24\"\n",
              "       width=\"24px\">\n",
              "    <path d=\"M0 0h24v24H0V0z\" fill=\"none\"/>\n",
              "    <path d=\"M18.56 5.44l.94 2.06.94-2.06 2.06-.94-2.06-.94-.94-2.06-.94 2.06-2.06.94zm-11 1L8.5 8.5l.94-2.06 2.06-.94-2.06-.94L8.5 2.5l-.94 2.06-2.06.94zm10 10l.94 2.06.94-2.06 2.06-.94-2.06-.94-.94-2.06-.94 2.06-2.06.94z\"/><path d=\"M17.41 7.96l-1.37-1.37c-.4-.4-.92-.59-1.43-.59-.52 0-1.04.2-1.43.59L10.3 9.45l-7.72 7.72c-.78.78-.78 2.05 0 2.83L4 21.41c.39.39.9.59 1.41.59.51 0 1.02-.2 1.41-.59l7.78-7.78 2.81-2.81c.8-.78.8-2.07 0-2.86zM5.41 20L4 18.59l7.72-7.72 1.47 1.35L5.41 20z\"/>\n",
              "  </svg>\n",
              "      </button>\n",
              "      \n",
              "  <style>\n",
              "    .colab-df-container {\n",
              "      display:flex;\n",
              "      flex-wrap:wrap;\n",
              "      gap: 12px;\n",
              "    }\n",
              "\n",
              "    .colab-df-convert {\n",
              "      background-color: #E8F0FE;\n",
              "      border: none;\n",
              "      border-radius: 50%;\n",
              "      cursor: pointer;\n",
              "      display: none;\n",
              "      fill: #1967D2;\n",
              "      height: 32px;\n",
              "      padding: 0 0 0 0;\n",
              "      width: 32px;\n",
              "    }\n",
              "\n",
              "    .colab-df-convert:hover {\n",
              "      background-color: #E2EBFA;\n",
              "      box-shadow: 0px 1px 2px rgba(60, 64, 67, 0.3), 0px 1px 3px 1px rgba(60, 64, 67, 0.15);\n",
              "      fill: #174EA6;\n",
              "    }\n",
              "\n",
              "    [theme=dark] .colab-df-convert {\n",
              "      background-color: #3B4455;\n",
              "      fill: #D2E3FC;\n",
              "    }\n",
              "\n",
              "    [theme=dark] .colab-df-convert:hover {\n",
              "      background-color: #434B5C;\n",
              "      box-shadow: 0px 1px 3px 1px rgba(0, 0, 0, 0.15);\n",
              "      filter: drop-shadow(0px 1px 2px rgba(0, 0, 0, 0.3));\n",
              "      fill: #FFFFFF;\n",
              "    }\n",
              "  </style>\n",
              "\n",
              "      <script>\n",
              "        const buttonEl =\n",
              "          document.querySelector('#df-b92f79ab-aa59-47ad-b579-8f589fc2686e button.colab-df-convert');\n",
              "        buttonEl.style.display =\n",
              "          google.colab.kernel.accessAllowed ? 'block' : 'none';\n",
              "\n",
              "        async function convertToInteractive(key) {\n",
              "          const element = document.querySelector('#df-b92f79ab-aa59-47ad-b579-8f589fc2686e');\n",
              "          const dataTable =\n",
              "            await google.colab.kernel.invokeFunction('convertToInteractive',\n",
              "                                                     [key], {});\n",
              "          if (!dataTable) return;\n",
              "\n",
              "          const docLinkHtml = 'Like what you see? Visit the ' +\n",
              "            '<a target=\"_blank\" href=https://colab.research.google.com/notebooks/data_table.ipynb>data table notebook</a>'\n",
              "            + ' to learn more about interactive tables.';\n",
              "          element.innerHTML = '';\n",
              "          dataTable['output_type'] = 'display_data';\n",
              "          await google.colab.output.renderOutput(dataTable, element);\n",
              "          const docLink = document.createElement('div');\n",
              "          docLink.innerHTML = docLinkHtml;\n",
              "          element.appendChild(docLink);\n",
              "        }\n",
              "      </script>\n",
              "    </div>\n",
              "  </div>\n",
              "  "
            ]
          },
          "metadata": {},
          "execution_count": 10
        }
      ],
      "source": [
        "# lendo dataframe com informacoes das questoes \n",
        "descricao_questoes_respostas = pd.read_excel('/content/drive/My Drive/DEV_PESQUISA/dicionario_questoes_respostas-esc2.xlsx')\n",
        "descricao_questoes_respostas.head()"
      ]
    },
    {
      "cell_type": "markdown",
      "source": [
        "# Funções para coleta e filtro de informações"
      ],
      "metadata": {
        "id": "YhFrO6Z7rqqa"
      }
    },
    {
      "cell_type": "markdown",
      "metadata": {
        "id": "a5lRuHoq6Gdq"
      },
      "source": [
        "## Criando função para coleta de informações sobre questões "
      ]
    },
    {
      "cell_type": "code",
      "execution_count": null,
      "metadata": {
        "id": "Qh_v_vvP7I43"
      },
      "outputs": [],
      "source": [
        "# funcao para obter texto da Questaao\n",
        "def pegar_questao(questao):\n",
        "  try :\n",
        "    informacoes = descricao_questoes_respostas[descricao_questoes_respostas['Questaao'] == questao]\n",
        "  except NameError as e:\n",
        "    raise NameError('Dataframe não encontrado')\n",
        "  return informacoes"
      ]
    },
    {
      "cell_type": "markdown",
      "source": [
        "## Função para pegar nome dos estados"
      ],
      "metadata": {
        "id": "6j4Y_xuXzOrG"
      }
    },
    {
      "cell_type": "code",
      "source": [
        "# Posição de instância de IF_UF e REGION em dicionário de dados (pois está como linha e não coluna)\n",
        "INSTANCE_STATE_POSITION = 2\n",
        "INSTANCE_REGION_POSITION = 1\n",
        "\n",
        "def get_uf_name(uf_id):\n",
        "  uf_id = str(uf_id)\n",
        "  result_instances = list(descricao_questoes_respostas.iloc[INSTANCE_STATE_POSITION])[2:]\n",
        "  return list(filter(lambda it: uf_id == it.split('-')[0], result_instances))[0]\n",
        "\n",
        "def get_region_name(region_id):\n",
        "  region_id = str(region_id)\n",
        "  result_instances = list(descricao_questoes_respostas.iloc[INSTANCE_REGION_POSITION])[1:7]\n",
        "  return list(filter(lambda it: region_id == it.split(' - ')[0], result_instances))[0]"
      ],
      "metadata": {
        "id": "rj1PGkzyzqIk"
      },
      "execution_count": null,
      "outputs": []
    },
    {
      "cell_type": "markdown",
      "source": [
        "## Funçao para calcular valores estatísticos"
      ],
      "metadata": {
        "id": "Brl9IUyLrvwb"
      }
    },
    {
      "cell_type": "code",
      "source": [
        "def get_statistics(data, column, lvl_economic=None):\n",
        "\n",
        "  if lvl_economic:\n",
        "    result = dict()\n",
        "    levels = data['NIVEL_SOCIO_ECONOMICO'].copy()\n",
        "    levels.dropna(inplace=True)\n",
        "    levels = levels.unique()\n",
        "    for level in levels:\n",
        "      data_field = data[data['NIVEL_SOCIO_ECONOMICO']==level]        \n",
        "      data_field = data_field[column].copy()\n",
        "      data_field.dropna(inplace=True)\n",
        "      result[level] = {\n",
        "        'mean': data_field.mean(),\n",
        "        'median': data_field.median(),\n",
        "        'mode': list(data_field.mode()),\n",
        "        'var': data_field.var(),\n",
        "        'std': data_field.std()\n",
        "      }\n",
        "    return result\n",
        "\n",
        "  data_field = data[column].copy()\n",
        "  data_field.dropna(inplace=True)\n",
        "\n",
        "  return {\n",
        "      'mean': data_field.mean(),\n",
        "      'median': data_field.median(),\n",
        "      'mode': list(data_field.mode()),\n",
        "      'var': data_field.var(),\n",
        "      'std': data_field.std()\n",
        "  }\n",
        "\n",
        "def get_statistics_by_state(data, state, column, lvl_economic=None):\n",
        "  state_data = data[data['ID_UF'] == state]\n",
        "  return get_statistics(state_data, column, lvl_economic=lvl_economic)\n",
        "\n",
        "def get_statistics_by_region(data, region, column, lvl_economic=None):\n",
        "  region_data = data[data['ID_REGIAO'] == region]\n",
        "  return get_statistics(region_data, column, lvl_economic=lvl_economic)\n"
      ],
      "metadata": {
        "id": "tOgZEoFpr1EO"
      },
      "execution_count": null,
      "outputs": []
    },
    {
      "cell_type": "markdown",
      "source": [
        "# Plotando gráficos por estados"
      ],
      "metadata": {
        "id": "i3H8gBu64yJ1"
      }
    },
    {
      "cell_type": "markdown",
      "source": [
        "## MEDIA_5EF_LP"
      ],
      "metadata": {
        "id": "pEcfi9x84z87"
      }
    },
    {
      "cell_type": "code",
      "source": [
        "states = list(map(get_uf_name, dados['ID_UF'].unique()))\n",
        "states_ids = [int(state.split('-')[0]) for state in states]\n",
        "states_names = [state.split('-')[1] for state in states]\n",
        "\n",
        "statistics = list(map(lambda state_id: get_statistics_by_state(dados, state_id, 'MEDIA_5EF_LP'), states_ids))\n",
        "\n",
        "values = [result['mean'] for result in statistics]\n",
        "\n",
        "plt.figure(figsize=(13.5, 4)) \n",
        "plt.bar(states_names, values)\n",
        "plt.xlabel('Estados')\n",
        "plt.ylabel('Valor de Média')\n",
        "plt.title('Mostrando média de 5EF_LP por estado 2019')\n",
        "plt.show()"
      ],
      "metadata": {
        "colab": {
          "base_uri": "https://localhost:8080/",
          "height": 295
        },
        "id": "HrDe0B8i44ZR",
        "outputId": "b1e65d8d-6488-4113-82f0-bcff7f6139d3"
      },
      "execution_count": null,
      "outputs": [
        {
          "output_type": "display_data",
          "data": {
            "text/plain": [
              "<Figure size 972x288 with 1 Axes>"
            ],
            "image/png": "[encoded data removed]"
          },
          "metadata": {
            "needs_background": "light"
          }
        }
      ]
    },
    {
      "cell_type": "code",
      "source": [
        "states = list(map(get_uf_name, dados17['ID_UF'].unique()))\n",
        "states_ids = [int(state.split('-')[0]) for state in states]\n",
        "states_names = [state.split('-')[1] for state in states]\n",
        "\n",
        "statistics = list(map(lambda state_id: get_statistics_by_state(dados17, state_id, 'MEDIA_5EF_LP'), states_ids))\n",
        "\n",
        "values = [result['mean'] for result in statistics]\n",
        "\n",
        "plt.figure(figsize=(13.5, 4)) \n",
        "plt.bar(states_names, values)\n",
        "plt.xlabel('Estados')\n",
        "plt.ylabel('Valor de Média')\n",
        "plt.title('Mostrando média de 5EF_LP por estado 2017')\n",
        "plt.show()"
      ],
      "metadata": {
        "colab": {
          "base_uri": "https://localhost:8080/",
          "height": 295
        },
        "id": "PycU2Qd5HMuW",
        "outputId": "52e1c432-e580-4e84-ddd3-f61b88e3a3f4"
      },
      "execution_count": null,
      "outputs": [
        {
          "output_type": "display_data",
          "data": {
            "text/plain": [
              "<Figure size 972x288 with 1 Axes>"
            ],
            "image/png": "[encoded data removed]"
          },
          "metadata": {
            "needs_background": "light"
          }
        }
      ]
    },
    {
      "cell_type": "code",
      "source": [
        "# !pip install matplotlib==3.4.2 \n",
        "\n",
        "import matplotlib.pyplot as plt \n",
        "\n",
        "states= list(map(get_uf_name, dados['ID_UF'].unique()))\n",
        "states_ids = [int(state.split('-')[0]) for state in states]\n",
        "states_names = [state.split('-')[1] for state in states]\n",
        "\n",
        "statistics17 = list(map(lambda state_id: get_statistics_by_state(dados17, state_id, 'MEDIA_5EF_LP'), states_ids)) \n",
        "statistics19 = list(map(lambda state_id: get_statistics_by_state(dados, state_id, 'MEDIA_5EF_LP'), states_ids))\n",
        "\n",
        "values17 = [result['mean'] for result in statistics17]\n",
        "values19 = [result['mean'] for result in statistics19]\n",
        "\n",
        "x = np.arange(len(states))  # the label locations\n",
        "width = 0.35  # the width of the bars\n",
        "\n",
        "fig, ax = plt.subplots(figsize=(10.5,5.5))\n",
        "rects1 = ax.bar(x - width/2, values17, width, label='2017')\n",
        "rects2 = ax.bar(x + width/2, values19, width, label='2019')\n",
        "\n",
        "# Add some text for labels, title and custom x-axis tick labels, etc.\n",
        "ax.set_ylabel('Média')\n",
        "ax.set_title('Comparando resultado da media _5RF_LP de 2017 e 2019')\n",
        "ax.set_xticks(x)\n",
        "ax.set_xticklabels(states_names)\n",
        "ax.legend()\n",
        "\n",
        "# ax.bar_label(rects1, padding=3)\n",
        "# ax.bar_label(rects2, padding=3)\n",
        "\n",
        "fig.tight_layout()\n",
        "\n",
        "plt.show()"
      ],
      "metadata": {
        "colab": {
          "base_uri": "https://localhost:8080/",
          "height": 54
        },
        "id": "4_jinl2YH893",
        "outputId": "c6bdac97-74c5-4d40-c4be-5fe3d82034ad"
      },
      "execution_count": null,
      "outputs": [
        {
          "output_type": "display_data",
          "data": {
            "text/plain": [
              "<Figure size 756x396 with 1 Axes>"
            ],
            "image/png": "[encoded data removed]"
          },
          "metadata": {
            "needs_background": "light"
          }
        }
      ]
    },
    {
      "cell_type": "code",
      "source": [
        "# Resultado da diferença entre 2019 2017\n",
        "for state in range(len(states_names)):\n",
        "  print(f'{states_names[state]}: {values19[state]} - {values17[state]} = {values19[state] - values17[state]}')"
      ],
      "metadata": {
        "colab": {
          "base_uri": "https://localhost:8080/"
        },
        "id": "D7BxjuwrLQ3G",
        "outputId": "24e9021e-f1fd-4045-b29b-b9efe1fa8c86"
      },
      "execution_count": null,
      "outputs": [
        {
          "output_type": "stream",
          "name": "stdout",
          "text": [
            "RO: 200.18388758782203 - 207.69051975051957 = -7.506632162697542\n",
            "AC: 207.62711790393018 - 209.09382812499985 = -1.4667102210696612\n",
            "AM: 191.7749671052629 - 190.19359890109905 = 1.5813682041638515\n",
            "RR: 181.65108910891084 - 184.3635042735043 = -2.712415164593466\n",
            "PA: 181.2451338306278 - 177.7520846788658 = 3.493049151761994\n",
            "AP: 181.15862944162424 - 174.85651260504181 = 6.302116836582428\n",
            "TO: 195.4182494004796 - 193.79213307240687 = 1.626116328072726\n",
            "MA: 177.84494013303714 - 173.19756206002216 = 4.647378073014977\n",
            "PI: 196.01029580152667 - 188.77769999999992 = 7.232595801526742\n",
            "CE: 218.63063398140343 - 216.67921042395952 = 1.951423557443917\n",
            "RN: 185.417313253012 - 182.32548698167795 = 3.0918262713340425\n",
            "PB: 191.95020351526375 - 186.24748240813136 = 5.70272110713239\n",
            "PE: 194.12671525247285 - 191.48730991337843 = 2.6394053390944237\n",
            "AL: 192.19248044692765 - 187.35040525739322 = 4.842075189534427\n",
            "SE: 183.02248803827754 - 179.43726315789482 = 3.585224880382725\n",
            "BA: 189.33208702882536 - 186.73280566898873 = 2.599281359836624\n",
            "MG: 216.59656079854818 - 219.64970155440398 = -3.053140755855793\n",
            "ES: 216.10834939758988 - 213.684082969432 = 2.424266428157864\n",
            "RJ: 209.70231244483676 - 209.29776095617572 = 0.40455148866104196\n",
            "SP: 223.8949332176934 - 225.71668135814568 = -1.8217481404522857\n",
            "PR: 225.59370828182963 - 224.0938695652173 = 1.499838716612345\n",
            "SC: 222.39499413145518 - 222.72625641025607 = -0.3312622788008923\n",
            "RS: 219.7479873966129 - 212.90420281528318 = 6.8437845813297145\n",
            "MS: 208.33309121621633 - 210.00152492668627 = -1.668433710469941\n",
            "MT: 201.53052429667534 - 201.8794579008073 = -0.3489336041319575\n",
            "GO: 215.39532310177714 - 215.4434468085102 = -0.04812370673306532\n",
            "DF: 221.82381656804736 - 220.4982621082622 = 1.3255544597851667\n"
          ]
        }
      ]
    },
    {
      "cell_type": "markdown",
      "source": [
        "## MEDIA_5EF_MT"
      ],
      "metadata": {
        "id": "bRT3D-8tNNn4"
      }
    },
    {
      "cell_type": "code",
      "source": [
        "states = list(map(get_uf_name, dados['ID_UF'].unique()))\n",
        "states_ids = [int(state.split('-')[0]) for state in states]\n",
        "states_names = [state.split('-')[1] for state in states]\n",
        "\n",
        "statistics = list(map(lambda state_id: get_statistics_by_state(dados, state_id, 'MEDIA_5EF_MT'), states_ids))\n",
        "\n",
        "values = [result['mean'] for result in statistics]\n",
        "\n",
        "plt.figure(figsize=(13.5, 4)) \n",
        "plt.bar(states_names, values)\n",
        "plt.xlabel('Estados')\n",
        "plt.ylabel('Valor de Média')\n",
        "plt.title('Mostrando média de 5EF_MT por estado 2019')\n",
        "plt.show()"
      ],
      "metadata": {
        "colab": {
          "base_uri": "https://localhost:8080/",
          "height": 54
        },
        "outputId": "8170cb60-4305-4bd3-e209-9f4917de2cb5",
        "id": "77-svwe-NNn6"
      },
      "execution_count": null,
      "outputs": [
        {
          "output_type": "display_data",
          "data": {
            "text/plain": [
              "<Figure size 972x288 with 1 Axes>"
            ],
            "image/png": "[encoded data removed]"
          },
          "metadata": {
            "needs_background": "light"
          }
        }
      ]
    },
    {
      "cell_type": "code",
      "source": [
        "states = list(map(get_uf_name, dados17['ID_UF'].unique()))\n",
        "states_ids = [int(state.split('-')[0]) for state in states]\n",
        "states_names = [state.split('-')[1] for state in states]\n",
        "\n",
        "statistics = list(map(lambda state_id: get_statistics_by_state(dados17, state_id, 'MEDIA_5EF_MT'), states_ids))\n",
        "\n",
        "values = [result['mean'] for result in statistics]\n",
        "\n",
        "plt.figure(figsize=(13.5, 4)) \n",
        "plt.bar(states_names, values)\n",
        "plt.xlabel('Estados')\n",
        "plt.ylabel('Valor de Média')\n",
        "plt.title('Mostrando média de 5EF_MT por estado 2017')\n",
        "plt.show()"
      ],
      "metadata": {
        "colab": {
          "base_uri": "https://localhost:8080/",
          "height": 54
        },
        "outputId": "b4da4d02-ae12-449e-eceb-4233d41d6697",
        "id": "wNtIo3X3NNn9"
      },
      "execution_count": null,
      "outputs": [
        {
          "output_type": "display_data",
          "data": {
            "text/plain": [
              "<Figure size 972x288 with 1 Axes>"
            ],
            "image/png": "[encoded data removed]"
          },
          "metadata": {
            "needs_background": "light"
          }
        }
      ]
    },
    {
      "cell_type": "code",
      "source": [
        "# !pip install matplotlib==3.4.2 \n",
        "\n",
        "import matplotlib.pyplot as plt \n",
        "\n",
        "states= list(map(get_uf_name, dados['ID_UF'].unique()))\n",
        "states_ids = [int(state.split('-')[0]) for state in states]\n",
        "states_names = [state.split('-')[1] for state in states]\n",
        "\n",
        "statistics17 = list(map(lambda state_id: get_statistics_by_state(dados17, state_id, 'MEDIA_5EF_MT'), states_ids)) \n",
        "statistics19 = list(map(lambda state_id: get_statistics_by_state(dados, state_id, 'MEDIA_5EF_MT'), states_ids))\n",
        "\n",
        "values17 = [result['mean'] for result in statistics17]\n",
        "values19 = [result['mean'] for result in statistics19]\n",
        "\n",
        "x = np.arange(len(states))  # the label locations\n",
        "width = 0.35  # the width of the bars\n",
        "\n",
        "fig, ax = plt.subplots(figsize=(10.5,5.5))\n",
        "rects1 = ax.bar(x - width/2, values17, width, label='2017')\n",
        "rects2 = ax.bar(x + width/2, values19, width, label='2019')\n",
        "\n",
        "# Add some text for labels, title and custom x-axis tick labels, etc.\n",
        "ax.set_ylabel('Média')\n",
        "ax.set_title('Comparando resultado da media 5EF_MT de 2017 e 2019')\n",
        "ax.set_xticks(x)\n",
        "ax.set_xticklabels(states_names)\n",
        "ax.legend()\n",
        "\n",
        "# ax.bar_label(rects1, padding=3)\n",
        "# ax.bar_label(rects2, padding=3)\n",
        "\n",
        "fig.tight_layout()\n",
        "\n",
        "plt.show()"
      ],
      "metadata": {
        "colab": {
          "base_uri": "https://localhost:8080/",
          "height": 54
        },
        "outputId": "67946599-0eed-4ce9-97d5-7d3970c68b04",
        "id": "JLUny76UNNoA"
      },
      "execution_count": null,
      "outputs": [
        {
          "output_type": "display_data",
          "data": {
            "text/plain": [
              "<Figure size 756x396 with 1 Axes>"
            ],
            "image/png": "[encoded data removed]"
          },
          "metadata": {
            "needs_background": "light"
          }
        }
      ]
    },
    {
      "cell_type": "code",
      "source": [
        "# Resultado da diferença entre 2019 2017\n",
        "for state in range(len(states_names)):\n",
        "  print(f'{states_names[state]}: {values19[state]} - {values17[state]} = {values19[state] - values17[state]}')"
      ],
      "metadata": {
        "colab": {
          "base_uri": "https://localhost:8080/"
        },
        "outputId": "473ddad7-ca43-4cbc-baa4-470089ef91e5",
        "id": "h3IcQX0SNNoB"
      },
      "execution_count": null,
      "outputs": [
        {
          "output_type": "stream",
          "name": "stdout",
          "text": [
            "RO: 215.3249882903982 - 219.0297505197505 = -3.7047622293522977\n",
            "AC: 221.74144104803477 - 220.41867187499997 = 1.3227691730348\n",
            "AM: 204.9069627192983 - 200.620082417582 = 4.28688030171628\n",
            "RR: 195.8332673267327 - 196.93051282051277 = -1.0972454937800649\n",
            "PA: 193.20078104431744 - 186.62750986724052 = 6.5732711770769185\n",
            "AP: 191.6660913705584 - 183.27764705882348 = 8.38844431173493\n",
            "TO: 210.41589928057553 - 204.05434442270058 = 6.36155485787495\n",
            "MA: 190.95645232815968 - 182.04703593923725 = 8.909416388922438\n",
            "PI: 210.18292938931273 - 198.5688583333332 = 11.614071055979537\n",
            "CE: 232.7961200338121 - 225.70402956048224 = 7.092090473329847\n",
            "RN: 196.29997590361418 - 190.73756027000968 = 5.562415633604502\n",
            "PB: 204.94652173913047 - 196.5709695074277 = 8.375552231702784\n",
            "PE: 209.6128370640289 - 201.5430943214632 = 8.069742742565694\n",
            "AL: 209.77621229050297 - 199.72886089813795 = 10.047351392365016\n",
            "SE: 197.19496012759183 - 191.10155263157898 = 6.093407496012844\n",
            "BA: 201.69273835920174 - 195.7789791016092 = 5.913759257592545\n",
            "MG: 229.75280172413773 - 228.30616373056918 = 1.4466379935685438\n",
            "ES: 229.5476144578316 - 223.38753275109167 = 6.1600817067399305\n",
            "RJ: 221.25798323036167 - 217.27254581673347 = 3.9854374136282047\n",
            "SP: 240.8260242844754 - 237.94920829252376 = 2.876815991951645\n",
            "PR: 242.7019571487433 - 237.58916600790522 = 5.112791140838084\n",
            "SC: 233.79350938967127 - 231.57666666666682 = 2.216842723004447\n",
            "RS: 230.09651831429704 - 222.52626831370327 = 7.570250000593774\n",
            "MS: 219.7093074324323 - 217.51564516129025 = 2.1936622711420455\n",
            "MT: 213.14786445012788 - 210.71846597462522 = 2.4293984755026656\n",
            "GO: 226.47179321486308 - 222.61051063829814 = 3.861282576564946\n",
            "DF: 233.66846153846151 - 229.64612535612562 = 4.022336182335891\n"
          ]
        }
      ]
    },
    {
      "cell_type": "markdown",
      "source": [
        "## MEDIA_9EF_LP"
      ],
      "metadata": {
        "id": "tsztlIhlNO1c"
      }
    },
    {
      "cell_type": "code",
      "source": [
        "states = list(map(get_uf_name, dados['ID_UF'].unique()))\n",
        "states_ids = [int(state.split('-')[0]) for state in states]\n",
        "states_names = [state.split('-')[1] for state in states]\n",
        "\n",
        "statistics = list(map(lambda state_id: get_statistics_by_state(dados, state_id, 'MEDIA_9EF_LP'), states_ids))\n",
        "\n",
        "values = [result['mean'] for result in statistics]\n",
        "\n",
        "plt.figure(figsize=(13.5, 4)) \n",
        "plt.bar(states_names, values)\n",
        "plt.xlabel('Estados')\n",
        "plt.ylabel('Valor de Média')\n",
        "plt.title('Mostrando média de 9EF_LP por estado 2019')\n",
        "plt.show()"
      ],
      "metadata": {
        "colab": {
          "base_uri": "https://localhost:8080/",
          "height": 54
        },
        "outputId": "26227ea6-2b08-41b1-c88c-289ead1b78af",
        "id": "G8tzwgGhNO1d"
      },
      "execution_count": null,
      "outputs": [
        {
          "output_type": "display_data",
          "data": {
            "text/plain": [
              "<Figure size 972x288 with 1 Axes>"
            ],
            "image/png": "[encoded data removed]"
          },
          "metadata": {
            "needs_background": "light"
          }
        }
      ]
    },
    {
      "cell_type": "code",
      "source": [
        "states = list(map(get_uf_name, dados17['ID_UF'].unique()))\n",
        "states_ids = [int(state.split('-')[0]) for state in states]\n",
        "states_names = [state.split('-')[1] for state in states]\n",
        "\n",
        "statistics = list(map(lambda state_id: get_statistics_by_state(dados17, state_id, 'MEDIA_9EF_LP'), states_ids))\n",
        "\n",
        "values = [result['mean'] for result in statistics]\n",
        "\n",
        "plt.figure(figsize=(13.5, 4)) \n",
        "plt.bar(states_names, values)\n",
        "plt.xlabel('Estados')\n",
        "plt.ylabel('Valor de Média')\n",
        "plt.title('Mostrando média de 9EF_LP por estado 2017')\n",
        "plt.show()"
      ],
      "metadata": {
        "colab": {
          "base_uri": "https://localhost:8080/",
          "height": 54
        },
        "outputId": "5996a15c-86fe-4399-c597-78e82f91b60d",
        "id": "2_virGqzNO1e"
      },
      "execution_count": null,
      "outputs": [
        {
          "output_type": "display_data",
          "data": {
            "text/plain": [
              "<Figure size 972x288 with 1 Axes>"
            ],
            "image/png": "[encoded data removed]"
          },
          "metadata": {
            "needs_background": "light"
          }
        }
      ]
    },
    {
      "cell_type": "code",
      "source": [
        "# !pip install matplotlib==3.4.2 \n",
        "\n",
        "import matplotlib.pyplot as plt \n",
        "\n",
        "states= list(map(get_uf_name, dados['ID_UF'].unique()))\n",
        "states_ids = [int(state.split('-')[0]) for state in states]\n",
        "states_names = [state.split('-')[1] for state in states]\n",
        "\n",
        "statistics17 = list(map(lambda state_id: get_statistics_by_state(dados17, state_id, 'MEDIA_9EF_LP'), states_ids)) \n",
        "statistics19 = list(map(lambda state_id: get_statistics_by_state(dados, state_id, 'MEDIA_9EF_LP'), states_ids))\n",
        "\n",
        "values17 = [result['mean'] for result in statistics17]\n",
        "values19 = [result['mean'] for result in statistics19]\n",
        "\n",
        "x = np.arange(len(states))  # the label locations\n",
        "width = 0.35  # the width of the bars\n",
        "\n",
        "fig, ax = plt.subplots(figsize=(10.5,5.5))\n",
        "rects1 = ax.bar(x - width/2, values17, width, label='2017')\n",
        "rects2 = ax.bar(x + width/2, values19, width, label='2019')\n",
        "\n",
        "# Add some text for labels, title and custom x-axis tick labels, etc.\n",
        "ax.set_ylabel('Média')\n",
        "ax.set_title('Comparando resultado da media 9EF_LP de 2017 e 2019')\n",
        "ax.set_xticks(x)\n",
        "ax.set_xticklabels(states_names)\n",
        "ax.legend()\n",
        "\n",
        "# ax.bar_label(rects1, padding=3)\n",
        "# ax.bar_label(rects2, padding=3)\n",
        "\n",
        "fig.tight_layout()\n",
        "\n",
        "plt.show()"
      ],
      "metadata": {
        "colab": {
          "base_uri": "https://localhost:8080/",
          "height": 54
        },
        "outputId": "d235a046-8a58-48f7-fc30-09b6e832034c",
        "id": "1FRuB6ujNO1f"
      },
      "execution_count": null,
      "outputs": [
        {
          "output_type": "display_data",
          "data": {
            "text/plain": [
              "<Figure size 756x396 with 1 Axes>"
            ],
            "image/png": "[encoded data removed]"
          },
          "metadata": {
            "needs_background": "light"
          }
        }
      ]
    },
    {
      "cell_type": "code",
      "source": [
        "# Resultado da diferença entre 2019 2017\n",
        "for state in range(len(states_names)):\n",
        "  print(f'{states_names[state]}: {values19[state]} - {values17[state]} = {values19[state] - values17[state]}')"
      ],
      "metadata": {
        "colab": {
          "base_uri": "https://localhost:8080/"
        },
        "outputId": "303b6e1c-5f45-483d-9c66-f2d58e96283d",
        "id": "nb95ELQsNO1f"
      },
      "execution_count": null,
      "outputs": [
        {
          "output_type": "stream",
          "name": "stdout",
          "text": [
            "RO: 252.9652296819788 - 255.0585597826085 = -2.0933301006297143\n",
            "AC: 249.96124031007744 - 245.77109826589592 = 4.190142044181528\n",
            "AM: 238.7594788273617 - 236.95693057247257 = 1.8025482548891318\n",
            "RR: 227.0816666666667 - 233.33592233009708 = -6.254255663430371\n",
            "PA: 234.0878604963111 - 228.10323711340249 = 5.984623382908609\n",
            "AP: 231.98330000000013 - 222.87267515923577 = 9.110624840764359\n",
            "TO: 243.61895384615391 - 245.41594594594602 = -1.7969920997921065\n",
            "MA: 230.2991291810843 - 222.62268732654962 = 7.676441854534687\n",
            "PI: 246.61816949152563 - 237.9235523809525 = 8.694617110573148\n",
            "CE: 262.59297216699827 - 257.6352591599645 = 4.95771300703376\n",
            "RN: 240.75830227743273 - 236.95171503957826 = 3.8065872378544725\n",
            "PB: 244.50337349397586 - 236.63330011074197 = 7.870073383233887\n",
            "PE: 248.11356868764446 - 242.68821505376357 = 5.4253536338808885\n",
            "AL: 244.69941406249993 - 239.2924169741699 = 5.40699708833003\n",
            "SE: 242.30607235142136 - 238.0944054580898 = 4.211666893331568\n",
            "BA: 238.7012472259207 - 232.53806980056993 = 6.163177425350767\n",
            "MG: 255.3349774300335 - 253.475631929046 = 1.8593455009875015\n",
            "ES: 259.6123833333335 - 257.6855510204082 = 1.9268323129253417\n",
            "RJ: 255.43743570903774 - 252.16690148596598 = 3.2705342230717633\n",
            "SP: 262.59183779119854 - 256.6922904368353 = 5.8995473543632215\n",
            "PR: 262.6669185667752 - 260.0371268237935 = 2.629791742981695\n",
            "SC: 265.7391931330469 - 263.63302063789905 = 2.1061724951478595\n",
            "RS: 266.12247148288947 - 260.7091010865982 = 5.4133703962912705\n",
            "MS: 257.6165028901732 - 257.85756097560966 = -0.2410580854364639\n",
            "MT: 246.22144897959186 - 244.07612903225828 = 2.145319947333576\n",
            "GO: 262.47380236305077 - 262.28916299559467 = 0.1846393674561\n",
            "DF: 256.8858870967743 - 254.05834224598914 = 2.8275448507851593\n"
          ]
        }
      ]
    },
    {
      "cell_type": "markdown",
      "source": [
        "## MEDIA_9EF_MT"
      ],
      "metadata": {
        "id": "8rVB5_jdNP23"
      }
    },
    {
      "cell_type": "code",
      "source": [
        "states = list(map(get_uf_name, dados['ID_UF'].unique()))\n",
        "states_ids = [int(state.split('-')[0]) for state in states]\n",
        "states_names = [state.split('-')[1] for state in states]\n",
        "\n",
        "statistics = list(map(lambda state_id: get_statistics_by_state(dados, state_id, 'MEDIA_9EF_MT'), states_ids))\n",
        "\n",
        "values = [result['mean'] for result in statistics]\n",
        "\n",
        "plt.figure(figsize=(13.5, 4)) \n",
        "plt.bar(states_names, values)\n",
        "plt.xlabel('Estados')\n",
        "plt.ylabel('Valor de Média')\n",
        "plt.title('Mostrando média de 9EF_MT por estado 2019')\n",
        "plt.show()"
      ],
      "metadata": {
        "colab": {
          "base_uri": "https://localhost:8080/",
          "height": 54
        },
        "outputId": "93246447-3e80-488c-b8c5-6ca1e461e0ef",
        "id": "cGvwzm2ANP24"
      },
      "execution_count": null,
      "outputs": [
        {
          "output_type": "display_data",
          "data": {
            "text/plain": [
              "<Figure size 972x288 with 1 Axes>"
            ],
            "image/png": "[encoded data removed]"
          },
          "metadata": {
            "needs_background": "light"
          }
        }
      ]
    },
    {
      "cell_type": "code",
      "source": [
        "states = list(map(get_uf_name, dados17['ID_UF'].unique()))\n",
        "states_ids = [int(state.split('-')[0]) for state in states]\n",
        "states_names = [state.split('-')[1] for state in states]\n",
        "\n",
        "statistics = list(map(lambda state_id: get_statistics_by_state(dados17, state_id, 'MEDIA_9EF_MT'), states_ids))\n",
        "\n",
        "values = [result['mean'] for result in statistics]\n",
        "\n",
        "plt.figure(figsize=(13.5, 4)) \n",
        "plt.bar(states_names, values)\n",
        "plt.xlabel('Estados')\n",
        "plt.ylabel('Valor de Média')\n",
        "plt.title('Mostrando média de 9EF_MT por estado 2017')\n",
        "plt.show()"
      ],
      "metadata": {
        "colab": {
          "base_uri": "https://localhost:8080/",
          "height": 54
        },
        "outputId": "942649b8-fc4c-445d-d397-9ea21f923b09",
        "id": "1e0KsIEjNP26"
      },
      "execution_count": null,
      "outputs": [
        {
          "output_type": "display_data",
          "data": {
            "text/plain": [
              "<Figure size 972x288 with 1 Axes>"
            ],
            "image/png": "[encoded data removed]"
          },
          "metadata": {
            "needs_background": "light"
          }
        }
      ]
    },
    {
      "cell_type": "code",
      "source": [
        "# !pip install matplotlib==3.4.2 \n",
        "\n",
        "import matplotlib.pyplot as plt \n",
        "\n",
        "states= list(map(get_uf_name, dados['ID_UF'].unique()))\n",
        "states_ids = [int(state.split('-')[0]) for state in states]\n",
        "states_names = [state.split('-')[1] for state in states]\n",
        "\n",
        "statistics17 = list(map(lambda state_id: get_statistics_by_state(dados17, state_id, 'MEDIA_9EF_MT'), states_ids)) \n",
        "statistics19 = list(map(lambda state_id: get_statistics_by_state(dados, state_id, 'MEDIA_9EF_MT'), states_ids))\n",
        "\n",
        "values17 = [result['mean'] for result in statistics17]\n",
        "values19 = [result['mean'] for result in statistics19]\n",
        "\n",
        "x = np.arange(len(states))  # the label locations\n",
        "width = 0.35  # the width of the bars\n",
        "\n",
        "fig, ax = plt.subplots(figsize=(10.5,5.8))\n",
        "rects1 = ax.bar(x - width/2, values17, width, label='2017')\n",
        "rects2 = ax.bar(x + width/2, values19, width, label='2019')\n",
        "\n",
        "# Add some text for labels, title and custom x-axis tick labels, etc.\n",
        "ax.set_ylabel('Média')\n",
        "ax.set_title('Comparando resultado da media 9EF_MT de 2017 e 2019')\n",
        "ax.set_xticks(x)\n",
        "ax.set_xticklabels(states_names)\n",
        "ax.legend()\n",
        "\n",
        "# ax.bar_label(rects1, padding=3)\n",
        "# ax.bar_label(rects2, padding=3)\n",
        "\n",
        "fig.tight_layout()\n",
        "\n",
        "plt.show()"
      ],
      "metadata": {
        "colab": {
          "base_uri": "https://localhost:8080/",
          "height": 54
        },
        "outputId": "969ee712-2b9c-4349-9c3d-58e1a51069d7",
        "id": "NzoQkqjONP28"
      },
      "execution_count": null,
      "outputs": [
        {
          "output_type": "display_data",
          "data": {
            "text/plain": [
              "<Figure size 756x417.6 with 1 Axes>"
            ],
            "image/png": "[encoded data removed]"
          },
          "metadata": {
            "needs_background": "light"
          }
        }
      ]
    },
    {
      "cell_type": "code",
      "source": [
        "# Resultado da diferença entre 2019 2017\n",
        "for state in range(len(states_names)):\n",
        "  print(f'{states_names[state]}: {values19[state]} - {values17[state]} = {values19[state] - values17[state]}')"
      ],
      "metadata": {
        "colab": {
          "base_uri": "https://localhost:8080/"
        },
        "outputId": "b357a73e-4157-4acc-99bb-e9c729c270b4",
        "id": "pThn_3JhNP2-"
      },
      "execution_count": null,
      "outputs": [
        {
          "output_type": "stream",
          "name": "stdout",
          "text": [
            "RO: 257.6713074204947 - 255.87361413043476 = 1.7976932900599536\n",
            "AC: 250.30263565891468 - 243.27468208092498 = 7.027953577989706\n",
            "AM: 236.99574918566782 - 231.59204628501868 = 5.403702900649137\n",
            "RR: 228.22358974358963 - 232.35883495145634 = -4.135245207866717\n",
            "PA: 233.43615694165018 - 224.5807731958761 = 8.855383745774077\n",
            "AP: 227.38269999999997 - 217.4689808917198 = 9.913719108280162\n",
            "TO: 249.09092307692296 - 246.26675675675693 = 2.8241663201660288\n",
            "MA: 228.40204728950434 - 219.0179648473636 = 9.384082442140738\n",
            "PI: 250.68648587570613 - 238.11170476190452 = 12.574781113801606\n",
            "CE: 265.8946123260436 - 255.86478105451323 = 10.029831271530384\n",
            "RN: 241.9808074534161 - 233.1843535620053 = 8.796453891410806\n",
            "PB: 245.632623828648 - 233.87558139534892 = 11.757042433299091\n",
            "PE: 251.84639293937067 - 241.26921146953384 = 10.57718146983683\n",
            "AL: 249.71394531250007 - 238.27846863468636 = 11.43547667781371\n",
            "SE: 244.52767441860462 - 237.80358674463935 = 6.724087673965272\n",
            "BA: 240.46350643586382 - 230.82310185185233 = 9.640404584011492\n",
            "MG: 259.50315979536515 - 254.17181325449664 = 5.331346540868509\n",
            "ES: 266.43951666666686 - 260.9726258503402 = 5.466890816326668\n",
            "RJ: 256.54290227773697 - 250.01230599889885 = 6.530596278838118\n",
            "SP: 264.422952976704 - 255.26876229830728 = 9.154190678396702\n",
            "PR: 269.07764169381113 - 261.98148709315376 = 7.096154600657371\n",
            "SC: 271.2844463519313 - 265.433658536585 = 5.85078781534628\n",
            "RS: 269.1872406300925 - 260.9166809351333 = 8.270559694959218\n",
            "MS: 261.4570809248554 - 257.0630662020906 = 4.39401472276478\n",
            "MT: 248.57848979591824 - 243.50492286114996 = 5.07356693476828\n",
            "GO: 263.41385606874326 - 258.9709427312774 = 4.442913337465882\n",
            "DF: 259.48129032258055 - 255.2826203208556 = 4.198670001724935\n"
          ]
        }
      ]
    },
    {
      "cell_type": "markdown",
      "source": [
        "# Plotando gráficos por região"
      ],
      "metadata": {
        "id": "teBte7ziOupy"
      }
    },
    {
      "cell_type": "markdown",
      "source": [
        "## MEDIA_5EF_LP"
      ],
      "metadata": {
        "id": "2npsiJQDOup1"
      }
    },
    {
      "cell_type": "code",
      "source": [
        "regions = list(map(get_region_name, dados['ID_REGIAO'].unique()))\n",
        "region_ids = [int(region.split('-')[0]) for region in regions]\n",
        "region_names = [region.split('-')[1] for region in regions]\n",
        "\n",
        "statistics19 = list(map(lambda region_id: get_statistics_by_region(dados, region_id, 'MEDIA_5EF_LP'), region_ids))\n",
        "\n",
        "values = [result['mean'] for result in statistics19]\n",
        "\n",
        "plt.figure(figsize=(8.5, 4)) \n",
        "plt.bar(region_names, values)\n",
        "plt.xlabel('Regiões')\n",
        "plt.ylabel('Valor de Média')\n",
        "plt.title('Mostrando média de 5EF_MT por região 2019')\n",
        "plt.show()"
      ],
      "metadata": {
        "colab": {
          "base_uri": "https://localhost:8080/",
          "height": 295
        },
        "outputId": "3f328a81-26fb-4c01-e901-c1c0f7367d3a",
        "id": "CGEHCF48Oup4"
      },
      "execution_count": null,
      "outputs": [
        {
          "output_type": "display_data",
          "data": {
            "text/plain": [
              "<Figure size 612x288 with 1 Axes>"
            ],
            "image/png": "[encoded data removed]"
          },
          "metadata": {
            "needs_background": "light"
          }
        }
      ]
    },
    {
      "cell_type": "markdown",
      "source": [
        "## MEDIA_5EF_MT"
      ],
      "metadata": {
        "id": "qfE_13QtOuqD"
      }
    },
    {
      "cell_type": "code",
      "source": [
        "regions = list(map(get_region_name, dados['ID_REGIAO'].unique()))\n",
        "region_ids = [int(region.split('-')[0]) for region in regions]\n",
        "region_names = [region.split('-')[1] for region in regions]\n",
        "\n",
        "statistics19 = list(map(lambda region_id: get_statistics_by_region(dados, region_id, 'MEDIA_5EF_MT'), region_ids))\n",
        "\n",
        "values = [result['mean'] for result in statistics19]\n",
        "\n",
        "plt.figure(figsize=(8.5, 4)) \n",
        "plt.bar(region_names, values)\n",
        "plt.xlabel('Regiões')\n",
        "plt.ylabel('Valor de Média')\n",
        "plt.title('Mostrando média de 5EF_MT por região 2019')\n",
        "plt.show()"
      ],
      "metadata": {
        "colab": {
          "base_uri": "https://localhost:8080/",
          "height": 54
        },
        "outputId": "2e9a19ac-9b2c-457a-eb95-4f97d6a0c713",
        "id": "aJgiVp8aOuqF"
      },
      "execution_count": null,
      "outputs": [
        {
          "output_type": "display_data",
          "data": {
            "text/plain": [
              "<Figure size 612x288 with 1 Axes>"
            ],
            "image/png": "[encoded data removed]"
          },
          "metadata": {
            "needs_background": "light"
          }
        }
      ]
    },
    {
      "cell_type": "markdown",
      "source": [
        "## MEDIA_9EF_LP"
      ],
      "metadata": {
        "id": "0cPZfLqtOuqL"
      }
    },
    {
      "cell_type": "code",
      "source": [
        "regions = list(map(get_region_name, dados['ID_REGIAO'].unique()))\n",
        "region_ids = [int(region.split('-')[0]) for region in regions]\n",
        "region_names = [region.split('-')[1] for region in regions]\n",
        "\n",
        "statistics19 = list(map(lambda region_id: get_statistics_by_region(dados, region_id, 'MEDIA_9EF_LP'), region_ids))\n",
        "\n",
        "values = [result['mean'] for result in statistics19]\n",
        "\n",
        "plt.figure(figsize=(8.5, 4)) \n",
        "plt.bar(region_names, values)\n",
        "plt.xlabel('Regiões')\n",
        "plt.ylabel('Valor de Média')\n",
        "plt.title('Mostrando média de 9EF_LP por região 2019')\n",
        "plt.show()"
      ],
      "metadata": {
        "colab": {
          "base_uri": "https://localhost:8080/",
          "height": 54
        },
        "outputId": "51017b31-95ea-4104-f722-11d084cfc65a",
        "id": "0bONqFLtOuqL"
      },
      "execution_count": null,
      "outputs": [
        {
          "output_type": "display_data",
          "data": {
            "text/plain": [
              "<Figure size 612x288 with 1 Axes>"
            ],
            "image/png": "[encoded data removed]"
          },
          "metadata": {
            "needs_background": "light"
          }
        }
      ]
    },
    {
      "cell_type": "markdown",
      "source": [
        "## MEDIA_9EF_MT"
      ],
      "metadata": {
        "id": "umKn9OlsOuqO"
      }
    },
    {
      "cell_type": "code",
      "source": [
        "regions = list(map(get_region_name, dados['ID_REGIAO'].unique()))\n",
        "region_ids = [int(region.split('-')[0]) for region in regions]\n",
        "region_names = [region.split('-')[1] for region in regions]\n",
        "\n",
        "statistics19 = list(map(lambda region_id: get_statistics_by_region(dados, region_id, 'MEDIA_9EF_MT'), region_ids))\n",
        "\n",
        "values = [result['mean'] for result in statistics19]\n",
        "\n",
        "plt.figure(figsize=(8.5, 4)) \n",
        "plt.bar(region_names, values)\n",
        "plt.xlabel('Regiões')\n",
        "plt.ylabel('Valor de Média')\n",
        "plt.title('Mostrando média de 9EF_MT por região 2019')\n",
        "plt.show()"
      ],
      "metadata": {
        "colab": {
          "base_uri": "https://localhost:8080/",
          "height": 54
        },
        "outputId": "abea9ddd-bb05-45e6-ce3d-bf38d44d93ad",
        "id": "GUfEdhR8OuqP"
      },
      "execution_count": null,
      "outputs": [
        {
          "output_type": "display_data",
          "data": {
            "text/plain": [
              "<Figure size 612x288 with 1 Axes>"
            ],
            "image/png": "[encoded data removed]"
          },
          "metadata": {
            "needs_background": "light"
          }
        }
      ]
    },
    {
      "cell_type": "markdown",
      "source": [
        "# Plotando gráficos para formação docente por estado"
      ],
      "metadata": {
        "id": "mtdkoXKfU8zj"
      }
    },
    {
      "cell_type": "markdown",
      "source": [
        "## PC_FORMACAO_DOCENTE_INICIAL"
      ],
      "metadata": {
        "id": "JcExX0-bU8zp"
      }
    },
    {
      "cell_type": "code",
      "source": [
        "states = list(map(get_uf_name, dados['ID_UF'].unique()))\n",
        "states_ids = [int(state.split('-')[0]) for state in states]\n",
        "states_names = [state.split('-')[1] for state in states]\n",
        "\n",
        "statistics = list(map(lambda state_id: get_statistics_by_state(dados, state_id, 'PC_FORMACAO_DOCENTE_INICIAL'), states_ids))\n",
        "\n",
        "values = [result['mean'] for result in statistics]\n",
        "\n",
        "plt.figure(figsize=(13.5, 4)) \n",
        "plt.bar(states_names, values)\n",
        "plt.xlabel('Estados')\n",
        "plt.ylabel('Valor de Média')\n",
        "plt.title('Mostrando média de formação de docentes inicial por estado 2019')\n",
        "plt.show()"
      ],
      "metadata": {
        "colab": {
          "base_uri": "https://localhost:8080/",
          "height": 295
        },
        "outputId": "315e8d22-da82-4549-83d5-35a8b3ef58c2",
        "id": "ThCDfXHiU8zt"
      },
      "execution_count": null,
      "outputs": [
        {
          "output_type": "display_data",
          "data": {
            "text/plain": [
              "<Figure size 972x288 with 1 Axes>"
            ],
            "image/png": "[encoded data removed]"
          },
          "metadata": {
            "needs_background": "light"
          }
        }
      ]
    },
    {
      "cell_type": "code",
      "source": [
        "states = list(map(get_uf_name, dados['ID_UF'].unique()))\n",
        "states_ids = [int(state.split('-')[0]) for state in states]\n",
        "states_names = [state.split('-')[1] for state in states]\n",
        "\n",
        "statistics = list(map(lambda state_id: get_statistics_by_state(dados17, state_id, 'PC_FORMACAO_DOCENTE_INICIAL'), states_ids))\n",
        "\n",
        "values = [result['mean'] for result in statistics]\n",
        "\n",
        "plt.figure(figsize=(13.5, 4)) \n",
        "plt.bar(states_names, values)\n",
        "plt.xlabel('Estados')\n",
        "plt.ylabel('Valor de Média')\n",
        "plt.title('Mostrando média de formação de docentes inicial por estado 2017')\n",
        "plt.show()"
      ],
      "metadata": {
        "colab": {
          "base_uri": "https://localhost:8080/",
          "height": 295
        },
        "id": "bNnq8AzWWnJp",
        "outputId": "75f215f9-5f25-426b-c911-0e663bda7f6e"
      },
      "execution_count": null,
      "outputs": [
        {
          "output_type": "display_data",
          "data": {
            "text/plain": [
              "<Figure size 972x288 with 1 Axes>"
            ],
            "image/png": "[encoded data removed]"
          },
          "metadata": {
            "needs_background": "light"
          }
        }
      ]
    },
    {
      "cell_type": "code",
      "source": [
        "# !pip install matplotlib==3.4.2 \n",
        "\n",
        "import matplotlib.pyplot as plt \n",
        "\n",
        "states = list(map(get_uf_name, dados['ID_UF'].unique()))\n",
        "states_ids = [int(state.split('-')[0]) for state in states]\n",
        "states_names = [state.split('-')[1] for state in states]\n",
        "\n",
        "statistics17 = list(map(lambda state_id: get_statistics_by_state(dados17, state_id, 'PC_FORMACAO_DOCENTE_INICIAL'), states_ids)) \n",
        "statistics19 = list(map(lambda state_id: get_statistics_by_state(dados, state_id, 'PC_FORMACAO_DOCENTE_INICIAL'), states_ids))\n",
        "\n",
        "values17 = [result['mean'] for result in statistics17]\n",
        "values19 = [result['mean'] for result in statistics19]\n",
        "\n",
        "x = np.arange(len(states))  # the label locations\n",
        "width = 0.35  # the width of the bars\n",
        "\n",
        "fig, ax = plt.subplots(figsize=(10.5,5.5))\n",
        "rects1 = ax.bar(x - width/2, values17, width, label='2017')\n",
        "rects2 = ax.bar(x + width/2, values19, width, label='2019')\n",
        "\n",
        "# Add some text for labels, title and custom x-axis tick labels, etc.\n",
        "ax.set_ylabel('Média')\n",
        "ax.set_title('Comparando resultado da media _5RF_LP de 2017 e 2019')\n",
        "ax.set_xticks(x)\n",
        "ax.set_xticklabels(states_names)\n",
        "ax.legend()\n",
        "\n",
        "# ax.bar_label(rects1, padding=3)\n",
        "# ax.bar_label(rects2, padding=3)\n",
        "\n",
        "fig.tight_layout()\n",
        "\n",
        "plt.show()"
      ],
      "metadata": {
        "colab": {
          "base_uri": "https://localhost:8080/",
          "height": 405
        },
        "id": "A3gEB6e2WnE0",
        "outputId": "3db061b2-f3cf-46f5-b075-a1d6bd61eb03"
      },
      "execution_count": null,
      "outputs": [
        {
          "output_type": "display_data",
          "data": {
            "text/plain": [
              "<Figure size 756x396 with 1 Axes>"
            ],
            "image/png": "[encoded data removed]"
          },
          "metadata": {
            "needs_background": "light"
          }
        }
      ]
    },
    {
      "cell_type": "markdown",
      "source": [
        "## PC_FORMACAO_DOCENTE_FINAL"
      ],
      "metadata": {
        "id": "wWSuTRc1U8z9"
      }
    },
    {
      "cell_type": "code",
      "source": [
        "states = list(map(get_uf_name, dados['ID_UF'].unique()))\n",
        "states_ids = [int(state.split('-')[0]) for state in states]\n",
        "states_names = [state.split('-')[1] for state in states]\n",
        "\n",
        "statistics = list(map(lambda state_id: get_statistics_by_state(dados, state_id, 'PC_FORMACAO_DOCENTE_FINAL'), states_ids))\n",
        "\n",
        "values = [result['mean'] for result in statistics]\n",
        "\n",
        "plt.figure(figsize=(13.5, 4)) \n",
        "plt.bar(states_names, values)\n",
        "plt.xlabel('Estados')\n",
        "plt.ylabel('Valor de Média')\n",
        "plt.title('Mostrando média de formação de docentes final por estado 2019')\n",
        "plt.show()"
      ],
      "metadata": {
        "colab": {
          "base_uri": "https://localhost:8080/",
          "height": 54
        },
        "outputId": "dea3a41a-a439-470e-8518-51534426cb85",
        "id": "kCcykJrbU8z_"
      },
      "execution_count": null,
      "outputs": [
        {
          "output_type": "display_data",
          "data": {
            "text/plain": [
              "<Figure size 972x288 with 1 Axes>"
            ],
            "image/png": "[encoded data removed]"
          },
          "metadata": {
            "needs_background": "light"
          }
        }
      ]
    },
    {
      "cell_type": "code",
      "source": [
        "states = list(map(get_uf_name, dados['ID_UF'].unique()))\n",
        "states_ids = [int(state.split('-')[0]) for state in states]\n",
        "states_names = [state.split('-')[1] for state in states]\n",
        "\n",
        "statistics = list(map(lambda state_id: get_statistics_by_state(dados17, state_id, 'PC_FORMACAO_DOCENTE_FINAL'), states_ids))\n",
        "\n",
        "values = [result['mean'] for result in statistics]\n",
        "\n",
        "plt.figure(figsize=(13.5, 4)) \n",
        "plt.bar(states_names, values)\n",
        "plt.xlabel('Estados')\n",
        "plt.ylabel('Valor de Média')\n",
        "plt.title('Mostrando média de formação de docentes final por estado 2017')\n",
        "plt.show()"
      ],
      "metadata": {
        "colab": {
          "base_uri": "https://localhost:8080/",
          "height": 54
        },
        "id": "6kJ90RbuW5wJ",
        "outputId": "e5af78fe-aa18-4071-dea3-a08eba213a2d"
      },
      "execution_count": null,
      "outputs": [
        {
          "output_type": "display_data",
          "data": {
            "text/plain": [
              "<Figure size 972x288 with 1 Axes>"
            ],
            "image/png": "[encoded data removed]"
          },
          "metadata": {
            "needs_background": "light"
          }
        }
      ]
    },
    {
      "cell_type": "code",
      "source": [
        "# !pip install matplotlib==3.4.2 \n",
        "\n",
        "import matplotlib.pyplot as plt \n",
        "\n",
        "states = list(map(get_uf_name, dados['ID_UF'].unique()))\n",
        "states_ids = [int(state.split('-')[0]) for state in states]\n",
        "states_names = [state.split('-')[1] for state in states]\n",
        "\n",
        "statistics17 = list(map(lambda state_id: get_statistics_by_state(dados17, state_id, 'PC_FORMACAO_DOCENTE_FINAL'), states_ids)) \n",
        "statistics19 = list(map(lambda state_id: get_statistics_by_state(dados, state_id, 'PC_FORMACAO_DOCENTE_FINAL'), states_ids))\n",
        "\n",
        "values17 = [result['mean'] for result in statistics17]\n",
        "values19 = [result['mean'] for result in statistics19]\n",
        "\n",
        "x = np.arange(len(states))  # the label locations\n",
        "width = 0.35  # the width of the bars\n",
        "\n",
        "fig, ax = plt.subplots(figsize=(10.5,5.5))\n",
        "rects1 = ax.bar(x - width/2, values17, width, label='2017')\n",
        "rects2 = ax.bar(x + width/2, values19, width, label='2019')\n",
        "\n",
        "# Add some text for labels, title and custom x-axis tick labels, etc.\n",
        "ax.set_ylabel('Média')\n",
        "ax.set_title('Comparando resultado da media formação anos finais docentes 2017 e 2019')\n",
        "ax.set_xticks(x)\n",
        "ax.set_xticklabels(states_names)\n",
        "ax.legend()\n",
        "\n",
        "# ax.bar_label(rects1, padding=3)\n",
        "# ax.bar_label(rects2, padding=3)\n",
        "\n",
        "fig.tight_layout()\n",
        "\n",
        "plt.show()"
      ],
      "metadata": {
        "colab": {
          "base_uri": "https://localhost:8080/",
          "height": 54
        },
        "id": "5jurRJrXW78k",
        "outputId": "7fe705fc-9934-44be-ef87-c099b9f4128a"
      },
      "execution_count": null,
      "outputs": [
        {
          "output_type": "display_data",
          "data": {
            "text/plain": [
              "<Figure size 756x396 with 1 Axes>"
            ],
            "image/png": "[encoded data removed]"
          },
          "metadata": {
            "needs_background": "light"
          }
        }
      ]
    },
    {
      "cell_type": "markdown",
      "source": [
        "# Plotando gráficos para nível sócio econômico por região"
      ],
      "metadata": {
        "id": "sIMtCMtaXwgU"
      }
    },
    {
      "cell_type": "code",
      "source": [
        "regions = list(map(get_region_name, dados['ID_REGIAO'].unique()))\n",
        "region_ids = [int(region.split('-')[0]) for region in regions]\n",
        "region_names = [region.split('-')[1] for region in regions]\n",
        "\n",
        "lvls = dados['NIVEL_SOCIO_ECONOMICO']\n",
        "lvls.dropna(inplace=True)\n",
        "lvls = lvls.unique()\n",
        "lvls = list(lvls)\n",
        "result = []\n",
        "for level in lvls:\n",
        "  result_lv = dados[dados['NIVEL_SOCIO_ECONOMICO']==level]\n",
        "  for region in region_ids:\n",
        "    result_region = result_lv[result_lv['ID_REGIAO']==region].shape[0]\n",
        "    result.append(result_region)"
      ],
      "metadata": {
        "id": "FuCjL6FdgN3b"
      },
      "execution_count": null,
      "outputs": []
    },
    {
      "cell_type": "code",
      "source": [
        "values = result\n",
        "\n",
        "plt.figure(figsize=(13.5, 4)) \n",
        "plt.bar(region_names, values)\n",
        "plt.xlabel('Estados')\n",
        "plt.ylabel('Valor de Média')\n",
        "plt.title('Mostrando média de formação de docentes inicial por estado 2019')\n",
        "plt.show()"
      ],
      "metadata": {
        "colab": {
          "base_uri": "https://localhost:8080/",
          "height": 669
        },
        "id": "66D2dU9XhMks",
        "outputId": "d32aafd0-54ac-4d40-f63b-48ac17007921"
      },
      "execution_count": null,
      "outputs": [
        {
          "output_type": "error",
          "ename": "ValueError",
          "evalue": "ignored",
          "traceback": [
            "\u001b[0;31m---------------------------------------------------------------------------\u001b[0m",
            "\u001b[0;31mValueError\u001b[0m                                Traceback (most recent call last)",
            "\u001b[0;32m<ipython-input-324-3db3118557fb>\u001b[0m in \u001b[0;36m<module>\u001b[0;34m()\u001b[0m\n\u001b[1;32m      2\u001b[0m \u001b[0;34m\u001b[0m\u001b[0m\n\u001b[1;32m      3\u001b[0m \u001b[0mplt\u001b[0m\u001b[0;34m.\u001b[0m\u001b[0mfigure\u001b[0m\u001b[0;34m(\u001b[0m\u001b[0mfigsize\u001b[0m\u001b[0;34m=\u001b[0m\u001b[0;34m(\u001b[0m\u001b[0;36m13.5\u001b[0m\u001b[0;34m,\u001b[0m \u001b[0;36m4\u001b[0m\u001b[0;34m)\u001b[0m\u001b[0;34m)\u001b[0m\u001b[0;34m\u001b[0m\u001b[0;34m\u001b[0m\u001b[0m\n\u001b[0;32m----> 4\u001b[0;31m \u001b[0mplt\u001b[0m\u001b[0;34m.\u001b[0m\u001b[0mbar\u001b[0m\u001b[0;34m(\u001b[0m\u001b[0mregion_names\u001b[0m\u001b[0;34m,\u001b[0m \u001b[0mvalues\u001b[0m\u001b[0;34m)\u001b[0m\u001b[0;34m\u001b[0m\u001b[0;34m\u001b[0m\u001b[0m\n\u001b[0m\u001b[1;32m      5\u001b[0m \u001b[0mplt\u001b[0m\u001b[0;34m.\u001b[0m\u001b[0mxlabel\u001b[0m\u001b[0;34m(\u001b[0m\u001b[0;34m'Estados'\u001b[0m\u001b[0;34m)\u001b[0m\u001b[0;34m\u001b[0m\u001b[0;34m\u001b[0m\u001b[0m\n\u001b[1;32m      6\u001b[0m \u001b[0mplt\u001b[0m\u001b[0;34m.\u001b[0m\u001b[0mylabel\u001b[0m\u001b[0;34m(\u001b[0m\u001b[0;34m'Valor de Média'\u001b[0m\u001b[0;34m)\u001b[0m\u001b[0;34m\u001b[0m\u001b[0;34m\u001b[0m\u001b[0m\n",
            "\u001b[0;32m/usr/local/lib/python3.7/dist-packages/matplotlib/pyplot.py\u001b[0m in \u001b[0;36mbar\u001b[0;34m(x, height, width, bottom, align, data, **kwargs)\u001b[0m\n\u001b[1;32m   2651\u001b[0m     return gca().bar(\n\u001b[1;32m   2652\u001b[0m         \u001b[0mx\u001b[0m\u001b[0;34m,\u001b[0m \u001b[0mheight\u001b[0m\u001b[0;34m,\u001b[0m \u001b[0mwidth\u001b[0m\u001b[0;34m=\u001b[0m\u001b[0mwidth\u001b[0m\u001b[0;34m,\u001b[0m \u001b[0mbottom\u001b[0m\u001b[0;34m=\u001b[0m\u001b[0mbottom\u001b[0m\u001b[0;34m,\u001b[0m \u001b[0malign\u001b[0m\u001b[0;34m=\u001b[0m\u001b[0malign\u001b[0m\u001b[0;34m,\u001b[0m\u001b[0;34m\u001b[0m\u001b[0;34m\u001b[0m\u001b[0m\n\u001b[0;32m-> 2653\u001b[0;31m         **({\"data\": data} if data is not None else {}), **kwargs)\n\u001b[0m\u001b[1;32m   2654\u001b[0m \u001b[0;34m\u001b[0m\u001b[0m\n\u001b[1;32m   2655\u001b[0m \u001b[0;34m\u001b[0m\u001b[0m\n",
            "\u001b[0;32m/usr/local/lib/python3.7/dist-packages/matplotlib/__init__.py\u001b[0m in \u001b[0;36minner\u001b[0;34m(ax, data, *args, **kwargs)\u001b[0m\n\u001b[1;32m   1359\u001b[0m     \u001b[0;32mdef\u001b[0m \u001b[0minner\u001b[0m\u001b[0;34m(\u001b[0m\u001b[0max\u001b[0m\u001b[0;34m,\u001b[0m \u001b[0;34m*\u001b[0m\u001b[0margs\u001b[0m\u001b[0;34m,\u001b[0m \u001b[0mdata\u001b[0m\u001b[0;34m=\u001b[0m\u001b[0;32mNone\u001b[0m\u001b[0;34m,\u001b[0m \u001b[0;34m**\u001b[0m\u001b[0mkwargs\u001b[0m\u001b[0;34m)\u001b[0m\u001b[0;34m:\u001b[0m\u001b[0;34m\u001b[0m\u001b[0;34m\u001b[0m\u001b[0m\n\u001b[1;32m   1360\u001b[0m         \u001b[0;32mif\u001b[0m \u001b[0mdata\u001b[0m \u001b[0;32mis\u001b[0m \u001b[0;32mNone\u001b[0m\u001b[0;34m:\u001b[0m\u001b[0;34m\u001b[0m\u001b[0;34m\u001b[0m\u001b[0m\n\u001b[0;32m-> 1361\u001b[0;31m             \u001b[0;32mreturn\u001b[0m \u001b[0mfunc\u001b[0m\u001b[0;34m(\u001b[0m\u001b[0max\u001b[0m\u001b[0;34m,\u001b[0m \u001b[0;34m*\u001b[0m\u001b[0mmap\u001b[0m\u001b[0;34m(\u001b[0m\u001b[0msanitize_sequence\u001b[0m\u001b[0;34m,\u001b[0m \u001b[0margs\u001b[0m\u001b[0;34m)\u001b[0m\u001b[0;34m,\u001b[0m \u001b[0;34m**\u001b[0m\u001b[0mkwargs\u001b[0m\u001b[0;34m)\u001b[0m\u001b[0;34m\u001b[0m\u001b[0;34m\u001b[0m\u001b[0m\n\u001b[0m\u001b[1;32m   1362\u001b[0m \u001b[0;34m\u001b[0m\u001b[0m\n\u001b[1;32m   1363\u001b[0m         \u001b[0mbound\u001b[0m \u001b[0;34m=\u001b[0m \u001b[0mnew_sig\u001b[0m\u001b[0;34m.\u001b[0m\u001b[0mbind\u001b[0m\u001b[0;34m(\u001b[0m\u001b[0max\u001b[0m\u001b[0;34m,\u001b[0m \u001b[0;34m*\u001b[0m\u001b[0margs\u001b[0m\u001b[0;34m,\u001b[0m \u001b[0;34m**\u001b[0m\u001b[0mkwargs\u001b[0m\u001b[0;34m)\u001b[0m\u001b[0;34m\u001b[0m\u001b[0;34m\u001b[0m\u001b[0m\n",
            "\u001b[0;32m/usr/local/lib/python3.7/dist-packages/matplotlib/axes/_axes.py\u001b[0m in \u001b[0;36mbar\u001b[0;34m(self, x, height, width, bottom, align, **kwargs)\u001b[0m\n\u001b[1;32m   2304\u001b[0m         x, height, width, y, linewidth, hatch = np.broadcast_arrays(\n\u001b[1;32m   2305\u001b[0m             \u001b[0;31m# Make args iterable too.\u001b[0m\u001b[0;34m\u001b[0m\u001b[0;34m\u001b[0m\u001b[0;34m\u001b[0m\u001b[0m\n\u001b[0;32m-> 2306\u001b[0;31m             np.atleast_1d(x), height, width, y, linewidth, hatch)\n\u001b[0m\u001b[1;32m   2307\u001b[0m \u001b[0;34m\u001b[0m\u001b[0m\n\u001b[1;32m   2308\u001b[0m         \u001b[0;31m# Now that units have been converted, set the tick locations.\u001b[0m\u001b[0;34m\u001b[0m\u001b[0;34m\u001b[0m\u001b[0;34m\u001b[0m\u001b[0m\n",
            "\u001b[0;32m<__array_function__ internals>\u001b[0m in \u001b[0;36mbroadcast_arrays\u001b[0;34m(*args, **kwargs)\u001b[0m\n",
            "\u001b[0;32m/usr/local/lib/python3.7/dist-packages/numpy/lib/stride_tricks.py\u001b[0m in \u001b[0;36mbroadcast_arrays\u001b[0;34m(subok, *args)\u001b[0m\n\u001b[1;32m    536\u001b[0m     \u001b[0margs\u001b[0m \u001b[0;34m=\u001b[0m \u001b[0;34m[\u001b[0m\u001b[0mnp\u001b[0m\u001b[0;34m.\u001b[0m\u001b[0marray\u001b[0m\u001b[0;34m(\u001b[0m\u001b[0m_m\u001b[0m\u001b[0;34m,\u001b[0m \u001b[0mcopy\u001b[0m\u001b[0;34m=\u001b[0m\u001b[0;32mFalse\u001b[0m\u001b[0;34m,\u001b[0m \u001b[0msubok\u001b[0m\u001b[0;34m=\u001b[0m\u001b[0msubok\u001b[0m\u001b[0;34m)\u001b[0m \u001b[0;32mfor\u001b[0m \u001b[0m_m\u001b[0m \u001b[0;32min\u001b[0m \u001b[0margs\u001b[0m\u001b[0;34m]\u001b[0m\u001b[0;34m\u001b[0m\u001b[0;34m\u001b[0m\u001b[0m\n\u001b[1;32m    537\u001b[0m \u001b[0;34m\u001b[0m\u001b[0m\n\u001b[0;32m--> 538\u001b[0;31m     \u001b[0mshape\u001b[0m \u001b[0;34m=\u001b[0m \u001b[0m_broadcast_shape\u001b[0m\u001b[0;34m(\u001b[0m\u001b[0;34m*\u001b[0m\u001b[0margs\u001b[0m\u001b[0;34m)\u001b[0m\u001b[0;34m\u001b[0m\u001b[0;34m\u001b[0m\u001b[0m\n\u001b[0m\u001b[1;32m    539\u001b[0m \u001b[0;34m\u001b[0m\u001b[0m\n\u001b[1;32m    540\u001b[0m     \u001b[0;32mif\u001b[0m \u001b[0mall\u001b[0m\u001b[0;34m(\u001b[0m\u001b[0marray\u001b[0m\u001b[0;34m.\u001b[0m\u001b[0mshape\u001b[0m \u001b[0;34m==\u001b[0m \u001b[0mshape\u001b[0m \u001b[0;32mfor\u001b[0m \u001b[0marray\u001b[0m \u001b[0;32min\u001b[0m \u001b[0margs\u001b[0m\u001b[0;34m)\u001b[0m\u001b[0;34m:\u001b[0m\u001b[0;34m\u001b[0m\u001b[0;34m\u001b[0m\u001b[0m\n",
            "\u001b[0;32m/usr/local/lib/python3.7/dist-packages/numpy/lib/stride_tricks.py\u001b[0m in \u001b[0;36m_broadcast_shape\u001b[0;34m(*args)\u001b[0m\n\u001b[1;32m    418\u001b[0m     \u001b[0;31m# use the old-iterator because np.nditer does not handle size 0 arrays\u001b[0m\u001b[0;34m\u001b[0m\u001b[0;34m\u001b[0m\u001b[0;34m\u001b[0m\u001b[0m\n\u001b[1;32m    419\u001b[0m     \u001b[0;31m# consistently\u001b[0m\u001b[0;34m\u001b[0m\u001b[0;34m\u001b[0m\u001b[0;34m\u001b[0m\u001b[0m\n\u001b[0;32m--> 420\u001b[0;31m     \u001b[0mb\u001b[0m \u001b[0;34m=\u001b[0m \u001b[0mnp\u001b[0m\u001b[0;34m.\u001b[0m\u001b[0mbroadcast\u001b[0m\u001b[0;34m(\u001b[0m\u001b[0;34m*\u001b[0m\u001b[0margs\u001b[0m\u001b[0;34m[\u001b[0m\u001b[0;34m:\u001b[0m\u001b[0;36m32\u001b[0m\u001b[0;34m]\u001b[0m\u001b[0;34m)\u001b[0m\u001b[0;34m\u001b[0m\u001b[0;34m\u001b[0m\u001b[0m\n\u001b[0m\u001b[1;32m    421\u001b[0m     \u001b[0;31m# unfortunately, it cannot handle 32 or more arguments directly\u001b[0m\u001b[0;34m\u001b[0m\u001b[0;34m\u001b[0m\u001b[0;34m\u001b[0m\u001b[0m\n\u001b[1;32m    422\u001b[0m     \u001b[0;32mfor\u001b[0m \u001b[0mpos\u001b[0m \u001b[0;32min\u001b[0m \u001b[0mrange\u001b[0m\u001b[0;34m(\u001b[0m\u001b[0;36m32\u001b[0m\u001b[0;34m,\u001b[0m \u001b[0mlen\u001b[0m\u001b[0;34m(\u001b[0m\u001b[0margs\u001b[0m\u001b[0;34m)\u001b[0m\u001b[0;34m,\u001b[0m \u001b[0;36m31\u001b[0m\u001b[0;34m)\u001b[0m\u001b[0;34m:\u001b[0m\u001b[0;34m\u001b[0m\u001b[0;34m\u001b[0m\u001b[0m\n",
            "\u001b[0;31mValueError\u001b[0m: shape mismatch: objects cannot be broadcast to a single shape"
          ]
        },
        {
          "output_type": "display_data",
          "data": {
            "text/plain": [
              "<Figure size 972x288 with 1 Axes>"
            ],
            "image/png": "[encoded data removed]"
          },
          "metadata": {
            "needs_background": "light"
          }
        }
      ]
    },
    {
      "cell_type": "code",
      "source": [
        ""
      ],
      "metadata": {
        "id": "gQ6-Z_yGhMd0"
      },
      "execution_count": null,
      "outputs": []
    }
  ],
  "metadata": {
    "colab": {
      "collapsed_sections": [
        "7RRPHy597nHZ",
        "6j4Y_xuXzOrG",
        "bRT3D-8tNNn4",
        "tsztlIhlNO1c",
        "8rVB5_jdNP23",
        "teBte7ziOupy",
        "2npsiJQDOup1",
        "qfE_13QtOuqD",
        "0cPZfLqtOuqL",
        "umKn9OlsOuqO",
        "JcExX0-bU8zp"
      ],
      "name": "AnaliseDeDados-Escolas_Por_Ano-SiDi-III.ipynb",
      "provenance": []
    },
    "kernelspec": {
      "display_name": "Python 3",
      "name": "python3"
    },
    "language_info": {
      "name": "python"
    }
  },
  "nbformat": 4,
  "nbformat_minor": 0
}