{
 "cells": [
  {
   "cell_type": "code",
   "execution_count": null,
   "metadata": {},
   "outputs": [],
   "source": [
    "import pandas as pd\n",
    "import numpy as np\n",
    "\n",
    "from sklearn.preprocessing import OrdinalEncoder\n",
    "from sklearn.preprocessing import OneHotEncoder\n",
    "from sklearn.preprocessing import LabelEncoder\n",
    "from sklearn.model_selection import train_test_split\n",
    "from sklearn.feature_selection import SelectKBest\n",
    "from sklearn.feature_selection import f_regression, mutual_info_regression, chi2\n",
    "from sklearn.preprocessing import StandardScaler, MinMaxScaler\n",
    "from sklearn.preprocessing import PowerTransformer\n",
    "from sklearn.preprocessing import RobustScaler\n",
    "\n",
    "from sklearn.metrics import mean_absolute_error, r2_score, mean_squared_error\n",
    "from sklearn.ensemble import RandomForestRegressor\n",
    "\n",
    "import warnings\n",
    "warnings.filterwarnings(\"ignore\")"
   ]
  },
  {
   "cell_type": "markdown",
   "metadata": {},
   "source": [
    "### **Objetivo: Analisar quais características da escola e da gestão escolar impacta na nota média de portugues do 5º ano na prova do SAEB da região Nordeste**"
   ]
  },
  {
   "cell_type": "markdown",
   "metadata": {},
   "source": [
    "# **Primeiro: REDUÇÃO DE DADOS**\n",
    "    Selecionar apenas os dados referentes ao objetivo da análise, ou seja, apenas os dados da escola (localização, região, nome da escola, quantidade de salas, etc.), gestão escolar e a nota média de português do 5º ano."
   ]
  },
  {
   "cell_type": "code",
   "execution_count": null,
   "metadata": {},
   "outputs": [
    {
     "data": {
      "text/html": [
       "<div>\n",
       "<style scoped>\n",
       "    .dataframe tbody tr th:only-of-type {\n",
       "        vertical-align: middle;\n",
       "    }\n",
       "\n",
       "    .dataframe tbody tr th {\n",
       "        vertical-align: top;\n",
       "    }\n",
       "\n",
       "    .dataframe thead th {\n",
       "        text-align: right;\n",
       "    }\n",
       "</style>\n",
       "<table border=\"1\" class=\"dataframe\">\n",
       "  <thead>\n",
       "    <tr style=\"text-align: right;\">\n",
       "      <th></th>\n",
       "      <th>ID_SAEB</th>\n",
       "      <th>ID_REGIAO</th>\n",
       "      <th>ID_UF</th>\n",
       "      <th>ID_MUNICIPIO</th>\n",
       "      <th>ID_AREA</th>\n",
       "      <th>ID_ESCOLA</th>\n",
       "      <th>ID_DEPENDENCIA_ADM</th>\n",
       "      <th>ID_LOCALIZACAO</th>\n",
       "      <th>PC_FORMACAO_DOCENTE_INICIAL</th>\n",
       "      <th>PC_FORMACAO_DOCENTE_FINAL</th>\n",
       "      <th>...</th>\n",
       "      <th>MEDIA_5EF_LP</th>\n",
       "      <th>MEDIA_5EF_MT</th>\n",
       "      <th>MEDIA_9EF_LP</th>\n",
       "      <th>MEDIA_9EF_MT</th>\n",
       "      <th>MEDIA_EMT_LP</th>\n",
       "      <th>MEDIA_EMT_MT</th>\n",
       "      <th>MEDIA_EMI_LP</th>\n",
       "      <th>MEDIA_EMI_MT</th>\n",
       "      <th>MEDIA_EM_LP</th>\n",
       "      <th>MEDIA_EM_MT</th>\n",
       "    </tr>\n",
       "  </thead>\n",
       "  <tbody>\n",
       "    <tr>\n",
       "      <th>0</th>\n",
       "      <td>2019</td>\n",
       "      <td>1</td>\n",
       "      <td>11</td>\n",
       "      <td>1100015</td>\n",
       "      <td>2</td>\n",
       "      <td>11024666</td>\n",
       "      <td>3</td>\n",
       "      <td>2</td>\n",
       "      <td>100.0</td>\n",
       "      <td>64.4</td>\n",
       "      <td>...</td>\n",
       "      <td>184.83</td>\n",
       "      <td>210.37</td>\n",
       "      <td>NaN</td>\n",
       "      <td>NaN</td>\n",
       "      <td>NaN</td>\n",
       "      <td>NaN</td>\n",
       "      <td>NaN</td>\n",
       "      <td>NaN</td>\n",
       "      <td>NaN</td>\n",
       "      <td>NaN</td>\n",
       "    </tr>\n",
       "    <tr>\n",
       "      <th>1</th>\n",
       "      <td>2019</td>\n",
       "      <td>1</td>\n",
       "      <td>11</td>\n",
       "      <td>1100015</td>\n",
       "      <td>2</td>\n",
       "      <td>11024682</td>\n",
       "      <td>2</td>\n",
       "      <td>1</td>\n",
       "      <td>100.0</td>\n",
       "      <td>80.4</td>\n",
       "      <td>...</td>\n",
       "      <td>223.45</td>\n",
       "      <td>245.12</td>\n",
       "      <td>NaN</td>\n",
       "      <td>NaN</td>\n",
       "      <td>NaN</td>\n",
       "      <td>NaN</td>\n",
       "      <td>NaN</td>\n",
       "      <td>NaN</td>\n",
       "      <td>NaN</td>\n",
       "      <td>NaN</td>\n",
       "    </tr>\n",
       "    <tr>\n",
       "      <th>2</th>\n",
       "      <td>2019</td>\n",
       "      <td>1</td>\n",
       "      <td>11</td>\n",
       "      <td>1100015</td>\n",
       "      <td>2</td>\n",
       "      <td>11024828</td>\n",
       "      <td>3</td>\n",
       "      <td>1</td>\n",
       "      <td>100.0</td>\n",
       "      <td>48.9</td>\n",
       "      <td>...</td>\n",
       "      <td>158.06</td>\n",
       "      <td>194.74</td>\n",
       "      <td>239.76</td>\n",
       "      <td>244.94</td>\n",
       "      <td>NaN</td>\n",
       "      <td>NaN</td>\n",
       "      <td>NaN</td>\n",
       "      <td>NaN</td>\n",
       "      <td>NaN</td>\n",
       "      <td>NaN</td>\n",
       "    </tr>\n",
       "    <tr>\n",
       "      <th>3</th>\n",
       "      <td>2019</td>\n",
       "      <td>1</td>\n",
       "      <td>11</td>\n",
       "      <td>1100015</td>\n",
       "      <td>2</td>\n",
       "      <td>11024968</td>\n",
       "      <td>2</td>\n",
       "      <td>1</td>\n",
       "      <td>NaN</td>\n",
       "      <td>NaN</td>\n",
       "      <td>...</td>\n",
       "      <td>NaN</td>\n",
       "      <td>NaN</td>\n",
       "      <td>NaN</td>\n",
       "      <td>NaN</td>\n",
       "      <td>306.34</td>\n",
       "      <td>313.39</td>\n",
       "      <td>NaN</td>\n",
       "      <td>NaN</td>\n",
       "      <td>306.34</td>\n",
       "      <td>313.39</td>\n",
       "    </tr>\n",
       "    <tr>\n",
       "      <th>4</th>\n",
       "      <td>2019</td>\n",
       "      <td>1</td>\n",
       "      <td>11</td>\n",
       "      <td>1100015</td>\n",
       "      <td>2</td>\n",
       "      <td>11025077</td>\n",
       "      <td>3</td>\n",
       "      <td>1</td>\n",
       "      <td>100.0</td>\n",
       "      <td>29.5</td>\n",
       "      <td>...</td>\n",
       "      <td>173.45</td>\n",
       "      <td>180.18</td>\n",
       "      <td>NaN</td>\n",
       "      <td>NaN</td>\n",
       "      <td>NaN</td>\n",
       "      <td>NaN</td>\n",
       "      <td>NaN</td>\n",
       "      <td>NaN</td>\n",
       "      <td>NaN</td>\n",
       "      <td>NaN</td>\n",
       "    </tr>\n",
       "  </tbody>\n",
       "</table>\n",
       "<p>5 rows × 137 columns</p>\n",
       "</div>"
      ],
      "text/plain": [
       "   ID_SAEB  ID_REGIAO  ID_UF  ID_MUNICIPIO  ID_AREA  ID_ESCOLA  \\\n",
       "0     2019          1     11       1100015        2   11024666   \n",
       "1     2019          1     11       1100015        2   11024682   \n",
       "2     2019          1     11       1100015        2   11024828   \n",
       "3     2019          1     11       1100015        2   11024968   \n",
       "4     2019          1     11       1100015        2   11025077   \n",
       "\n",
       "   ID_DEPENDENCIA_ADM  ID_LOCALIZACAO  PC_FORMACAO_DOCENTE_INICIAL  \\\n",
       "0                   3               2                        100.0   \n",
       "1                   2               1                        100.0   \n",
       "2                   3               1                        100.0   \n",
       "3                   2               1                          NaN   \n",
       "4                   3               1                        100.0   \n",
       "\n",
       "   PC_FORMACAO_DOCENTE_FINAL  ...  MEDIA_5EF_LP MEDIA_5EF_MT  MEDIA_9EF_LP  \\\n",
       "0                       64.4  ...        184.83       210.37           NaN   \n",
       "1                       80.4  ...        223.45       245.12           NaN   \n",
       "2                       48.9  ...        158.06       194.74        239.76   \n",
       "3                        NaN  ...           NaN          NaN           NaN   \n",
       "4                       29.5  ...        173.45       180.18           NaN   \n",
       "\n",
       "   MEDIA_9EF_MT  MEDIA_EMT_LP  MEDIA_EMT_MT  MEDIA_EMI_LP  MEDIA_EMI_MT  \\\n",
       "0           NaN           NaN           NaN           NaN           NaN   \n",
       "1           NaN           NaN           NaN           NaN           NaN   \n",
       "2        244.94           NaN           NaN           NaN           NaN   \n",
       "3           NaN        306.34        313.39           NaN           NaN   \n",
       "4           NaN           NaN           NaN           NaN           NaN   \n",
       "\n",
       "   MEDIA_EM_LP  MEDIA_EM_MT  \n",
       "0          NaN          NaN  \n",
       "1          NaN          NaN  \n",
       "2          NaN          NaN  \n",
       "3       306.34       313.39  \n",
       "4          NaN          NaN  \n",
       "\n",
       "[5 rows x 137 columns]"
      ]
     },
     "metadata": {},
     "output_type": "display_data"
    }
   ],
   "source": [
    "escolas = pd.read_csv(\"TS_ESCOLA.csv\", encoding = \"ISO-8859-1\", engine='python')\n",
    "escolas.head()"
   ]
  },
  {
   "cell_type": "code",
   "execution_count": null,
   "metadata": {},
   "outputs": [
    {
     "data": {
      "text/plain": [
       "(70606, 137)"
      ]
     },
     "metadata": {},
     "output_type": "display_data"
    }
   ],
   "source": [
    "escolas.shape"
   ]
  },
  {
   "cell_type": "code",
   "execution_count": null,
   "metadata": {},
   "outputs": [
    {
     "data": {
      "text/plain": [
       "Index(['ID_SAEB', 'ID_REGIAO', 'ID_UF', 'ID_MUNICIPIO', 'ID_AREA', 'ID_ESCOLA',\n",
       "       'ID_DEPENDENCIA_ADM', 'ID_LOCALIZACAO', 'PC_FORMACAO_DOCENTE_INICIAL',\n",
       "       'PC_FORMACAO_DOCENTE_FINAL',\n",
       "       ...\n",
       "       'MEDIA_5EF_LP', 'MEDIA_5EF_MT', 'MEDIA_9EF_LP', 'MEDIA_9EF_MT',\n",
       "       'MEDIA_EMT_LP', 'MEDIA_EMT_MT', 'MEDIA_EMI_LP', 'MEDIA_EMI_MT',\n",
       "       'MEDIA_EM_LP', 'MEDIA_EM_MT'],\n",
       "      dtype='object', length=137)"
      ]
     },
     "metadata": {},
     "output_type": "display_data"
    }
   ],
   "source": [
    "escolas.columns"
   ]
  },
  {
   "cell_type": "code",
   "execution_count": null,
   "metadata": {},
   "outputs": [
    {
     "data": {
      "text/html": [
       "<div>\n",
       "<style scoped>\n",
       "    .dataframe tbody tr th:only-of-type {\n",
       "        vertical-align: middle;\n",
       "    }\n",
       "\n",
       "    .dataframe tbody tr th {\n",
       "        vertical-align: top;\n",
       "    }\n",
       "\n",
       "    .dataframe thead th {\n",
       "        text-align: right;\n",
       "    }\n",
       "</style>\n",
       "<table border=\"1\" class=\"dataframe\">\n",
       "  <thead>\n",
       "    <tr style=\"text-align: right;\">\n",
       "      <th></th>\n",
       "      <th>ID_ESCOLA</th>\n",
       "      <th>ID_DEPENDENCIA_ADM</th>\n",
       "      <th>ID_LOCALIZACAO</th>\n",
       "      <th>PC_FORMACAO_DOCENTE_INICIAL</th>\n",
       "      <th>NIVEL_SOCIO_ECONOMICO</th>\n",
       "      <th>MEDIA_5EF_LP</th>\n",
       "    </tr>\n",
       "  </thead>\n",
       "  <tbody>\n",
       "    <tr>\n",
       "      <th>7944</th>\n",
       "      <td>21088179</td>\n",
       "      <td>2</td>\n",
       "      <td>1</td>\n",
       "      <td>NaN</td>\n",
       "      <td>Nível III</td>\n",
       "      <td>NaN</td>\n",
       "    </tr>\n",
       "    <tr>\n",
       "      <th>7945</th>\n",
       "      <td>21088357</td>\n",
       "      <td>3</td>\n",
       "      <td>1</td>\n",
       "      <td>92.5</td>\n",
       "      <td>Nível IV</td>\n",
       "      <td>216.02</td>\n",
       "    </tr>\n",
       "    <tr>\n",
       "      <th>7946</th>\n",
       "      <td>21088462</td>\n",
       "      <td>3</td>\n",
       "      <td>1</td>\n",
       "      <td>62.0</td>\n",
       "      <td>Nível III</td>\n",
       "      <td>210.52</td>\n",
       "    </tr>\n",
       "    <tr>\n",
       "      <th>7947</th>\n",
       "      <td>21088519</td>\n",
       "      <td>3</td>\n",
       "      <td>1</td>\n",
       "      <td>37.8</td>\n",
       "      <td>Nível III</td>\n",
       "      <td>195.74</td>\n",
       "    </tr>\n",
       "    <tr>\n",
       "      <th>7948</th>\n",
       "      <td>21088527</td>\n",
       "      <td>3</td>\n",
       "      <td>2</td>\n",
       "      <td>NaN</td>\n",
       "      <td>Nível III</td>\n",
       "      <td>NaN</td>\n",
       "    </tr>\n",
       "  </tbody>\n",
       "</table>\n",
       "</div>"
      ],
      "text/plain": [
       "      ID_ESCOLA  ID_DEPENDENCIA_ADM  ID_LOCALIZACAO  \\\n",
       "7944   21088179                   2               1   \n",
       "7945   21088357                   3               1   \n",
       "7946   21088462                   3               1   \n",
       "7947   21088519                   3               1   \n",
       "7948   21088527                   3               2   \n",
       "\n",
       "      PC_FORMACAO_DOCENTE_INICIAL NIVEL_SOCIO_ECONOMICO  MEDIA_5EF_LP  \n",
       "7944                          NaN             Nível III           NaN  \n",
       "7945                         92.5              Nível IV        216.02  \n",
       "7946                         62.0             Nível III        210.52  \n",
       "7947                         37.8             Nível III        195.74  \n",
       "7948                          NaN             Nível III           NaN  "
      ]
     },
     "metadata": {},
     "output_type": "display_data"
    }
   ],
   "source": [
    "# Seleciona apenas os dados da região Nordeste\n",
    "escolas = escolas[escolas[\"ID_REGIAO\"] == 2]\n",
    "\n",
    "# Identificando todos os atributos da escola e das notas de portugues do 5º ano\n",
    "#escolas = escolas.loc[:, [\"ID_SAEB\", \"ID_REGIAO\", \"ID_UF\", \"ID_MUNICIPIO\", \"ID_AREA\", \"ID_ESCOLA\",\n",
    "#                          \"ID_DEPENDENCIA_ADM\", \"ID_LOCALIZACAO\", \"PC_FORMACAO_DOCENTE_INICIAL\", \n",
    "#                          \"NIVEL_SOCIO_ECONOMICO\", \"NU_MATRICULADOS_CENSO_5EF\", \"NU_PRESENTES_5EF\",\n",
    "#                          \"TAXA_PARTICIPACAO_5EF\", \"NIVEL_0_LP5\", \"NIVEL_1_LP5\", \"NIVEL_2_LP5\",\n",
    "#                          \"NIVEL_3_LP5\", \"NIVEL_4_LP5\", \"NIVEL_5_LP5\", \"NIVEL_6_LP5\", \"NIVEL_7_LP5\",\n",
    "#                          \"NIVEL_8_LP5\", \"NIVEL_9_LP5\", \"MEDIA_5EF_LP\"]]\n",
    "\n",
    "\n",
    "# Selecionando apenas os atributos necessários\n",
    "# Atributos de IDs, Datas, UF, Area são descatados\n",
    "escolas = escolas.loc[:, [\"ID_ESCOLA\", \"ID_DEPENDENCIA_ADM\", \"ID_LOCALIZACAO\", \"PC_FORMACAO_DOCENTE_INICIAL\", \n",
    "                          \"NIVEL_SOCIO_ECONOMICO\", \"MEDIA_5EF_LP\"]]\n",
    "\n",
    "\n",
    "escolas.head()"
   ]
  },
  {
   "cell_type": "code",
   "execution_count": null,
   "metadata": {},
   "outputs": [
    {
     "data": {
      "text/plain": [
       "(24838, 6)"
      ]
     },
     "metadata": {},
     "output_type": "display_data"
    }
   ],
   "source": [
    "escolas.shape"
   ]
  },
  {
   "cell_type": "code",
   "execution_count": null,
   "metadata": {},
   "outputs": [
    {
     "data": {
      "text/plain": [
       "Index(['ID_ESCOLA', 'ID_DEPENDENCIA_ADM', 'ID_LOCALIZACAO',\n",
       "       'PC_FORMACAO_DOCENTE_INICIAL', 'NIVEL_SOCIO_ECONOMICO', 'MEDIA_5EF_LP'],\n",
       "      dtype='object')"
      ]
     },
     "metadata": {},
     "output_type": "display_data"
    }
   ],
   "source": [
    "escolas.columns"
   ]
  },
  {
   "cell_type": "code",
   "execution_count": null,
   "metadata": {},
   "outputs": [
    {
     "data": {
      "text/plain": [
       "ID_ESCOLA                        int64\n",
       "ID_DEPENDENCIA_ADM               int64\n",
       "ID_LOCALIZACAO                   int64\n",
       "PC_FORMACAO_DOCENTE_INICIAL    float64\n",
       "NIVEL_SOCIO_ECONOMICO           object\n",
       "MEDIA_5EF_LP                   float64\n",
       "dtype: object"
      ]
     },
     "metadata": {},
     "output_type": "display_data"
    }
   ],
   "source": [
    "escolas.dtypes"
   ]
  },
  {
   "cell_type": "code",
   "execution_count": null,
   "metadata": {},
   "outputs": [
    {
     "data": {
      "text/plain": [
       "MEDIA_5EF_LP                   10207\n",
       "PC_FORMACAO_DOCENTE_INICIAL     8050\n",
       "NIVEL_SOCIO_ECONOMICO            744\n",
       "ID_ESCOLA                          0\n",
       "ID_DEPENDENCIA_ADM                 0\n",
       "ID_LOCALIZACAO                     0\n",
       "dtype: int64"
      ]
     },
     "metadata": {},
     "output_type": "display_data"
    }
   ],
   "source": [
    "escolas.isnull().sum().sort_values(ascending=False)"
   ]
  },
  {
   "cell_type": "markdown",
   "metadata": {},
   "source": [
    "# **Segundo: INTEGRAÇÃO**"
   ]
  },
  {
   "cell_type": "code",
   "execution_count": null,
   "metadata": {},
   "outputs": [
    {
     "data": {
      "text/html": [
       "<div>\n",
       "<style scoped>\n",
       "    .dataframe tbody tr th:only-of-type {\n",
       "        vertical-align: middle;\n",
       "    }\n",
       "\n",
       "    .dataframe tbody tr th {\n",
       "        vertical-align: top;\n",
       "    }\n",
       "\n",
       "    .dataframe thead th {\n",
       "        text-align: right;\n",
       "    }\n",
       "</style>\n",
       "<table border=\"1\" class=\"dataframe\">\n",
       "  <thead>\n",
       "    <tr style=\"text-align: right;\">\n",
       "      <th></th>\n",
       "      <th>ID_SAEB</th>\n",
       "      <th>ID_REGIAO</th>\n",
       "      <th>ID_UF</th>\n",
       "      <th>ID_MUNICIPIO</th>\n",
       "      <th>ID_AREA</th>\n",
       "      <th>ID_ESCOLA</th>\n",
       "      <th>ID_DEPENDENCIA_ADM</th>\n",
       "      <th>ID_LOCALIZACAO</th>\n",
       "      <th>IN_PREENCHIMENTO_QUESTIONARIO</th>\n",
       "      <th>TX_RESP_Q001</th>\n",
       "      <th>...</th>\n",
       "      <th>TX_RESP_Q244</th>\n",
       "      <th>TX_RESP_Q245</th>\n",
       "      <th>TX_RESP_Q246</th>\n",
       "      <th>TX_RESP_Q247</th>\n",
       "      <th>TX_RESP_Q248</th>\n",
       "      <th>TX_RESP_Q249</th>\n",
       "      <th>TX_RESP_Q250</th>\n",
       "      <th>TX_RESP_Q251</th>\n",
       "      <th>TX_RESP_Q252</th>\n",
       "      <th>TX_RESP_Q253</th>\n",
       "    </tr>\n",
       "  </thead>\n",
       "  <tbody>\n",
       "    <tr>\n",
       "      <th>0</th>\n",
       "      <td>2019</td>\n",
       "      <td>1</td>\n",
       "      <td>11</td>\n",
       "      <td>1100015</td>\n",
       "      <td>2</td>\n",
       "      <td>11024666</td>\n",
       "      <td>3</td>\n",
       "      <td>2</td>\n",
       "      <td>1</td>\n",
       "      <td>A</td>\n",
       "      <td>...</td>\n",
       "      <td>NaN</td>\n",
       "      <td>NaN</td>\n",
       "      <td>NaN</td>\n",
       "      <td>NaN</td>\n",
       "      <td>NaN</td>\n",
       "      <td>NaN</td>\n",
       "      <td>NaN</td>\n",
       "      <td>NaN</td>\n",
       "      <td>D</td>\n",
       "      <td>D</td>\n",
       "    </tr>\n",
       "    <tr>\n",
       "      <th>1</th>\n",
       "      <td>2019</td>\n",
       "      <td>1</td>\n",
       "      <td>11</td>\n",
       "      <td>1100015</td>\n",
       "      <td>2</td>\n",
       "      <td>11024682</td>\n",
       "      <td>2</td>\n",
       "      <td>1</td>\n",
       "      <td>1</td>\n",
       "      <td>C</td>\n",
       "      <td>...</td>\n",
       "      <td>B</td>\n",
       "      <td>B</td>\n",
       "      <td>B</td>\n",
       "      <td>B</td>\n",
       "      <td>B</td>\n",
       "      <td>A</td>\n",
       "      <td>B</td>\n",
       "      <td>B</td>\n",
       "      <td>D</td>\n",
       "      <td>D</td>\n",
       "    </tr>\n",
       "    <tr>\n",
       "      <th>2</th>\n",
       "      <td>2019</td>\n",
       "      <td>1</td>\n",
       "      <td>11</td>\n",
       "      <td>1100015</td>\n",
       "      <td>2</td>\n",
       "      <td>11024828</td>\n",
       "      <td>3</td>\n",
       "      <td>1</td>\n",
       "      <td>1</td>\n",
       "      <td>C</td>\n",
       "      <td>...</td>\n",
       "      <td>NaN</td>\n",
       "      <td>NaN</td>\n",
       "      <td>NaN</td>\n",
       "      <td>NaN</td>\n",
       "      <td>NaN</td>\n",
       "      <td>NaN</td>\n",
       "      <td>NaN</td>\n",
       "      <td>NaN</td>\n",
       "      <td>C</td>\n",
       "      <td>C</td>\n",
       "    </tr>\n",
       "    <tr>\n",
       "      <th>3</th>\n",
       "      <td>2019</td>\n",
       "      <td>1</td>\n",
       "      <td>11</td>\n",
       "      <td>1100015</td>\n",
       "      <td>2</td>\n",
       "      <td>11024968</td>\n",
       "      <td>2</td>\n",
       "      <td>1</td>\n",
       "      <td>1</td>\n",
       "      <td>C</td>\n",
       "      <td>...</td>\n",
       "      <td>NaN</td>\n",
       "      <td>NaN</td>\n",
       "      <td>NaN</td>\n",
       "      <td>NaN</td>\n",
       "      <td>NaN</td>\n",
       "      <td>NaN</td>\n",
       "      <td>NaN</td>\n",
       "      <td>NaN</td>\n",
       "      <td>D</td>\n",
       "      <td>D</td>\n",
       "    </tr>\n",
       "    <tr>\n",
       "      <th>4</th>\n",
       "      <td>2019</td>\n",
       "      <td>1</td>\n",
       "      <td>11</td>\n",
       "      <td>1100015</td>\n",
       "      <td>2</td>\n",
       "      <td>11025077</td>\n",
       "      <td>3</td>\n",
       "      <td>1</td>\n",
       "      <td>1</td>\n",
       "      <td>C</td>\n",
       "      <td>...</td>\n",
       "      <td>NaN</td>\n",
       "      <td>NaN</td>\n",
       "      <td>NaN</td>\n",
       "      <td>NaN</td>\n",
       "      <td>NaN</td>\n",
       "      <td>NaN</td>\n",
       "      <td>NaN</td>\n",
       "      <td>NaN</td>\n",
       "      <td>B</td>\n",
       "      <td>C</td>\n",
       "    </tr>\n",
       "  </tbody>\n",
       "</table>\n",
       "<p>5 rows × 262 columns</p>\n",
       "</div>"
      ],
      "text/plain": [
       "   ID_SAEB  ID_REGIAO  ID_UF  ID_MUNICIPIO  ID_AREA  ID_ESCOLA  \\\n",
       "0     2019          1     11       1100015        2   11024666   \n",
       "1     2019          1     11       1100015        2   11024682   \n",
       "2     2019          1     11       1100015        2   11024828   \n",
       "3     2019          1     11       1100015        2   11024968   \n",
       "4     2019          1     11       1100015        2   11025077   \n",
       "\n",
       "   ID_DEPENDENCIA_ADM  ID_LOCALIZACAO  IN_PREENCHIMENTO_QUESTIONARIO  \\\n",
       "0                   3               2                              1   \n",
       "1                   2               1                              1   \n",
       "2                   3               1                              1   \n",
       "3                   2               1                              1   \n",
       "4                   3               1                              1   \n",
       "\n",
       "  TX_RESP_Q001  ...  TX_RESP_Q244  TX_RESP_Q245  TX_RESP_Q246  TX_RESP_Q247  \\\n",
       "0            A  ...           NaN           NaN           NaN           NaN   \n",
       "1            C  ...             B             B             B             B   \n",
       "2            C  ...           NaN           NaN           NaN           NaN   \n",
       "3            C  ...           NaN           NaN           NaN           NaN   \n",
       "4            C  ...           NaN           NaN           NaN           NaN   \n",
       "\n",
       "   TX_RESP_Q248  TX_RESP_Q249  TX_RESP_Q250  TX_RESP_Q251  TX_RESP_Q252  \\\n",
       "0           NaN           NaN           NaN           NaN             D   \n",
       "1             B             A             B             B             D   \n",
       "2           NaN           NaN           NaN           NaN             C   \n",
       "3           NaN           NaN           NaN           NaN             D   \n",
       "4           NaN           NaN           NaN           NaN             B   \n",
       "\n",
       "   TX_RESP_Q253  \n",
       "0             D  \n",
       "1             D  \n",
       "2             C  \n",
       "3             D  \n",
       "4             C  \n",
       "\n",
       "[5 rows x 262 columns]"
      ]
     },
     "metadata": {},
     "output_type": "display_data"
    }
   ],
   "source": [
    "diretores = pd.read_csv(\"TS_DIRETOR.csv\")\n",
    "diretores.head()"
   ]
  },
  {
   "cell_type": "code",
   "execution_count": null,
   "metadata": {},
   "outputs": [
    {
     "data": {
      "text/plain": [
       "(74176, 262)"
      ]
     },
     "metadata": {},
     "output_type": "display_data"
    }
   ],
   "source": [
    "diretores.shape"
   ]
  },
  {
   "cell_type": "code",
   "execution_count": null,
   "metadata": {},
   "outputs": [
    {
     "data": {
      "text/plain": [
       "Index(['ID_SAEB', 'ID_REGIAO', 'ID_UF', 'ID_MUNICIPIO', 'ID_AREA', 'ID_ESCOLA',\n",
       "       'ID_DEPENDENCIA_ADM', 'ID_LOCALIZACAO', 'IN_PREENCHIMENTO_QUESTIONARIO',\n",
       "       'TX_RESP_Q001',\n",
       "       ...\n",
       "       'TX_RESP_Q244', 'TX_RESP_Q245', 'TX_RESP_Q246', 'TX_RESP_Q247',\n",
       "       'TX_RESP_Q248', 'TX_RESP_Q249', 'TX_RESP_Q250', 'TX_RESP_Q251',\n",
       "       'TX_RESP_Q252', 'TX_RESP_Q253'],\n",
       "      dtype='object', length=262)"
      ]
     },
     "metadata": {},
     "output_type": "display_data"
    }
   ],
   "source": [
    "diretores.columns"
   ]
  },
  {
   "cell_type": "code",
   "execution_count": null,
   "metadata": {},
   "outputs": [
    {
     "data": {
      "text/html": [
       "<div>\n",
       "<style scoped>\n",
       "    .dataframe tbody tr th:only-of-type {\n",
       "        vertical-align: middle;\n",
       "    }\n",
       "\n",
       "    .dataframe tbody tr th {\n",
       "        vertical-align: top;\n",
       "    }\n",
       "\n",
       "    .dataframe thead th {\n",
       "        text-align: right;\n",
       "    }\n",
       "</style>\n",
       "<table border=\"1\" class=\"dataframe\">\n",
       "  <thead>\n",
       "    <tr style=\"text-align: right;\">\n",
       "      <th></th>\n",
       "      <th>ID_SAEB</th>\n",
       "      <th>ID_REGIAO</th>\n",
       "      <th>ID_UF</th>\n",
       "      <th>ID_MUNICIPIO</th>\n",
       "      <th>ID_AREA</th>\n",
       "      <th>ID_ESCOLA</th>\n",
       "      <th>ID_DEPENDENCIA_ADM</th>\n",
       "      <th>ID_LOCALIZACAO</th>\n",
       "      <th>IN_PREENCHIMENTO_QUESTIONARIO</th>\n",
       "      <th>TX_RESP_Q001</th>\n",
       "      <th>...</th>\n",
       "      <th>TX_RESP_Q247</th>\n",
       "      <th>TX_RESP_Q248</th>\n",
       "      <th>TX_RESP_Q249</th>\n",
       "      <th>TX_RESP_Q250</th>\n",
       "      <th>TX_RESP_Q251</th>\n",
       "      <th>TX_RESP_Q252</th>\n",
       "      <th>TX_RESP_Q253</th>\n",
       "      <th>PC_FORMACAO_DOCENTE_INICIAL</th>\n",
       "      <th>NIVEL_SOCIO_ECONOMICO</th>\n",
       "      <th>MEDIA_5EF_LP</th>\n",
       "    </tr>\n",
       "  </thead>\n",
       "  <tbody>\n",
       "    <tr>\n",
       "      <th>0</th>\n",
       "      <td>2019</td>\n",
       "      <td>2</td>\n",
       "      <td>21</td>\n",
       "      <td>2100055</td>\n",
       "      <td>2</td>\n",
       "      <td>21088179</td>\n",
       "      <td>2</td>\n",
       "      <td>1</td>\n",
       "      <td>1</td>\n",
       "      <td>C</td>\n",
       "      <td>...</td>\n",
       "      <td>NaN</td>\n",
       "      <td>NaN</td>\n",
       "      <td>NaN</td>\n",
       "      <td>NaN</td>\n",
       "      <td>NaN</td>\n",
       "      <td>D</td>\n",
       "      <td>D</td>\n",
       "      <td>NaN</td>\n",
       "      <td>Nível III</td>\n",
       "      <td>NaN</td>\n",
       "    </tr>\n",
       "    <tr>\n",
       "      <th>1</th>\n",
       "      <td>2019</td>\n",
       "      <td>2</td>\n",
       "      <td>21</td>\n",
       "      <td>2100055</td>\n",
       "      <td>2</td>\n",
       "      <td>21088357</td>\n",
       "      <td>3</td>\n",
       "      <td>1</td>\n",
       "      <td>1</td>\n",
       "      <td>D</td>\n",
       "      <td>...</td>\n",
       "      <td>B</td>\n",
       "      <td>B</td>\n",
       "      <td>B</td>\n",
       "      <td>B</td>\n",
       "      <td>B</td>\n",
       "      <td>E</td>\n",
       "      <td>E</td>\n",
       "      <td>92.5</td>\n",
       "      <td>Nível IV</td>\n",
       "      <td>216.02</td>\n",
       "    </tr>\n",
       "    <tr>\n",
       "      <th>2</th>\n",
       "      <td>2019</td>\n",
       "      <td>2</td>\n",
       "      <td>21</td>\n",
       "      <td>2100055</td>\n",
       "      <td>2</td>\n",
       "      <td>21088462</td>\n",
       "      <td>3</td>\n",
       "      <td>1</td>\n",
       "      <td>1</td>\n",
       "      <td>A</td>\n",
       "      <td>...</td>\n",
       "      <td>NaN</td>\n",
       "      <td>NaN</td>\n",
       "      <td>NaN</td>\n",
       "      <td>NaN</td>\n",
       "      <td>NaN</td>\n",
       "      <td>D</td>\n",
       "      <td>D</td>\n",
       "      <td>62.0</td>\n",
       "      <td>Nível III</td>\n",
       "      <td>210.52</td>\n",
       "    </tr>\n",
       "    <tr>\n",
       "      <th>3</th>\n",
       "      <td>2019</td>\n",
       "      <td>2</td>\n",
       "      <td>21</td>\n",
       "      <td>2100055</td>\n",
       "      <td>2</td>\n",
       "      <td>21088519</td>\n",
       "      <td>3</td>\n",
       "      <td>1</td>\n",
       "      <td>1</td>\n",
       "      <td>A</td>\n",
       "      <td>...</td>\n",
       "      <td>B</td>\n",
       "      <td>A</td>\n",
       "      <td>A</td>\n",
       "      <td>B</td>\n",
       "      <td>B</td>\n",
       "      <td>C</td>\n",
       "      <td>D</td>\n",
       "      <td>37.8</td>\n",
       "      <td>Nível III</td>\n",
       "      <td>195.74</td>\n",
       "    </tr>\n",
       "    <tr>\n",
       "      <th>4</th>\n",
       "      <td>2019</td>\n",
       "      <td>2</td>\n",
       "      <td>21</td>\n",
       "      <td>2100055</td>\n",
       "      <td>2</td>\n",
       "      <td>21088527</td>\n",
       "      <td>3</td>\n",
       "      <td>2</td>\n",
       "      <td>1</td>\n",
       "      <td>C</td>\n",
       "      <td>...</td>\n",
       "      <td>B</td>\n",
       "      <td>B</td>\n",
       "      <td>B</td>\n",
       "      <td>B</td>\n",
       "      <td>B</td>\n",
       "      <td>D</td>\n",
       "      <td>D</td>\n",
       "      <td>NaN</td>\n",
       "      <td>Nível III</td>\n",
       "      <td>NaN</td>\n",
       "    </tr>\n",
       "  </tbody>\n",
       "</table>\n",
       "<p>5 rows × 265 columns</p>\n",
       "</div>"
      ],
      "text/plain": [
       "   ID_SAEB  ID_REGIAO  ID_UF  ID_MUNICIPIO  ID_AREA  ID_ESCOLA  \\\n",
       "0     2019          2     21       2100055        2   21088179   \n",
       "1     2019          2     21       2100055        2   21088357   \n",
       "2     2019          2     21       2100055        2   21088462   \n",
       "3     2019          2     21       2100055        2   21088519   \n",
       "4     2019          2     21       2100055        2   21088527   \n",
       "\n",
       "   ID_DEPENDENCIA_ADM  ID_LOCALIZACAO  IN_PREENCHIMENTO_QUESTIONARIO  \\\n",
       "0                   2               1                              1   \n",
       "1                   3               1                              1   \n",
       "2                   3               1                              1   \n",
       "3                   3               1                              1   \n",
       "4                   3               2                              1   \n",
       "\n",
       "  TX_RESP_Q001  ...  TX_RESP_Q247  TX_RESP_Q248  TX_RESP_Q249  TX_RESP_Q250  \\\n",
       "0            C  ...           NaN           NaN           NaN           NaN   \n",
       "1            D  ...             B             B             B             B   \n",
       "2            A  ...           NaN           NaN           NaN           NaN   \n",
       "3            A  ...             B             A             A             B   \n",
       "4            C  ...             B             B             B             B   \n",
       "\n",
       "   TX_RESP_Q251  TX_RESP_Q252  TX_RESP_Q253  PC_FORMACAO_DOCENTE_INICIAL  \\\n",
       "0           NaN             D             D                          NaN   \n",
       "1             B             E             E                         92.5   \n",
       "2           NaN             D             D                         62.0   \n",
       "3             B             C             D                         37.8   \n",
       "4             B             D             D                          NaN   \n",
       "\n",
       "   NIVEL_SOCIO_ECONOMICO  MEDIA_5EF_LP  \n",
       "0              Nível III           NaN  \n",
       "1               Nível IV        216.02  \n",
       "2              Nível III        210.52  \n",
       "3              Nível III        195.74  \n",
       "4              Nível III           NaN  \n",
       "\n",
       "[5 rows x 265 columns]"
      ]
     },
     "metadata": {},
     "output_type": "display_data"
    }
   ],
   "source": [
    "m = pd.merge(diretores, escolas, how = 'inner', on = [\"ID_ESCOLA\", \"ID_DEPENDENCIA_ADM\", \"ID_LOCALIZACAO\"])\n",
    "m.head()"
   ]
  },
  {
   "cell_type": "code",
   "execution_count": null,
   "metadata": {},
   "outputs": [],
   "source": [
    "m.drop([\"ID_SAEB\", \"ID_REGIAO\", \"ID_UF\", \"ID_MUNICIPIO\", \"ID_AREA\", \"ID_ESCOLA\", \"TX_RESP_Q252\"], axis=1, inplace=True)"
   ]
  },
  {
   "cell_type": "code",
   "execution_count": null,
   "metadata": {},
   "outputs": [],
   "source": [
    "m[\"ID_LOCALIZACAO\"] = m[\"ID_LOCALIZACAO\"].replace([1, 2], [\"Urbana\", \"Rural\"])\n",
    "m[\"ID_DEPENDENCIA_ADM\"] = m[\"ID_DEPENDENCIA_ADM\"].replace([1, 2, 3, 4], [\"Federal\", \"Estadual\", \"Municipal\", \"Privada\"])\n",
    "\n"
   ]
  },
  {
   "cell_type": "code",
   "execution_count": null,
   "metadata": {},
   "outputs": [
    {
     "data": {
      "text/plain": [
       "(25089, 258)"
      ]
     },
     "metadata": {},
     "output_type": "display_data"
    }
   ],
   "source": [
    "m.shape"
   ]
  },
  {
   "cell_type": "code",
   "execution_count": null,
   "metadata": {},
   "outputs": [
    {
     "data": {
      "text/plain": [
       "Index(['ID_DEPENDENCIA_ADM', 'ID_LOCALIZACAO', 'IN_PREENCHIMENTO_QUESTIONARIO',\n",
       "       'TX_RESP_Q001', 'TX_RESP_Q002', 'TX_RESP_Q003', 'TX_RESP_Q004',\n",
       "       'TX_RESP_Q005', 'TX_RESP_Q006', 'TX_RESP_Q007',\n",
       "       ...\n",
       "       'TX_RESP_Q246', 'TX_RESP_Q247', 'TX_RESP_Q248', 'TX_RESP_Q249',\n",
       "       'TX_RESP_Q250', 'TX_RESP_Q251', 'TX_RESP_Q253',\n",
       "       'PC_FORMACAO_DOCENTE_INICIAL', 'NIVEL_SOCIO_ECONOMICO', 'MEDIA_5EF_LP'],\n",
       "      dtype='object', length=258)"
      ]
     },
     "metadata": {},
     "output_type": "display_data"
    }
   ],
   "source": [
    "m.columns"
   ]
  },
  {
   "cell_type": "code",
   "execution_count": null,
   "metadata": {},
   "outputs": [
    {
     "data": {
      "text/plain": [
       "ID_DEPENDENCIA_ADM                object\n",
       "ID_LOCALIZACAO                    object\n",
       "IN_PREENCHIMENTO_QUESTIONARIO      int64\n",
       "TX_RESP_Q001                      object\n",
       "TX_RESP_Q002                     float64\n",
       "                                  ...   \n",
       "TX_RESP_Q251                      object\n",
       "TX_RESP_Q253                      object\n",
       "PC_FORMACAO_DOCENTE_INICIAL      float64\n",
       "NIVEL_SOCIO_ECONOMICO             object\n",
       "MEDIA_5EF_LP                     float64\n",
       "Length: 258, dtype: object"
      ]
     },
     "metadata": {},
     "output_type": "display_data"
    }
   ],
   "source": [
    "m.dtypes"
   ]
  },
  {
   "cell_type": "code",
   "execution_count": null,
   "metadata": {},
   "outputs": [
    {
     "data": {
      "text/plain": [
       "TX_RESP_Q171    21792\n",
       "TX_RESP_Q174    21792\n",
       "TX_RESP_Q172    21792\n",
       "TX_RESP_Q170    21792\n",
       "TX_RESP_Q169    21792\n",
       "TX_RESP_Q168    21792\n",
       "TX_RESP_Q167    21792\n",
       "TX_RESP_Q173    21792\n",
       "TX_RESP_Q067    20992\n",
       "TX_RESP_Q065    20920\n",
       "TX_RESP_Q064    20920\n",
       "TX_RESP_Q063    20920\n",
       "TX_RESP_Q062    20920\n",
       "TX_RESP_Q061    20920\n",
       "TX_RESP_Q058    20920\n",
       "TX_RESP_Q060    20920\n",
       "TX_RESP_Q066    20920\n",
       "TX_RESP_Q059    20920\n",
       "TX_RESP_Q076    20861\n",
       "TX_RESP_Q077    20860\n",
       "dtype: int64"
      ]
     },
     "metadata": {},
     "output_type": "display_data"
    }
   ],
   "source": [
    "# Quantidade de valores ausentes em cada variável\n",
    "m.isnull().sum().sort_values(ascending=False)[0:20]"
   ]
  },
  {
   "cell_type": "code",
   "execution_count": null,
   "metadata": {},
   "outputs": [
    {
     "data": {
      "text/plain": [
       "TX_RESP_Q171    86.858783\n",
       "TX_RESP_Q174    86.858783\n",
       "TX_RESP_Q172    86.858783\n",
       "TX_RESP_Q170    86.858783\n",
       "TX_RESP_Q169    86.858783\n",
       "TX_RESP_Q168    86.858783\n",
       "TX_RESP_Q167    86.858783\n",
       "TX_RESP_Q173    86.858783\n",
       "TX_RESP_Q067    83.670134\n",
       "TX_RESP_Q065    83.383156\n",
       "TX_RESP_Q064    83.383156\n",
       "TX_RESP_Q063    83.383156\n",
       "TX_RESP_Q062    83.383156\n",
       "TX_RESP_Q061    83.383156\n",
       "TX_RESP_Q058    83.383156\n",
       "TX_RESP_Q060    83.383156\n",
       "TX_RESP_Q066    83.383156\n",
       "TX_RESP_Q059    83.383156\n",
       "TX_RESP_Q076    83.147993\n",
       "TX_RESP_Q077    83.144007\n",
       "dtype: float64"
      ]
     },
     "metadata": {},
     "output_type": "display_data"
    }
   ],
   "source": [
    "# Porcentagem de valores ausentes em cada variável\n",
    "(m.isnull().sum().sort_values(ascending=False)[0:20] / m.shape[0]) * 100"
   ]
  },
  {
   "cell_type": "code",
   "execution_count": null,
   "metadata": {},
   "outputs": [
    {
     "data": {
      "text/plain": [
       "B    3281\n",
       "A      16\n",
       "Name: TX_RESP_Q171, dtype: int64"
      ]
     },
     "metadata": {},
     "output_type": "display_data"
    }
   ],
   "source": [
    "m[\"TX_RESP_Q171\"].value_counts()"
   ]
  },
  {
   "cell_type": "markdown",
   "metadata": {},
   "source": [
    "# **Terceiro: LIMPEZA DE DADOS**"
   ]
  },
  {
   "cell_type": "code",
   "execution_count": null,
   "metadata": {},
   "outputs": [],
   "source": [
    "def Limpeza(variavelAlvo, dataset):\n",
    "    df = dataset.copy()\n",
    "\n",
    "    # 1 - Remove todas as LINHAS que possui valores ausentes na coluna ALVO\n",
    "    if (variavelAlvo != None):\n",
    "        df.dropna(subset=[variavelAlvo], inplace=True)\n",
    "\n",
    "    # 2 - Remove todas as COLUNAS que possui 30% ou mais de valores ausentes\n",
    "    columns = df.drop([variavelAlvo], axis=1).columns.tolist()\n",
    "    for index in columns:\n",
    "        if df[index].isnull().sum() >= ((df.shape[0] * 30) / 100):\n",
    "            df.drop([index], axis=1, inplace=True)\n",
    "\n",
    "    # 2 - Remove todas as COLUNAS que possui 30% ou mais de valores ausentes\n",
    "    columns = df.drop([variavelAlvo], axis=1).columns.tolist()\n",
    "    for index in columns:\n",
    "        if df[index].isnull().sum() >= ((df.shape[0] * 30) / 100):\n",
    "            df.drop([index], axis=1, inplace=True)\n",
    "\n",
    "    # 3 - Remove todas as LINHAS que possuem brancos, nulos e e símbolos especiais\n",
    "    df.replace(\".\", np.nan)\n",
    "    df.replace(\"*\", np.nan)\n",
    "    df.dropna(inplace=True)\n",
    "\n",
    "    # 4 - Remove dados duplicados\n",
    "    df.drop_duplicates(inplace=True)\n",
    "\n",
    "    # 5 - Remove todas as COLUNAS que possuem apenas um rótulo\n",
    "    columns = df.drop([variavelAlvo], axis=1).columns.tolist()\n",
    "    for index in columns:\n",
    "        if len(df[index].unique().tolist()) == 1:\n",
    "            df.drop([index], axis=1, inplace=True)\n",
    "    \n",
    "   \n",
    "\n",
    "    #print(df.shape, \"\\n\")\n",
    "\n",
    "    #print(df.isnull().sum().sort_values(ascending=False))\n",
    "\n",
    "    return df"
   ]
  },
  {
   "cell_type": "code",
   "execution_count": null,
   "metadata": {},
   "outputs": [],
   "source": [
    "m = Limpeza(\"MEDIA_5EF_LP\", m)"
   ]
  },
  {
   "cell_type": "code",
   "execution_count": null,
   "metadata": {},
   "outputs": [
    {
     "data": {
      "text/plain": [
       "(3332, 191)"
      ]
     },
     "metadata": {},
     "output_type": "display_data"
    }
   ],
   "source": [
    "m.shape"
   ]
  },
  {
   "cell_type": "code",
   "execution_count": null,
   "metadata": {},
   "outputs": [
    {
     "data": {
      "text/plain": [
       "ID_DEPENDENCIA_ADM    0.0\n",
       "TX_RESP_Q178          0.0\n",
       "TX_RESP_Q161          0.0\n",
       "TX_RESP_Q162          0.0\n",
       "TX_RESP_Q163          0.0\n",
       "TX_RESP_Q164          0.0\n",
       "TX_RESP_Q165          0.0\n",
       "TX_RESP_Q166          0.0\n",
       "TX_RESP_Q175          0.0\n",
       "TX_RESP_Q176          0.0\n",
       "TX_RESP_Q177          0.0\n",
       "TX_RESP_Q179          0.0\n",
       "TX_RESP_Q159          0.0\n",
       "TX_RESP_Q180          0.0\n",
       "TX_RESP_Q181          0.0\n",
       "TX_RESP_Q182          0.0\n",
       "TX_RESP_Q183          0.0\n",
       "TX_RESP_Q184          0.0\n",
       "TX_RESP_Q185          0.0\n",
       "TX_RESP_Q186          0.0\n",
       "dtype: float64"
      ]
     },
     "metadata": {},
     "output_type": "display_data"
    }
   ],
   "source": [
    "# Porcentagem de valores ausentes em cada variável\n",
    "(m.isnull().sum().sort_values(ascending=False)[0:20] / m.shape[0]) * 100"
   ]
  },
  {
   "cell_type": "code",
   "execution_count": null,
   "metadata": {},
   "outputs": [
    {
     "data": {
      "image/png": "[encoded data removed]",
      "text/plain": [
       "<Figure size 432x288 with 1 Axes>"
      ]
     },
     "metadata": {},
     "output_type": "display_data"
    }
   ],
   "source": [
    "import seaborn as sns\n",
    "import matplotlib.pyplot as plt\n",
    "\n",
    "fig = plt.figure(figsize=(6,4))\n",
    "sns.boxplot(x=m[\"MEDIA_5EF_LP\"])\n",
    "plt.show()"
   ]
  },
  {
   "cell_type": "markdown",
   "metadata": {},
   "source": [
    "* Os outliers não serão removidos, pois é possível escolas apresentarem notas superiores a outras"
   ]
  },
  {
   "cell_type": "code",
   "execution_count": null,
   "metadata": {},
   "outputs": [
    {
     "data": {
      "text/plain": [
       "Municipal    3148\n",
       "Estadual      184\n",
       "Name: ID_DEPENDENCIA_ADM, dtype: int64"
      ]
     },
     "metadata": {},
     "output_type": "display_data"
    }
   ],
   "source": [
    "m[\"ID_DEPENDENCIA_ADM\"].value_counts()"
   ]
  },
  {
   "cell_type": "markdown",
   "metadata": {},
   "source": [
    "# **Quarto: REDUÇÃO DE DADOS**"
   ]
  },
  {
   "cell_type": "code",
   "execution_count": null,
   "metadata": {},
   "outputs": [],
   "source": [
    "# Dividindo os dados em treino e teste\n",
    "def dividirDataset(dataset):\n",
    "    dataset_train, dataset_test = train_test_split(dataset, test_size=0.30, random_state=12)\n",
    "\n",
    "    return dataset_train, dataset_test"
   ]
  },
  {
   "cell_type": "markdown",
   "metadata": {},
   "source": [
    "# **Quinto: Transformação de Dados**"
   ]
  },
  {
   "cell_type": "markdown",
   "metadata": {},
   "source": [
    "#### **Codificação de Variáveis Categóricas**"
   ]
  },
  {
   "cell_type": "code",
   "execution_count": null,
   "metadata": {},
   "outputs": [],
   "source": [
    "# Transforma variáveis categóricas\n",
    "def codificar(dataset_train, dataset_test, classe):\n",
    "    categorico_ordinal = OrdinalEncoder()\n",
    "    categorico_nominal = OneHotEncoder(handle_unknown='ignore')\n",
    "    scaler = LabelEncoder()\n",
    " \n",
    "    if dataset_train[classe].dtype == object:\n",
    "        target_train = dataset_train[classe]\n",
    "        target_test = dataset_test[classe]\n",
    "\n",
    "        dataset_train.drop([classe], axis=1, inplace=True)\n",
    "        dataset_test.drop([classe], axis=1, inplace=True)\n",
    "\n",
    "        columns = dataset_train.select_dtypes(include=['object']).columns.tolist()\n",
    "\n",
    "        for index in columns:\n",
    "            # Transforma variáveis categóricas NOMINAL\n",
    "            if len(dataset_train[index].unique().tolist()) == 2:\n",
    "                dataset_train[index] = dataset_train[index].replace([\"A\", \"B\"], [1, 0])\n",
    "                dataset_test[index] = dataset_test[index].replace([\"A\", \"B\"], [1, 0])\n",
    "            \n",
    "            # Transforma variáveis categóricas NOMINAL\n",
    "            elif len(dataset_train[index].unique().tolist()) == 3:\n",
    "                transformed_train = categorico_nominal.fit_transform(dataset_train[[index]].values).toarray()\n",
    "                dataset_train[categorico_nominal.get_feature_names_out([index])] = transformed_train\n",
    "                dataset_train.drop([index], axis=1, inplace=True)\n",
    "\n",
    "                transformed_test = categorico_nominal.transform(dataset_test[[index]].values).toarray()\n",
    "                dataset_test[categorico_nominal.get_feature_names_out([index])] = transformed_test\n",
    "                dataset_test.drop([index], axis=1, inplace=True)\n",
    "            \n",
    "            # Transforma variáveis categoricas ORDINAL\n",
    "            elif len(dataset_train[index].unique().tolist()) >= 4:        \n",
    "                dataset_train[index] = categorico_ordinal.fit_transform(dataset_train[[index]])\n",
    "                dataset_test[index]  = categorico_ordinal.transform(dataset_test[[index]])\n",
    "        \n",
    "   \n",
    "        target_train = scaler.fit_transform(target_train) \n",
    "        target_test = scaler.transform(target_test)\n",
    "\n",
    "        dataset_train[classe] = target_train\n",
    "        dataset_test[classe] = target_test\n",
    "\n",
    "    else:\n",
    "        \n",
    "        df_ = dataset_train.drop([classe, \"ID_LOCALIZACAO\", \"ID_DEPENDENCIA_ADM\"], axis=1)\n",
    "\n",
    "        transformed_train = categorico_nominal.fit_transform(dataset_train[[\"ID_LOCALIZACAO\"]].values).toarray()\n",
    "        dataset_train[categorico_nominal.get_feature_names_out([\"ID_LOCALIZACAO\"])] = transformed_train\n",
    "        dataset_train.drop([\"ID_LOCALIZACAO\"], axis=1, inplace=True)\n",
    "\n",
    "        transformed_test = categorico_nominal.transform(dataset_test[[\"ID_LOCALIZACAO\"]].values).toarray()\n",
    "        dataset_test[categorico_nominal.get_feature_names_out([\"ID_LOCALIZACAO\"])] = transformed_test\n",
    "        dataset_test.drop([\"ID_LOCALIZACAO\"], axis=1, inplace=True)\n",
    "\n",
    "        transformed_train = categorico_nominal.fit_transform(dataset_train[[\"ID_DEPENDENCIA_ADM\"]].values).toarray()\n",
    "        dataset_train[categorico_nominal.get_feature_names_out([\"ID_DEPENDENCIA_ADM\"])] = transformed_train\n",
    "        dataset_train.drop([\"ID_DEPENDENCIA_ADM\"], axis=1, inplace=True)\n",
    "\n",
    "        transformed_test = categorico_nominal.transform(dataset_test[[\"ID_DEPENDENCIA_ADM\"]].values).toarray()\n",
    "        dataset_test[categorico_nominal.get_feature_names_out([\"ID_DEPENDENCIA_ADM\"])] = transformed_test\n",
    "        dataset_test.drop([\"ID_DEPENDENCIA_ADM\"], axis=1, inplace=True)\n",
    "\n",
    "        columns = df_.select_dtypes(include=['object']).columns.tolist()\n",
    "\n",
    "        for index in columns:\n",
    "            # Transforma variáveis categóricas NOMINAL\n",
    "            if len(dataset_train[index].unique().tolist()) == 2:\n",
    "                dataset_train[index] = dataset_train[index].replace([\"A\", \"B\"], [1, 0])\n",
    "                dataset_test[index] = dataset_test[index].replace([\"A\", \"B\"], [1, 0])\n",
    "            \n",
    "            # Transforma variáveis categóricas NOMINAL\n",
    "            elif len(dataset_train[index].unique().tolist()) == 3:\n",
    "                transformed_train = categorico_nominal.fit_transform(dataset_train[[index]].values).toarray()\n",
    "                dataset_train[categorico_nominal.get_feature_names_out([index])] = transformed_train\n",
    "                dataset_train.drop([index], axis=1, inplace=True)\n",
    "\n",
    "                transformed_test = categorico_nominal.transform(dataset_test[[index]].values).toarray()\n",
    "                dataset_test[categorico_nominal.get_feature_names_out([index])] = transformed_test\n",
    "                dataset_test.drop([index], axis=1, inplace=True)\n",
    "            \n",
    "            # Transforma variáveis categoricas ORDINAL\n",
    "            elif len(dataset_train[index].unique().tolist()) >= 4:        \n",
    "                dataset_train[index] = categorico_ordinal.fit_transform(dataset_train[[index]])\n",
    "                dataset_test[index]  = categorico_ordinal.transform(dataset_test[[index]])\n",
    "        \n",
    "\n",
    "    return dataset_train, dataset_test"
   ]
  },
  {
   "cell_type": "markdown",
   "metadata": {},
   "source": [
    "#### **Padronização de Dados**"
   ]
  },
  {
   "cell_type": "code",
   "execution_count": null,
   "metadata": {},
   "outputs": [],
   "source": [
    "# Transforma a escala dos dados\n",
    "def padronizar(dataset_train, dataset_test):\n",
    "    features = dataset_train.columns.tolist()\n",
    "\n",
    "    scaler = MinMaxScaler()\n",
    "    #scaler = StandardScaler()\n",
    "    #scaler = PowerTransformer(method=\"yeo-johnson\")\n",
    "    #scaler = RobustScaler()\n",
    "\n",
    "    dataset_train = scaler.fit_transform(dataset_train)\n",
    "    dataset_test  = scaler.transform(dataset_test) \n",
    "\n",
    "    dataset_train = pd.DataFrame(dataset_train, columns=features)\n",
    "    dataset_test = pd.DataFrame(dataset_test, columns=features)\n",
    "\n",
    "    return dataset_train, dataset_test"
   ]
  },
  {
   "cell_type": "code",
   "execution_count": null,
   "metadata": {},
   "outputs": [],
   "source": [
    "def transformer(dataset, classe):\n",
    "    \n",
    "    # Dividindo os dados em treino e teste\n",
    "    dataset_train, dataset_test = dividirDataset(dataset)\n",
    "    \n",
    "    # Transforma as variáveis categóricas\n",
    "    dataset_train, dataset_test = codificar(dataset_train, dataset_test, classe)\n",
    "\n",
    "    # Padronizar os dados\n",
    "    dataset_train, dataset_test = padronizar(dataset_train, dataset_test)\n",
    "\n",
    "    return dataset_train, dataset_test\n",
    "\n",
    "# Informe o dataset e o nome da classe ALVO\n",
    "dataset_train, dataset_test = transformer(m, \"MEDIA_5EF_LP\")"
   ]
  },
  {
   "cell_type": "code",
   "execution_count": null,
   "metadata": {},
   "outputs": [
    {
     "data": {
      "text/plain": [
       "((2332, 227), (1000, 227))"
      ]
     },
     "metadata": {},
     "output_type": "display_data"
    }
   ],
   "source": [
    "dataset_train.shape, dataset_test.shape"
   ]
  },
  {
   "cell_type": "code",
   "execution_count": null,
   "metadata": {},
   "outputs": [
    {
     "data": {
      "text/html": [
       "<div>\n",
       "<style scoped>\n",
       "    .dataframe tbody tr th:only-of-type {\n",
       "        vertical-align: middle;\n",
       "    }\n",
       "\n",
       "    .dataframe tbody tr th {\n",
       "        vertical-align: top;\n",
       "    }\n",
       "\n",
       "    .dataframe thead th {\n",
       "        text-align: right;\n",
       "    }\n",
       "</style>\n",
       "<table border=\"1\" class=\"dataframe\">\n",
       "  <thead>\n",
       "    <tr style=\"text-align: right;\">\n",
       "      <th></th>\n",
       "      <th>TX_RESP_Q001</th>\n",
       "      <th>TX_RESP_Q002</th>\n",
       "      <th>TX_RESP_Q004</th>\n",
       "      <th>TX_RESP_Q006</th>\n",
       "      <th>TX_RESP_Q008</th>\n",
       "      <th>TX_RESP_Q009</th>\n",
       "      <th>TX_RESP_Q010</th>\n",
       "      <th>TX_RESP_Q011</th>\n",
       "      <th>TX_RESP_Q012</th>\n",
       "      <th>TX_RESP_Q013</th>\n",
       "      <th>...</th>\n",
       "      <th>TX_RESP_Q162_C</th>\n",
       "      <th>TX_RESP_Q163_A</th>\n",
       "      <th>TX_RESP_Q163_B</th>\n",
       "      <th>TX_RESP_Q163_C</th>\n",
       "      <th>TX_RESP_Q164_A</th>\n",
       "      <th>TX_RESP_Q164_B</th>\n",
       "      <th>TX_RESP_Q164_C</th>\n",
       "      <th>TX_RESP_Q165_A</th>\n",
       "      <th>TX_RESP_Q165_B</th>\n",
       "      <th>TX_RESP_Q165_C</th>\n",
       "    </tr>\n",
       "  </thead>\n",
       "  <tbody>\n",
       "    <tr>\n",
       "      <th>0</th>\n",
       "      <td>0.6</td>\n",
       "      <td>0.371429</td>\n",
       "      <td>0.058824</td>\n",
       "      <td>0.071429</td>\n",
       "      <td>0.571429</td>\n",
       "      <td>0.571429</td>\n",
       "      <td>0.53125</td>\n",
       "      <td>0.333333</td>\n",
       "      <td>0.20</td>\n",
       "      <td>0.266667</td>\n",
       "      <td>...</td>\n",
       "      <td>0.0</td>\n",
       "      <td>1.0</td>\n",
       "      <td>0.0</td>\n",
       "      <td>0.0</td>\n",
       "      <td>1.0</td>\n",
       "      <td>0.0</td>\n",
       "      <td>0.0</td>\n",
       "      <td>1.0</td>\n",
       "      <td>0.0</td>\n",
       "      <td>0.0</td>\n",
       "    </tr>\n",
       "    <tr>\n",
       "      <th>1</th>\n",
       "      <td>0.8</td>\n",
       "      <td>0.171429</td>\n",
       "      <td>0.058824</td>\n",
       "      <td>0.071429</td>\n",
       "      <td>0.571429</td>\n",
       "      <td>0.571429</td>\n",
       "      <td>0.53125</td>\n",
       "      <td>0.133333</td>\n",
       "      <td>0.10</td>\n",
       "      <td>0.066667</td>\n",
       "      <td>...</td>\n",
       "      <td>0.0</td>\n",
       "      <td>1.0</td>\n",
       "      <td>0.0</td>\n",
       "      <td>0.0</td>\n",
       "      <td>1.0</td>\n",
       "      <td>0.0</td>\n",
       "      <td>0.0</td>\n",
       "      <td>1.0</td>\n",
       "      <td>0.0</td>\n",
       "      <td>0.0</td>\n",
       "    </tr>\n",
       "    <tr>\n",
       "      <th>2</th>\n",
       "      <td>0.4</td>\n",
       "      <td>0.514286</td>\n",
       "      <td>0.088235</td>\n",
       "      <td>0.107143</td>\n",
       "      <td>0.571429</td>\n",
       "      <td>0.571429</td>\n",
       "      <td>0.53125</td>\n",
       "      <td>0.133333</td>\n",
       "      <td>0.20</td>\n",
       "      <td>0.066667</td>\n",
       "      <td>...</td>\n",
       "      <td>0.0</td>\n",
       "      <td>1.0</td>\n",
       "      <td>0.0</td>\n",
       "      <td>0.0</td>\n",
       "      <td>1.0</td>\n",
       "      <td>0.0</td>\n",
       "      <td>0.0</td>\n",
       "      <td>1.0</td>\n",
       "      <td>0.0</td>\n",
       "      <td>0.0</td>\n",
       "    </tr>\n",
       "    <tr>\n",
       "      <th>3</th>\n",
       "      <td>0.4</td>\n",
       "      <td>0.285714</td>\n",
       "      <td>0.352941</td>\n",
       "      <td>0.071429</td>\n",
       "      <td>0.571429</td>\n",
       "      <td>0.571429</td>\n",
       "      <td>0.53125</td>\n",
       "      <td>0.133333</td>\n",
       "      <td>0.20</td>\n",
       "      <td>0.133333</td>\n",
       "      <td>...</td>\n",
       "      <td>0.0</td>\n",
       "      <td>1.0</td>\n",
       "      <td>0.0</td>\n",
       "      <td>0.0</td>\n",
       "      <td>1.0</td>\n",
       "      <td>0.0</td>\n",
       "      <td>0.0</td>\n",
       "      <td>1.0</td>\n",
       "      <td>0.0</td>\n",
       "      <td>0.0</td>\n",
       "    </tr>\n",
       "    <tr>\n",
       "      <th>4</th>\n",
       "      <td>0.4</td>\n",
       "      <td>0.257143</td>\n",
       "      <td>0.294118</td>\n",
       "      <td>0.357143</td>\n",
       "      <td>0.642857</td>\n",
       "      <td>0.571429</td>\n",
       "      <td>0.53125</td>\n",
       "      <td>0.100000</td>\n",
       "      <td>0.15</td>\n",
       "      <td>0.100000</td>\n",
       "      <td>...</td>\n",
       "      <td>0.0</td>\n",
       "      <td>1.0</td>\n",
       "      <td>0.0</td>\n",
       "      <td>0.0</td>\n",
       "      <td>1.0</td>\n",
       "      <td>0.0</td>\n",
       "      <td>0.0</td>\n",
       "      <td>1.0</td>\n",
       "      <td>0.0</td>\n",
       "      <td>0.0</td>\n",
       "    </tr>\n",
       "  </tbody>\n",
       "</table>\n",
       "<p>5 rows × 227 columns</p>\n",
       "</div>"
      ],
      "text/plain": [
       "   TX_RESP_Q001  TX_RESP_Q002  TX_RESP_Q004  TX_RESP_Q006  TX_RESP_Q008  \\\n",
       "0           0.6      0.371429      0.058824      0.071429      0.571429   \n",
       "1           0.8      0.171429      0.058824      0.071429      0.571429   \n",
       "2           0.4      0.514286      0.088235      0.107143      0.571429   \n",
       "3           0.4      0.285714      0.352941      0.071429      0.571429   \n",
       "4           0.4      0.257143      0.294118      0.357143      0.642857   \n",
       "\n",
       "   TX_RESP_Q009  TX_RESP_Q010  TX_RESP_Q011  TX_RESP_Q012  TX_RESP_Q013  ...  \\\n",
       "0      0.571429       0.53125      0.333333          0.20      0.266667  ...   \n",
       "1      0.571429       0.53125      0.133333          0.10      0.066667  ...   \n",
       "2      0.571429       0.53125      0.133333          0.20      0.066667  ...   \n",
       "3      0.571429       0.53125      0.133333          0.20      0.133333  ...   \n",
       "4      0.571429       0.53125      0.100000          0.15      0.100000  ...   \n",
       "\n",
       "   TX_RESP_Q162_C  TX_RESP_Q163_A  TX_RESP_Q163_B  TX_RESP_Q163_C  \\\n",
       "0             0.0             1.0             0.0             0.0   \n",
       "1             0.0             1.0             0.0             0.0   \n",
       "2             0.0             1.0             0.0             0.0   \n",
       "3             0.0             1.0             0.0             0.0   \n",
       "4             0.0             1.0             0.0             0.0   \n",
       "\n",
       "   TX_RESP_Q164_A  TX_RESP_Q164_B  TX_RESP_Q164_C  TX_RESP_Q165_A  \\\n",
       "0             1.0             0.0             0.0             1.0   \n",
       "1             1.0             0.0             0.0             1.0   \n",
       "2             1.0             0.0             0.0             1.0   \n",
       "3             1.0             0.0             0.0             1.0   \n",
       "4             1.0             0.0             0.0             1.0   \n",
       "\n",
       "   TX_RESP_Q165_B  TX_RESP_Q165_C  \n",
       "0             0.0             0.0  \n",
       "1             0.0             0.0  \n",
       "2             0.0             0.0  \n",
       "3             0.0             0.0  \n",
       "4             0.0             0.0  \n",
       "\n",
       "[5 rows x 227 columns]"
      ]
     },
     "metadata": {},
     "output_type": "display_data"
    }
   ],
   "source": [
    "dataset_train.head()"
   ]
  },
  {
   "cell_type": "code",
   "execution_count": null,
   "metadata": {},
   "outputs": [
    {
     "name": "stdout",
     "output_type": "stream",
     "text": [
      "0.99 0.0\n",
      "Com 95% de confiança, os dados NÃO são similares a uma distribuição normal\n",
      "0.03 0.02\n",
      "Com 95% de confiança, os dados NÃO são similares a uma distribuição normal\n",
      "4.89 [0.575 0.655 0.786 0.916 1.09 ] [15.  10.   5.   2.5  1. ]\n",
      "Com 95.0% de confiança, os dados NÃO são similares a uma distribuição normal\n"
     ]
    }
   ],
   "source": [
    "import scipy.stats as stats\n",
    "\n",
    "shapiro_test = stats.shapiro(dataset_train[\"MEDIA_5EF_LP\"])\n",
    "print(round(shapiro_test.statistic, 2), round(shapiro_test.pvalue, 2))\n",
    "\n",
    "if shapiro_test.pvalue > 0.05:\n",
    "    print(\"Com 95% de confiança, os dados são similares a uma distribuição normal\")\n",
    "else:\n",
    "    print(\"Com 95% de confiança, os dados NÃO são similares a uma distribuição normal\")\n",
    "\n",
    "\n",
    "media = np.mean(dataset_train[\"MEDIA_5EF_LP\"])\n",
    "std = np.std(dataset_train[\"MEDIA_5EF_LP\"])\n",
    "\n",
    "ks_test = stats.kstest(dataset_train[\"MEDIA_5EF_LP\"], cdf='norm', args=(media, std), N = len(dataset_train[\"MEDIA_5EF_LP\"]))\n",
    "print(round(ks_test.statistic, 2), round(ks_test.pvalue, 2))\n",
    "\n",
    "# Hipotese Nula (H0): Os dados seguem uma distribuição normal\n",
    "# Hipotese Alternativa (H1): Os dados não seguem uma distribuição normal\n",
    "# alpha = 0.05 => É o nível de significância, isto é, a probabilidade de rejeitarmos a hipótese nula quando ela é verdadeira.\n",
    "# Se p_value >= alpha => não rejeita a hipotese nula\n",
    "# Se p_value < alpha  => rejeita a hitopose nula \n",
    "\n",
    "if ks_test.pvalue >= 0.05:\n",
    "    print(\"Com 95% de confiança, os dados são similares a uma distribuição normal\")\n",
    "else:\n",
    "    print(\"Com 95% de confiança, os dados NÃO são similares a uma distribuição normal\")\n",
    "\n",
    "\n",
    "ad_test = stats.anderson(dataset_train[\"MEDIA_5EF_LP\"])\n",
    "print(round(ad_test.statistic, 2), ad_test.critical_values, ad_test.significance_level)\n",
    "\n",
    "if round(ad_test.statistic, 2) < ad_test.critical_values[2]:\n",
    "    print(\"Com \" + str(100 - ad_test.significance_level[2]) + \"% de confiança, os dados são similares a uma distribuição normal\")\n",
    "else: \n",
    "    print(\"Com \" + str(100 - ad_test.significance_level[2]) + \"% de confiança, os dados NÃO são similares a uma distribuição normal\")"
   ]
  },
  {
   "cell_type": "markdown",
   "metadata": {},
   "source": [
    "### **Separar as Variáveis da Classe Alvo**"
   ]
  },
  {
   "cell_type": "code",
   "execution_count": null,
   "metadata": {},
   "outputs": [
    {
     "name": "stdout",
     "output_type": "stream",
     "text": [
      "(2332, 226) (1000, 226)\n"
     ]
    }
   ],
   "source": [
    "def separarDados(dataset_train, dataset_test, classe):\n",
    "    X_train = dataset_train.drop([classe], axis=1)\n",
    "    y_train = dataset_train[classe]\n",
    "\n",
    "    X_test = dataset_test.drop([classe], axis=1)\n",
    "    y_test = dataset_test[classe]\n",
    "\n",
    "    return X_train, y_train, X_test, y_test\n",
    "\n",
    "X_train, y_train, X_test, y_test = separarDados(dataset_train, dataset_test, \"MEDIA_5EF_LP\")\n",
    "\n",
    "print(X_train.shape, X_test.shape)"
   ]
  },
  {
   "cell_type": "markdown",
   "metadata": {},
   "source": [
    "# **Sexto: SELEÇÃO DE ATRIBUTOS**\n",
    "\n",
    "    "
   ]
  },
  {
   "cell_type": "markdown",
   "metadata": {},
   "source": [
    "#### **Filtro**"
   ]
  },
  {
   "cell_type": "code",
   "execution_count": null,
   "metadata": {},
   "outputs": [
    {
     "name": "stdout",
     "output_type": "stream",
     "text": [
      "[ 16  23  28  31  38  39  51  53  56  67  68  69  73  87  88 108 123 133\n",
      " 136 137 138 139 159 167 169 170 173 174 193 194]\n"
     ]
    },
    {
     "data": {
      "text/plain": [
       "Index(['TX_RESP_Q020', 'TX_RESP_Q028', 'TX_RESP_Q034', 'TX_RESP_Q038',\n",
       "       'TX_RESP_Q047', 'TX_RESP_Q048', 'TX_RESP_Q081', 'TX_RESP_Q083',\n",
       "       'TX_RESP_Q086', 'TX_RESP_Q097', 'TX_RESP_Q098', 'TX_RESP_Q099',\n",
       "       'TX_RESP_Q103', 'TX_RESP_Q136', 'TX_RESP_Q137', 'TX_RESP_Q166',\n",
       "       'TX_RESP_Q189', 'TX_RESP_Q199', 'TX_RESP_Q202', 'TX_RESP_Q203',\n",
       "       'TX_RESP_Q204', 'TX_RESP_Q205', 'TX_RESP_Q225', 'TX_RESP_Q241',\n",
       "       'PC_FORMACAO_DOCENTE_INICIAL', 'NIVEL_SOCIO_ECONOMICO',\n",
       "       'ID_DEPENDENCIA_ADM_Estadual', 'ID_DEPENDENCIA_ADM_Municipal',\n",
       "       'TX_RESP_Q072_A', 'TX_RESP_Q072_B'],\n",
       "      dtype='object')"
      ]
     },
     "metadata": {},
     "output_type": "display_data"
    }
   ],
   "source": [
    "select = SelectKBest(f_regression, k=30) # a desvantagem é que tem que informar o número de k - número de atributos\n",
    "\n",
    "X_train_ = select.fit_transform(X_train, y_train)\n",
    "X_test_ = select.transform(X_test)\n",
    "\n",
    "features_mask_f1 = select.get_support(True)\n",
    "print(features_mask_f1)\n",
    "\n",
    "X_train_filter1 = X_train.iloc[:, features_mask_f1]\n",
    "X_test_filter1  = X_test.iloc[:, features_mask_f1]\n",
    "\n",
    "X_train_filter1.columns"
   ]
  },
  {
   "cell_type": "code",
   "execution_count": null,
   "metadata": {},
   "outputs": [
    {
     "name": "stdout",
     "output_type": "stream",
     "text": [
      "[  1   7   9  20  47  50  53  73  79  82  98 103 108 113 132 134 136 140\n",
      " 145 162 163 164 165 168 169 170 171 172 177 212]\n"
     ]
    },
    {
     "data": {
      "text/plain": [
       "Index(['TX_RESP_Q002', 'TX_RESP_Q011', 'TX_RESP_Q013', 'TX_RESP_Q025',\n",
       "       'TX_RESP_Q056', 'TX_RESP_Q080', 'TX_RESP_Q083', 'TX_RESP_Q103',\n",
       "       'TX_RESP_Q125', 'TX_RESP_Q128', 'TX_RESP_Q148', 'TX_RESP_Q153',\n",
       "       'TX_RESP_Q166', 'TX_RESP_Q179', 'TX_RESP_Q198', 'TX_RESP_Q200',\n",
       "       'TX_RESP_Q202', 'TX_RESP_Q206', 'TX_RESP_Q211', 'TX_RESP_Q228',\n",
       "       'TX_RESP_Q229', 'TX_RESP_Q230', 'TX_RESP_Q231', 'TX_RESP_Q253',\n",
       "       'PC_FORMACAO_DOCENTE_INICIAL', 'NIVEL_SOCIO_ECONOMICO',\n",
       "       'ID_LOCALIZACAO_Rural', 'ID_LOCALIZACAO_Urbana', 'TX_RESP_Q024_D',\n",
       "       'TX_RESP_Q161_B'],\n",
       "      dtype='object')"
      ]
     },
     "metadata": {},
     "output_type": "display_data"
    }
   ],
   "source": [
    "select = SelectKBest(mutual_info_regression, k=30) # a desvantagem é que tem que informar o número de k - número de atributos\n",
    "\n",
    "X_train_ = select.fit_transform(X_train, y_train)\n",
    "X_test_ = select.transform(X_test)\n",
    "\n",
    "features_mask_f2 = select.get_support(True)\n",
    "print(features_mask_f2)\n",
    "\n",
    "X_train_filter2 = X_train.iloc[:, features_mask_f2]\n",
    "X_test_filter2  = X_test.iloc[:, features_mask_f2]\n",
    "\n",
    "X_train_filter2.columns"
   ]
  },
  {
   "cell_type": "markdown",
   "metadata": {},
   "source": [
    "#### **Wrapper**"
   ]
  },
  {
   "cell_type": "code",
   "execution_count": null,
   "metadata": {},
   "outputs": [
    {
     "name": "stdout",
     "output_type": "stream",
     "text": [
      "[  1   2   3   4   5   6   7   8   9  10  11  12  13  14  15  16  17  47\n",
      "  73  78  82  98 103 134 135 136 137 168 169 170]\n"
     ]
    },
    {
     "data": {
      "text/plain": [
       "Index(['TX_RESP_Q002', 'TX_RESP_Q004', 'TX_RESP_Q006', 'TX_RESP_Q008',\n",
       "       'TX_RESP_Q009', 'TX_RESP_Q010', 'TX_RESP_Q011', 'TX_RESP_Q012',\n",
       "       'TX_RESP_Q013', 'TX_RESP_Q014', 'TX_RESP_Q015', 'TX_RESP_Q016',\n",
       "       'TX_RESP_Q017', 'TX_RESP_Q018', 'TX_RESP_Q019', 'TX_RESP_Q020',\n",
       "       'TX_RESP_Q021', 'TX_RESP_Q056', 'TX_RESP_Q103', 'TX_RESP_Q108',\n",
       "       'TX_RESP_Q128', 'TX_RESP_Q148', 'TX_RESP_Q153', 'TX_RESP_Q200',\n",
       "       'TX_RESP_Q201', 'TX_RESP_Q202', 'TX_RESP_Q203', 'TX_RESP_Q253',\n",
       "       'PC_FORMACAO_DOCENTE_INICIAL', 'NIVEL_SOCIO_ECONOMICO'],\n",
       "      dtype='object')"
      ]
     },
     "metadata": {},
     "output_type": "display_data"
    }
   ],
   "source": [
    "from sklearn.pipeline import Pipeline\n",
    "from sklearn.feature_selection import RFECV\n",
    "from sklearn.model_selection import RepeatedStratifiedKFold\n",
    "from sklearn.tree import DecisionTreeRegressor\n",
    "from sklearn.model_selection import cross_val_score\n",
    "from sklearn.feature_selection import RFE\n",
    "\n",
    "model = RandomForestRegressor(random_state=42)\n",
    "rfe = RFE(estimator=model, n_features_to_select=30)\n",
    "#rfe.fit(X_train, y_train)\n",
    "\n",
    "pipeline = Pipeline(steps=[('Feature Selection', rfe), ('Model',model)])\n",
    "pipeline.fit(X_train, y_train)\n",
    "\n",
    "features_mask_wp = rfe.get_support(True)\n",
    "print(features_mask_wp)\n",
    "\n",
    "X_train_filterwp = X_train.iloc[:, features_mask_wp]\n",
    "X_test_filterwp  = X_test.iloc[:, features_mask_wp]\n",
    "X_train_filterwp.columns"
   ]
  },
  {
   "cell_type": "code",
   "execution_count": null,
   "metadata": {},
   "outputs": [],
   "source": [
    "#model = RandomForestRegressor(random_state=42)\n",
    "#rfe = RFECV(estimator=model, min_features_to_select=30, cv=5, scoring='neg_mean_absolute_error')\n",
    "#rfe.fit(X_train, y_train)\n",
    "\n",
    "#pipeline = Pipeline(steps=[('Feature Selection', rfe), ('Model',model)])\n",
    "#pipeline.fit(X_train, y_train)\n",
    "\n",
    "#features_mask_wpcv = rfe.get_support(True)\n",
    "#print(features_mask_wpcv)\n",
    "\n",
    "#X_train_filterwpcv = X_train.iloc[:, features_mask_wpcv]\n",
    "#X_test_filterwpcv  = X_test.iloc[:, features_mask_wpcv]\n",
    "#X_train_filterwpcv.columns"
   ]
  },
  {
   "cell_type": "markdown",
   "metadata": {},
   "source": [
    "#### **Embedded**"
   ]
  },
  {
   "cell_type": "code",
   "execution_count": null,
   "metadata": {},
   "outputs": [
    {
     "name": "stdout",
     "output_type": "stream",
     "text": [
      "0.09\n",
      "0.18\n"
     ]
    }
   ],
   "source": [
    "ml = RandomForestRegressor(random_state=42)\n",
    "#ml = DecisionTreeRegressor(random_state=42)\n",
    "ml.fit(X_train, y_train)\n",
    "\n",
    "y_pred = ml.predict(X_test)\n",
    "\n",
    "mae = mean_absolute_error(y_test, y_pred)\n",
    "r2 = r2_score(y_test, y_pred)\n",
    "print(round(mae, 2))\n",
    "print(round(r2, 2))"
   ]
  },
  {
   "cell_type": "code",
   "execution_count": null,
   "metadata": {},
   "outputs": [
    {
     "name": "stdout",
     "output_type": "stream",
     "text": [
      "\n",
      "Embedded\n",
      "MAE: 0.09 R2: 0.18\n",
      "\n",
      "Filter f_regression\n",
      "MAE: 0.09 R2: 0.1\n",
      "\n",
      "Filter mutual_info_regression\n",
      "MAE: 0.09 R2: 0.12\n",
      "\n",
      "Wrapper\n",
      "MAE: 0.09 R2: 0.12\n"
     ]
    }
   ],
   "source": [
    "#Embedded =========================================================\n",
    "print(\"\\nEmbedded\")\n",
    "ml1 = RandomForestRegressor(random_state=42)\n",
    "ml1.fit(X_train, y_train)\n",
    "\n",
    "y_pred = ml1.predict(X_test)\n",
    "\n",
    "mae = mean_absolute_error(y_test, y_pred)\n",
    "r2 = r2_score(y_test, y_pred)\n",
    "print(\"MAE: {} R2: {}\".format(round(mae, 2), round(r2, 2)))\n",
    "\n",
    "#Filter 1 =========================================================\n",
    "print(\"\\nFilter f_regression\")\n",
    "ml2 = RandomForestRegressor(random_state=42)\n",
    "ml2.fit(X_train_filter1, y_train)\n",
    "\n",
    "y_pred = ml2.predict(X_test_filter1)\n",
    "\n",
    "mae = mean_absolute_error(y_test, y_pred)\n",
    "r2 = r2_score(y_test, y_pred)\n",
    "print(\"MAE: {} R2: {}\".format(round(mae, 2), round(r2, 2)))\n",
    "\n",
    "\n",
    "#Filter 2 =========================================================\n",
    "print(\"\\nFilter mutual_info_regression\")\n",
    "ml3 = RandomForestRegressor(random_state=42)\n",
    "ml3.fit(X_train_filter2, y_train)\n",
    "\n",
    "y_pred = ml3.predict(X_test_filter2)\n",
    "\n",
    "mae = mean_absolute_error(y_test, y_pred)\n",
    "r2 = r2_score(y_test, y_pred)\n",
    "print(\"MAE: {} R2: {}\".format(round(mae, 2), round(r2, 2)))\n",
    "\n",
    "#Wrapper =========================================================\n",
    "print(\"\\nWrapper\")\n",
    "ml4 = RandomForestRegressor(random_state=42)\n",
    "ml4.fit(X_train_filterwp, y_train)\n",
    "\n",
    "y_pred = ml4.predict(X_test_filterwp)\n",
    "\n",
    "mae = mean_absolute_error(y_test, y_pred)\n",
    "r2 = r2_score(y_test, y_pred)\n",
    "print(\"MAE: {} R2: {}\".format(round(mae, 2), round(r2, 2)))\n",
    "\n",
    "\n",
    "#Wrapper CV=========================================================\n",
    "#ml = RandomForestRegressor(random_state=42)\n",
    "#ml.fit(X_train_filterwpcv, y_train)\n",
    "\n",
    "#y_pred = ml.predict(X_test_filterwpcv)\n",
    "\n",
    "#mae = mean_absolute_error(y_test, y_pred)\n",
    "#r2 = r2_score(y_test, y_pred)\n",
    "#print(round(mae, 2))\n",
    "#print(round(r2, 2))"
   ]
  },
  {
   "cell_type": "code",
   "execution_count": null,
   "metadata": {},
   "outputs": [
    {
     "data": {
      "text/html": [
       "<div>\n",
       "<style scoped>\n",
       "    .dataframe tbody tr th:only-of-type {\n",
       "        vertical-align: middle;\n",
       "    }\n",
       "\n",
       "    .dataframe tbody tr th {\n",
       "        vertical-align: top;\n",
       "    }\n",
       "\n",
       "    .dataframe thead th {\n",
       "        text-align: right;\n",
       "    }\n",
       "</style>\n",
       "<table border=\"1\" class=\"dataframe\">\n",
       "  <thead>\n",
       "    <tr style=\"text-align: right;\">\n",
       "      <th></th>\n",
       "      <th>Importância</th>\n",
       "    </tr>\n",
       "  </thead>\n",
       "  <tbody>\n",
       "    <tr>\n",
       "      <th>PC_FORMACAO_DOCENTE_INICIAL</th>\n",
       "      <td>0.064873</td>\n",
       "    </tr>\n",
       "    <tr>\n",
       "      <th>OFERTA_REFORCO_ESCOLAR</th>\n",
       "      <td>0.041234</td>\n",
       "    </tr>\n",
       "    <tr>\n",
       "      <th>NIVEL_SOCIO_ECONOMICO</th>\n",
       "      <td>0.039065</td>\n",
       "    </tr>\n",
       "    <tr>\n",
       "      <th>ANOS_ATUAÇÃO_COMO_PROFESSOR</th>\n",
       "      <td>0.025213</td>\n",
       "    </tr>\n",
       "    <tr>\n",
       "      <th>ANOS_EXPERIENCIA_COMO_DIRETOR</th>\n",
       "      <td>0.024981</td>\n",
       "    </tr>\n",
       "    <tr>\n",
       "      <th>ANOS_EXPERIENCIA_DIRETOR_ESCOLA</th>\n",
       "      <td>0.019832</td>\n",
       "    </tr>\n",
       "    <tr>\n",
       "      <th>HORAS_ATENDIMENTO_INDIVIDUAL_PROFESSORES</th>\n",
       "      <td>0.016769</td>\n",
       "    </tr>\n",
       "    <tr>\n",
       "      <th>OUTRAS_ATIVIDADES_PARA_ESCOLA</th>\n",
       "      <td>0.015691</td>\n",
       "    </tr>\n",
       "    <tr>\n",
       "      <th>HORAS_GASTA_COM_SEGURANCA</th>\n",
       "      <td>0.015607</td>\n",
       "    </tr>\n",
       "    <tr>\n",
       "      <th>DEMANDAS_SECRETARIA_EDUCACAO</th>\n",
       "      <td>0.015147</td>\n",
       "    </tr>\n",
       "    <tr>\n",
       "      <th>ATENDIMENTO_ALUNOS</th>\n",
       "      <td>0.014380</td>\n",
       "    </tr>\n",
       "    <tr>\n",
       "      <th>REUNIAO_PROFESSORES</th>\n",
       "      <td>0.014031</td>\n",
       "    </tr>\n",
       "    <tr>\n",
       "      <th>HORAS_PRESTACAO_CONTAS</th>\n",
       "      <td>0.012627</td>\n",
       "    </tr>\n",
       "    <tr>\n",
       "      <th>HORAS_GERENCIAMENTO_CONFLITOS</th>\n",
       "      <td>0.012524</td>\n",
       "    </tr>\n",
       "    <tr>\n",
       "      <th>MERENDA</th>\n",
       "      <td>0.011012</td>\n",
       "    </tr>\n",
       "    <tr>\n",
       "      <th>ATENDIMENTO_AOS_PAIS</th>\n",
       "      <td>0.010945</td>\n",
       "    </tr>\n",
       "    <tr>\n",
       "      <th>HORAS TRABALHADAS NA ESCOLA</th>\n",
       "      <td>0.010006</td>\n",
       "    </tr>\n",
       "    <tr>\n",
       "      <th>MANUTENCAO_ESCOLA</th>\n",
       "      <td>0.009829</td>\n",
       "    </tr>\n",
       "    <tr>\n",
       "      <th>ETAPAS_EDUCACAO_INFANTIL_CRECHE</th>\n",
       "      <td>0.009540</td>\n",
       "    </tr>\n",
       "    <tr>\n",
       "      <th>QUANTIDADE_REFEICOES</th>\n",
       "      <td>0.009324</td>\n",
       "    </tr>\n",
       "    <tr>\n",
       "      <th>TX_RESP_Q253</th>\n",
       "      <td>0.009118</td>\n",
       "    </tr>\n",
       "    <tr>\n",
       "      <th>BALANÇO_AREA_EXTERNA</th>\n",
       "      <td>0.008643</td>\n",
       "    </tr>\n",
       "    <tr>\n",
       "      <th>LIVROS_DIDATICOS</th>\n",
       "      <td>0.008567</td>\n",
       "    </tr>\n",
       "    <tr>\n",
       "      <th>TX_RESP_Q200</th>\n",
       "      <td>0.008358</td>\n",
       "    </tr>\n",
       "    <tr>\n",
       "      <th>HORAS_TRABALHO_SEMANAL</th>\n",
       "      <td>0.008331</td>\n",
       "    </tr>\n",
       "    <tr>\n",
       "      <th>REUNIOES_CONSELHO_CLASSE</th>\n",
       "      <td>0.008256</td>\n",
       "    </tr>\n",
       "    <tr>\n",
       "      <th>HORAS_TRABALHADAS_ATIVIADES_EDUCACAO</th>\n",
       "      <td>0.008192</td>\n",
       "    </tr>\n",
       "    <tr>\n",
       "      <th>INFORMAR_ABANDONO_ESCOLAR_AO_CONSELHO_TUTELAR</th>\n",
       "      <td>0.007612</td>\n",
       "    </tr>\n",
       "    <tr>\n",
       "      <th>DISCUTE_TEMAS_COMUNITARIOS</th>\n",
       "      <td>0.007454</td>\n",
       "    </tr>\n",
       "    <tr>\n",
       "      <th>TX_RESP_Q203</th>\n",
       "      <td>0.007205</td>\n",
       "    </tr>\n",
       "  </tbody>\n",
       "</table>\n",
       "</div>"
      ],
      "text/plain": [
       "                                               Importância\n",
       "PC_FORMACAO_DOCENTE_INICIAL                       0.064873\n",
       "OFERTA_REFORCO_ESCOLAR                            0.041234\n",
       "NIVEL_SOCIO_ECONOMICO                             0.039065\n",
       "ANOS_ATUAÇÃO_COMO_PROFESSOR                       0.025213\n",
       "ANOS_EXPERIENCIA_COMO_DIRETOR                     0.024981\n",
       "ANOS_EXPERIENCIA_DIRETOR_ESCOLA                   0.019832\n",
       "HORAS_ATENDIMENTO_INDIVIDUAL_PROFESSORES          0.016769\n",
       "OUTRAS_ATIVIDADES_PARA_ESCOLA                     0.015691\n",
       "HORAS_GASTA_COM_SEGURANCA                         0.015607\n",
       "DEMANDAS_SECRETARIA_EDUCACAO                      0.015147\n",
       "ATENDIMENTO_ALUNOS                                0.014380\n",
       "REUNIAO_PROFESSORES                               0.014031\n",
       "HORAS_PRESTACAO_CONTAS                            0.012627\n",
       "HORAS_GERENCIAMENTO_CONFLITOS                     0.012524\n",
       "MERENDA                                           0.011012\n",
       "ATENDIMENTO_AOS_PAIS                              0.010945\n",
       "HORAS TRABALHADAS NA ESCOLA                       0.010006\n",
       "MANUTENCAO_ESCOLA                                 0.009829\n",
       "ETAPAS_EDUCACAO_INFANTIL_CRECHE                   0.009540\n",
       "QUANTIDADE_REFEICOES                              0.009324\n",
       "TX_RESP_Q253                                      0.009118\n",
       "BALANÇO_AREA_EXTERNA                              0.008643\n",
       "LIVROS_DIDATICOS                                  0.008567\n",
       "TX_RESP_Q200                                      0.008358\n",
       "HORAS_TRABALHO_SEMANAL                            0.008331\n",
       "REUNIOES_CONSELHO_CLASSE                          0.008256\n",
       "HORAS_TRABALHADAS_ATIVIADES_EDUCACAO              0.008192\n",
       "INFORMAR_ABANDONO_ESCOLAR_AO_CONSELHO_TUTELAR     0.007612\n",
       "DISCUTE_TEMAS_COMUNITARIOS                        0.007454\n",
       "TX_RESP_Q203                                      0.007205"
      ]
     },
     "metadata": {},
     "output_type": "display_data"
    }
   ],
   "source": [
    "feature_importance = pd.DataFrame(ml1.feature_importances_, index=X_train.columns, columns=[\"Importância\"]).sort_values(by=[\"Importância\"], ascending=False)\n",
    "feature_importance = feature_importance.iloc[0:30,:]\n",
    "feature_importance"
   ]
  },
  {
   "cell_type": "code",
   "execution_count": null,
   "metadata": {},
   "outputs": [],
   "source": [
    "X_train.rename(columns={'TX_RESP_Q202': 'OFERTA_REFORCO_ESCOLAR',\n",
    "                                   'TX_RESP_Q201': 'INFORMAR_ABANDONO_ESCOLAR_AO_CONSELHO_TUTELAR',\n",
    "                                   'TX_RESP_Q002': 'ANOS_ATUAÇÃO_COMO_PROFESSOR',\n",
    "                                   'TX_RESP_Q004': 'ANOS_EXPERIENCIA_DIRETOR_ESCOLA',\n",
    "                                   'TX_RESP_Q006': 'ANOS_EXPERIENCIA_COMO_DIRETOR',\n",
    "                                   'TX_RESP_Q016': 'HORAS_ATENDIMENTO_INDIVIDUAL_PROFESSORES',\n",
    "                                   'TX_RESP_Q158': 'PROJETO_POLITICO_PEDAGOGICO',\n",
    "                                   'TX_RESP_Q017': 'DEMANDAS_SECRETARIA_EDUCACAO',\n",
    "                                   'TX_RESP_Q011': 'HORAS_PRESTACAO_CONTAS',\n",
    "                                   'TX_RESP_Q014': 'HORAS_GERENCIAMENTO_CONFLITOS',\n",
    "                                   'TX_RESP_Q020': 'HORAS_GASTA_COM_SEGURANCA',\n",
    "                                   'TX_RESP_Q015': 'ATENDIMENTO_ALUNOS',\n",
    "                                   'TX_RESP_Q021': 'OUTRAS_ATIVIDADES_PARA_ESCOLA',\n",
    "                                   'TX_RESP_Q012': 'REUNIAO_PROFESSORES',\n",
    "                                   'TX_RESP_Q018': 'MERENDA',\n",
    "                                   'TX_RESP_Q013': 'ATENDIMENTO_AOS_PAIS',\n",
    "                                   'TX_RESP_Q019': 'MANUTENCAO_ESCOLA',\n",
    "                                   'TX_RESP_Q099': 'BALANÇO_AREA_EXTERNA',\n",
    "                                   'TX_RESP_Q034': 'ETAPAS_EDUCACAO_INFANTIL_CRECHE',\n",
    "                                   'TX_RESP_Q008': 'HORAS_TRABALHO_SEMANAL',\n",
    "                                   'TX_RESP_Q009': 'HORAS_TRABALHADAS_ATIVIADES_EDUCACAO',\n",
    "                                   'TX_RESP_Q010': 'HORAS TRABALHADAS NA ESCOLA',\n",
    "                                   'TX_RESP_Q131': 'REUNIOES_CONSELHO_CLASSE',\n",
    "                                   'TX_RESP_Q056': 'LIVROS_DIDATICOS',\n",
    "                                   'TX_RESP_Q128': 'DISCUTE_TEMAS_COMUNITARIOS',\n",
    "                                   'TX_RESP_Q148': 'QUANTIDADE_REFEICOES',\n",
    "                                   'TX_RESP_Q108': 'AVALICAO_PREDIO_ESCOLAR',\n",
    "                                   'TX_RESP_Q203': 'REPETÊNCIA_ESCOLAR'\n",
    "                                   }, inplace = True)"
   ]
  },
  {
   "cell_type": "code",
   "execution_count": null,
   "metadata": {},
   "outputs": [
    {
     "data": {
      "image/png": "[encoded data removed]",
      "text/plain": [
       "<Figure size 432x432 with 1 Axes>"
      ]
     },
     "metadata": {},
     "output_type": "display_data"
    }
   ],
   "source": [
    "feature_imp = pd.Series(ml1.feature_importances_, index=X_train.columns).sort_values(ascending=False)\n",
    "feature_imp = feature_imp[0:30]\n",
    "\n",
    "fig = plt.figure(figsize=(6,6))\n",
    "sns.barplot(x=feature_imp, y=feature_imp.index)\n",
    "plt.xlabel('Score de Importância da Feature')\n",
    "#plt.ylabel('Features')\n",
    "#plt.title(\"Visualizando a Importância de cada Feature\")\n",
    "plt.show()"
   ]
  }
 ],
 "metadata": {
  "kernelspec": {
   "display_name": "Python 3.10.4 64-bit",
   "language": "python",
   "name": "python3"
  },
  "language_info": {
   "codemirror_mode": {
    "name": "ipython",
    "version": 3
   },
   "file_extension": ".py",
   "mimetype": "text/x-python",
   "name": "python",
   "nbconvert_exporter": "python",
   "pygments_lexer": "ipython3",
   "version": "3.10.4"
  },
  "orig_nbformat": 4,
  "vscode": {
   "interpreter": {
    "hash": "d167dcf42ed62f21911d7d49cfe1e869c8f5ce3bae369b895db6f75af0326a38"
   }
  }
 },
 "nbformat": 4,
 "nbformat_minor": 2
}
